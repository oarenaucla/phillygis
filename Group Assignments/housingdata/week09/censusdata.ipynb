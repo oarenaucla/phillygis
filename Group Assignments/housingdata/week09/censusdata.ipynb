{
 "cells": [
  {
   "cell_type": "markdown",
   "id": "90d75048-b8bb-4484-83e0-3b3105e51640",
   "metadata": {},
   "source": [
    "# Group Assignment 4: Draft Final Data"
   ]
  },
  {
   "cell_type": "markdown",
   "id": "2b07120e-0001-4818-af67-d2ad182979b0",
   "metadata": {
    "tags": []
   },
   "source": [
    "## Team: Olivia Arena, Deja McCauley, Lindsey Morris, Cassie Truong ##"
   ]
  },
  {
   "cell_type": "markdown",
   "id": "edebc766-400a-47b3-b396-3879358478df",
   "metadata": {},
   "source": [
    "This notebook is the **housing section** of our group project on Logan Neighborhood in Philadelphia, PA. This revised note book addresses three different requirements for Week 7's group assignment: \n",
    "\n",
    "1) Narrows the scope of our research question\n",
    "2) Cleans up the code used in the housing portion of the midterm assignment \n",
    "3) Attempts to make an isochrome map\n",
    "\n",
    "**First:** Our revised research question is: *In terms of social infrastructure and the built environment, what community needs emerge as a priority for North Philadelphia’s Logan Neighborhood that could be addressed through the redevelopment of the Logan Triangle?*\n",
    "\n",
    "**Second:** Yoh provided helpful feedback on the technical aspects of our midterm assignment, which included a recommendation to streamline our code by reading in just one dataset for all of Philadelphia and then subsetting the six tracts that make up the Logan Neighborhood, which are 42101028000, 42101028100, 42101028200, 42101028300, 42101028400, 42101028500. Yoh also recommended that we create an outline around Logan to include on all our maps of the larger Philadelphia area. We wanted to standardize this outline across the cloropleth maps. \n",
    "\n",
    "**Third:** I am going to try to better clean some of the data in the Affordable Housing Developments dataset and then create a walkshed around housing projects in Logan to see how accessible the Logan Triangle is from housing investments. "
   ]
  },
  {
   "cell_type": "markdown",
   "id": "6e125d49-0a8c-4538-ae3f-7116dd242318",
   "metadata": {},
   "source": [
    "## Overview ##\n",
    "In conducting my initial visualizations of housing trends, I merge Census data and bring together housing variables and tract data for mapping. These data explore the current housing conditions in and around the Logan Triangle area of Philadelphia. Data are pulled from Census data via Social Explorer and the Philadelphia Open Data Portal. The two datasets include housing indicators from the ACS 5-Year Estimates (2017-2021) and a dataset of affordable housing projects financed by the Department of Housing and Community Development from 1994-2019. The priorities for this post-midterm update is to consolidate some of the coding steps, create visuals with a consistent color scheme, clear distinctions between Logan and Philadelphia to help with comparison (through the creation of a boundary), and layer to begin to add depth to our analysis. Some of the elements that this included are:\n",
    "\n",
    "\n",
    "- **First** , I read in the first dataset of housing indicators for all the census tracts that make up all of Philadelhpia.\n",
    "\n",
    "- **Step 2** , I read in a data from the Philadelphia census tracts with geometries on FIPS codes (downloaded from the Philadelphia Open Data Portal), bringing the geometries together with downloaded housing indicator output.\n",
    "\n",
    "- **Step 3**, I join these two datasets together on FIPS codes to be able to map data. \n",
    "\n",
    "- **Step 4**, I do exploration of the dataset to get a sense of it. I begin to make maps that compare the Logan Neighborhood to the larger Philadelphia area to get a sense of comparisons. \n",
    "\n",
    "\n",
    "#### Data Visualizations ####\n",
    "\n",
    "- **Static Maps** of home values with the Logan tracts outlined against all of Philadelphia\n",
    "- **Bar chart** with the type of projects for comparison\n",
    "- **Static Maps** with affordable housing projects from 25 years broken out by type \n",
    "- **Interactive Maps** with the rent data and project data overlaid and coded by type of project\n",
    "- Isochrome map with walksheds around housing projects\n"
   ]
  },
  {
   "cell_type": "markdown",
   "id": "e7e1938a-ee82-4c88-9171-3ffbf46e9b41",
   "metadata": {},
   "source": [
    "## Data Investigation ##\n",
    "Our first step is to import the libraries that we need to use."
   ]
  },
  {
   "cell_type": "code",
   "execution_count": 1,
   "id": "f9b84b2b-b657-4f3a-8e35-9b07e7601e67",
   "metadata": {},
   "outputs": [],
   "source": [
    "import pandas as pd\n",
    "import geopandas as gpd\n",
    "import matplotlib.pyplot as plt\n",
    "import folium"
   ]
  },
  {
   "cell_type": "markdown",
   "id": "e738b420-45e6-4c37-8928-2e4e3a46eb5d",
   "metadata": {},
   "source": [
    "Next, we read in the Census ACS 2017-2021 data that includes housing indicators, but we want to ensure that the geographic identifiers are read in as string variables.  "
   ]
  },
  {
   "cell_type": "code",
   "execution_count": 2,
   "id": "f2617bc8-5560-43ba-bc78-a90acd9ef9ce",
   "metadata": {},
   "outputs": [],
   "source": [
    "dfpa2 = pd.read_csv(\n",
    "    'data/censusdata2.csv',\n",
    "    dtype=\n",
    "    {\n",
    "        'Geo_STATE':str,\n",
    "        'Geo_COUNTY': str,\n",
    "        'Geo_TRACT':str, \n",
    "        'Geo_FIPS':str\n",
    "    }\n",
    ")\n"
   ]
  },
  {
   "cell_type": "markdown",
   "id": "3ec6d512-2a8d-4029-bfd8-f7394915780a",
   "metadata": {},
   "source": [
    "I am going to drop varaibles that do not have any data. "
   ]
  },
  {
   "cell_type": "code",
   "execution_count": 3,
   "id": "1be7b3e6-715f-4a1f-8c01-75d4b4dc1a75",
   "metadata": {},
   "outputs": [],
   "source": [
    "dfpa2 = dfpa2.dropna(axis=1,how=\"all\")"
   ]
  },
  {
   "cell_type": "markdown",
   "id": "b0fd531a-deba-4b04-8e7a-f3ab8a2d9f92",
   "metadata": {},
   "source": [
    "And keep columns that do!"
   ]
  },
  {
   "cell_type": "code",
   "execution_count": 4,
   "id": "d492617e-aca1-471e-aa8b-d475c5796db4",
   "metadata": {},
   "outputs": [],
   "source": [
    "columns_to_keep = ['Geo_FIPS',\n",
    "                   'A10057_001',\n",
    "                   'B10060_001',\n",
    "                   'B10060_002',\n",
    "                   'B10060_003',\n",
    "                   'PCT_B10060_002',\n",
    "                   'PCT_B10060_003',\n",
    "                   'A10045_001',\n",
    "                   'A10001_001',\n",
    "                   'A03001B_001',\n",
    "                   'PCT_A10010_002',\n",
    "                   'PCT_A10010_003',\n",
    "                   'PCT_A10010_004',\n",
    "                   'PCT_A10010_005',\n",
    "                   'PCT_A10010_006',\n",
    "                   'PCT_A10010_007',\n",
    "                   'PCT_A10010_008',\n",
    "                   'PCT_A10010_009',\n",
    "                   'PCT_A10010_010',]"
   ]
  },
  {
   "cell_type": "markdown",
   "id": "13cd43f4-e58b-4753-b25e-18a221e95389",
   "metadata": {},
   "source": [
    "I am making a new data frame that will include only the columns with data, and I will add in the names of these variables."
   ]
  },
  {
   "cell_type": "code",
   "execution_count": 5,
   "id": "0e788753-fc90-4003-a38e-ce6da1573956",
   "metadata": {},
   "outputs": [
    {
     "ename": "KeyError",
     "evalue": "\"None of [Index(['Geo_FIPS', 'A10057_001', 'B10060_001', 'B10060_002', 'B10060_003',\\n       'PCT_B10060_002', 'PCT_B10060_003', 'A10045_001', 'A10001_001',\\n       'A03001B_001', 'PCT_A10010_002', 'PCT_A10010_003', 'PCT_A10010_004',\\n       'PCT_A10010_005', 'PCT_A10010_006', 'PCT_A10010_007', 'PCT_A10010_008',\\n       'PCT_A10010_009', 'PCT_A10010_010'],\\n      dtype='object')] are in the [columns]\"",
     "output_type": "error",
     "traceback": [
      "\u001b[0;31m---------------------------------------------------------------------------\u001b[0m",
      "\u001b[0;31mKeyError\u001b[0m                                  Traceback (most recent call last)",
      "Cell \u001b[0;32mIn[5], line 1\u001b[0m\n\u001b[0;32m----> 1\u001b[0m dfphilly2 \u001b[38;5;241m=\u001b[39m \u001b[43mdfpa2\u001b[49m\u001b[43m[\u001b[49m\u001b[43mcolumns_to_keep\u001b[49m\u001b[43m]\u001b[49m\n",
      "File \u001b[0;32m/opt/conda/lib/python3.10/site-packages/pandas/core/frame.py:3811\u001b[0m, in \u001b[0;36mDataFrame.__getitem__\u001b[0;34m(self, key)\u001b[0m\n\u001b[1;32m   3809\u001b[0m     \u001b[38;5;28;01mif\u001b[39;00m is_iterator(key):\n\u001b[1;32m   3810\u001b[0m         key \u001b[38;5;241m=\u001b[39m \u001b[38;5;28mlist\u001b[39m(key)\n\u001b[0;32m-> 3811\u001b[0m     indexer \u001b[38;5;241m=\u001b[39m \u001b[38;5;28;43mself\u001b[39;49m\u001b[38;5;241;43m.\u001b[39;49m\u001b[43mcolumns\u001b[49m\u001b[38;5;241;43m.\u001b[39;49m\u001b[43m_get_indexer_strict\u001b[49m\u001b[43m(\u001b[49m\u001b[43mkey\u001b[49m\u001b[43m,\u001b[49m\u001b[43m \u001b[49m\u001b[38;5;124;43m\"\u001b[39;49m\u001b[38;5;124;43mcolumns\u001b[39;49m\u001b[38;5;124;43m\"\u001b[39;49m\u001b[43m)\u001b[49m[\u001b[38;5;241m1\u001b[39m]\n\u001b[1;32m   3813\u001b[0m \u001b[38;5;66;03m# take() does not accept boolean indexers\u001b[39;00m\n\u001b[1;32m   3814\u001b[0m \u001b[38;5;28;01mif\u001b[39;00m \u001b[38;5;28mgetattr\u001b[39m(indexer, \u001b[38;5;124m\"\u001b[39m\u001b[38;5;124mdtype\u001b[39m\u001b[38;5;124m\"\u001b[39m, \u001b[38;5;28;01mNone\u001b[39;00m) \u001b[38;5;241m==\u001b[39m \u001b[38;5;28mbool\u001b[39m:\n",
      "File \u001b[0;32m/opt/conda/lib/python3.10/site-packages/pandas/core/indexes/base.py:6113\u001b[0m, in \u001b[0;36mIndex._get_indexer_strict\u001b[0;34m(self, key, axis_name)\u001b[0m\n\u001b[1;32m   6110\u001b[0m \u001b[38;5;28;01melse\u001b[39;00m:\n\u001b[1;32m   6111\u001b[0m     keyarr, indexer, new_indexer \u001b[38;5;241m=\u001b[39m \u001b[38;5;28mself\u001b[39m\u001b[38;5;241m.\u001b[39m_reindex_non_unique(keyarr)\n\u001b[0;32m-> 6113\u001b[0m \u001b[38;5;28;43mself\u001b[39;49m\u001b[38;5;241;43m.\u001b[39;49m\u001b[43m_raise_if_missing\u001b[49m\u001b[43m(\u001b[49m\u001b[43mkeyarr\u001b[49m\u001b[43m,\u001b[49m\u001b[43m \u001b[49m\u001b[43mindexer\u001b[49m\u001b[43m,\u001b[49m\u001b[43m \u001b[49m\u001b[43maxis_name\u001b[49m\u001b[43m)\u001b[49m\n\u001b[1;32m   6115\u001b[0m keyarr \u001b[38;5;241m=\u001b[39m \u001b[38;5;28mself\u001b[39m\u001b[38;5;241m.\u001b[39mtake(indexer)\n\u001b[1;32m   6116\u001b[0m \u001b[38;5;28;01mif\u001b[39;00m \u001b[38;5;28misinstance\u001b[39m(key, Index):\n\u001b[1;32m   6117\u001b[0m     \u001b[38;5;66;03m# GH 42790 - Preserve name from an Index\u001b[39;00m\n",
      "File \u001b[0;32m/opt/conda/lib/python3.10/site-packages/pandas/core/indexes/base.py:6173\u001b[0m, in \u001b[0;36mIndex._raise_if_missing\u001b[0;34m(self, key, indexer, axis_name)\u001b[0m\n\u001b[1;32m   6171\u001b[0m     \u001b[38;5;28;01mif\u001b[39;00m use_interval_msg:\n\u001b[1;32m   6172\u001b[0m         key \u001b[38;5;241m=\u001b[39m \u001b[38;5;28mlist\u001b[39m(key)\n\u001b[0;32m-> 6173\u001b[0m     \u001b[38;5;28;01mraise\u001b[39;00m \u001b[38;5;167;01mKeyError\u001b[39;00m(\u001b[38;5;124mf\u001b[39m\u001b[38;5;124m\"\u001b[39m\u001b[38;5;124mNone of [\u001b[39m\u001b[38;5;132;01m{\u001b[39;00mkey\u001b[38;5;132;01m}\u001b[39;00m\u001b[38;5;124m] are in the [\u001b[39m\u001b[38;5;132;01m{\u001b[39;00maxis_name\u001b[38;5;132;01m}\u001b[39;00m\u001b[38;5;124m]\u001b[39m\u001b[38;5;124m\"\u001b[39m)\n\u001b[1;32m   6175\u001b[0m not_found \u001b[38;5;241m=\u001b[39m \u001b[38;5;28mlist\u001b[39m(ensure_index(key)[missing_mask\u001b[38;5;241m.\u001b[39mnonzero()[\u001b[38;5;241m0\u001b[39m]]\u001b[38;5;241m.\u001b[39munique())\n\u001b[1;32m   6176\u001b[0m \u001b[38;5;28;01mraise\u001b[39;00m \u001b[38;5;167;01mKeyError\u001b[39;00m(\u001b[38;5;124mf\u001b[39m\u001b[38;5;124m\"\u001b[39m\u001b[38;5;132;01m{\u001b[39;00mnot_found\u001b[38;5;132;01m}\u001b[39;00m\u001b[38;5;124m not in index\u001b[39m\u001b[38;5;124m\"\u001b[39m)\n",
      "\u001b[0;31mKeyError\u001b[0m: \"None of [Index(['Geo_FIPS', 'A10057_001', 'B10060_001', 'B10060_002', 'B10060_003',\\n       'PCT_B10060_002', 'PCT_B10060_003', 'A10045_001', 'A10001_001',\\n       'A03001B_001', 'PCT_A10010_002', 'PCT_A10010_003', 'PCT_A10010_004',\\n       'PCT_A10010_005', 'PCT_A10010_006', 'PCT_A10010_007', 'PCT_A10010_008',\\n       'PCT_A10010_009', 'PCT_A10010_010'],\\n      dtype='object')] are in the [columns]\""
     ]
    }
   ],
   "source": [
    "dfphilly2 = dfpa2[columns_to_keep]"
   ]
  },
  {
   "cell_type": "code",
   "execution_count": null,
   "id": "ba2074d9-31ed-401c-8da3-ae18df2e5efb",
   "metadata": {},
   "outputs": [],
   "source": [
    "dfphilly2.columns = ['FIPS',\n",
    "                   'Median Year Structure Built',\n",
    "                   'Owner Occupied Housing Units',\n",
    "                   'Owner Occupied Housing Units: White Alone, Not Hispanic or Latino Homeowners',\n",
    "                   'Owner Occupied Housing Units: Non-White Homeowners',\n",
    "                   '% Owner Occupied Housing Units: White Alone, Not Hispanic or Latino Homeowners',\n",
    "                   '% Owner Occupied Housing Units: Non-White Homeowners',\n",
    "                   'Owner-Occupied Housing Units',\n",
    "                   'Housing Units',\n",
    "                   'Renter-Occupied Housing Units',\n",
    "                   '% Households: with a Householder Who Is White Alone',\n",
    "                   '% Households: with a Householder Who Is Black or African  American Alone',\n",
    "                   '% Households: with a Householder Who Is American Indian and  Alaska Native Alone',\n",
    "                   '% Households: with a Householder Who Is Asian Alone',\n",
    "                   '% Households: with a Householder Who Is Native Hawaiian and  Other Pacific Islander Alone',\n",
    "                   '% Households: with a Householder Who Is Some Other Race Alone',\n",
    "                   '% Households: with a Householder Who Is Two or More Races',\n",
    "                   '% Households: with a Householder Who Is Hispanic or Latino',\n",
    "                   '% Households: with a Householder Who Is White Alone, Not  Hispanic or Latino',]\n"
   ]
  },
  {
   "cell_type": "markdown",
   "id": "bca64153-5c11-48d0-ae5f-3b329e6de3f6",
   "metadata": {},
   "source": [
    "Now, I am going to add these names to the corresponding columns and ensure that it works. "
   ]
  },
  {
   "cell_type": "code",
   "execution_count": null,
   "id": "62c0a623-66f0-4d2f-bb10-ce64cbb1d841",
   "metadata": {},
   "outputs": [],
   "source": [
    "columns = list(dfphilly2)\n",
    "columns"
   ]
  },
  {
   "cell_type": "markdown",
   "id": "4ed509df-0b81-45bb-934a-7bf0d8a04f22",
   "metadata": {},
   "source": [
    "To be able to map, I need to add in geographic data. I am importing a census tract file that includes geometries for all the tracts in Philly. "
   ]
  },
  {
   "cell_type": "code",
   "execution_count": null,
   "id": "12edc7ef-95d2-4bdd-8575-caf8fd8fef86",
   "metadata": {},
   "outputs": [],
   "source": [
    "tracts=gpd.read_file('data/Census_Tracts_2010.geojson')\n",
    "tracts.head()"
   ]
  },
  {
   "cell_type": "markdown",
   "id": "fea2436a-4321-4969-ad4d-5e401b078913",
   "metadata": {},
   "source": [
    "To keep the data more manageable, I am only going to keep the variables for the geometry and the identifier, which will become the FIPS code."
   ]
  },
  {
   "cell_type": "code",
   "execution_count": null,
   "id": "7798d4c8-63ee-4073-aea6-3571c8c473f7",
   "metadata": {},
   "outputs": [],
   "source": [
    "tracts = tracts[['TRACTCE10','geometry']]\n",
    "tracts.head()"
   ]
  },
  {
   "cell_type": "markdown",
   "id": "0633dbdc-19d6-4c13-a671-1ab4feb2b988",
   "metadata": {},
   "source": [
    "To make the full FIPS code variable, I take 42, because that is the state code for Pennsylvania and 101, the county code for Philadelphia and add those to the tract identifier."
   ]
  },
  {
   "cell_type": "code",
   "execution_count": null,
   "id": "685765c6-c463-4e81-bd78-322984346e8f",
   "metadata": {},
   "outputs": [],
   "source": [
    "tracts['FIPS'] ='42' + '101' + tracts['TRACTCE10']\n"
   ]
  },
  {
   "cell_type": "code",
   "execution_count": null,
   "id": "45648ce0-a0a0-48a2-b43f-96014998469e",
   "metadata": {},
   "outputs": [],
   "source": [
    "tracts.head()"
   ]
  },
  {
   "cell_type": "markdown",
   "id": "0abaf37e-bee7-4f8e-9ccc-7d0c871b06cb",
   "metadata": {},
   "source": [
    "Because the creation of the FIPS code worked in the step above, now my two datasets have a FIPS code variable. I can merge the two into a new dataset that has housing indicators and geometries to be able to map. "
   ]
  },
  {
   "cell_type": "code",
   "execution_count": null,
   "id": "69214df7-8e32-4ac9-b15f-17c7a67df553",
   "metadata": {},
   "outputs": [],
   "source": [
    "pa_housing2= tracts.merge(dfphilly2,on='FIPS')"
   ]
  },
  {
   "cell_type": "code",
   "execution_count": null,
   "id": "506d0a55-e946-452e-b5c1-d61069e35590",
   "metadata": {},
   "outputs": [],
   "source": [
    "pa_housing2.info()"
   ]
  },
  {
   "cell_type": "markdown",
   "id": "41859532-7145-4eb8-8ccd-7e798abb83f8",
   "metadata": {},
   "source": [
    "Now that the datasets have been merged to add geographic data, we are going to subset the graphics in Logan and create a boundary for clearer comparisons. "
   ]
  },
  {
   "cell_type": "code",
   "execution_count": null,
   "id": "4be652ad-c241-4731-913a-abc1b9ab75b5",
   "metadata": {},
   "outputs": [],
   "source": [
    "logan_FIPS = [\"42101028000\", \"42101028100\", \"42101028200\", \"42101028300\", \"42101028400\", \"42101028500\"]\n",
    "\n",
    "logan_tracts = tracts[tracts['FIPS'].isin(logan_FIPS)]\n",
    "\n",
    "logan_boundary = logan_tracts.dissolve()"
   ]
  },
  {
   "cell_type": "code",
   "execution_count": null,
   "id": "e90e8be8-e656-4dae-aea5-1026f1be37a0",
   "metadata": {},
   "outputs": [],
   "source": [
    "logan_boundary.describe()"
   ]
  },
  {
   "cell_type": "markdown",
   "id": "36017cce-1bfd-46ae-a836-0888dceb5fc2",
   "metadata": {},
   "source": [
    "## Mapping ##\n",
    "\n",
    "#### Home Value by Census Tract for Logan & Philadelphia ####"
   ]
  },
  {
   "cell_type": "markdown",
   "id": "88fb8d17-0c00-4d12-abbc-6beb7db53956",
   "metadata": {},
   "source": [
    "Now that the boundary has been created, I want to map a specific variable for all of Philadelphia and then layer on the outline of Logan. Because I know that the Logan Neighborhood has experienced a long history of disinvestment and the clearing of nearly 1,000 homes in the period from the 1990s-2010s, I want to see how home values compare within the neighborhood and against Philly. In the US, homes are a key source of wealth, and an indicator of thetype/extent of investment in a community. I am mapping **\"Median House Value for All Owner-Occupied Housing Units\"** by Census Tract in Philadelphia with the outline of Logan's six tracts included.\n",
    "\n",
    "I am also going to standardize the bins for my map using code recommended by Yoh. \n",
    "**classification_kwds={'bins':[0.25, 0.5,0.75,1]}**"
   ]
  },
  {
   "cell_type": "code",
   "execution_count": null,
   "id": "32588b5a-8117-41c0-9d34-7cfe15242693",
   "metadata": {},
   "outputs": [],
   "source": [
    "fig, ax = plt.subplots(figsize = (10,8)) \n",
    "pa_housing.plot(column = 'Median House Value for All Owner-Occupied Housing Units',legend=True,\n",
    "  legend_kwds={'orientation': \"vertical\"},classification_kwds={'bins':[0.25, 0.5,0.75,1]},edgecolor='white',cmap = 'GnBu',ax=ax)\n",
    "logan_boundary.geometry.boundary.plot(color=None,edgecolor='teal',linewidth = 3,ax=ax)\n",
    "ax.axis('off')\n",
    "plt.title('Median House Value for Owner-Occupied Units by Census Tract in Logan and Philadelphia')\n",
    "\n",
    "plt.savefig(\"Median House Values Across Philadelphia Census Tracts.pdf\", transparent=True)"
   ]
  },
  {
   "cell_type": "markdown",
   "id": "e0cbdfb4-f03d-4238-b1bb-546e5b37c315",
   "metadata": {},
   "source": [
    "#### Affordable Housing Projects ####"
   ]
  },
  {
   "cell_type": "markdown",
   "id": "895845dd-f572-4ade-a1e9-6f4ebd8ed1d9",
   "metadata": {},
   "source": [
    "The next element to look at is dedicated affordable housing investment from the Phildelphia City Government. I learned that a loy og investment was spent on demolishing units and moving people from homes that were sinking, but where is the City spending its money in a productive and constructive effort to address housing stability? \n",
    "\n",
    "Pulling from the Open Philly Database, I am going to read in a dataset of affordable housing developments that were funded by Division of Housing and Community Development (DHCD) and built between 1994 to August 2019. In looking at the file, there were no geographic variables. However, there are addresses that could be geocoded to be mapped. There are also no city, state, or zip code fields, so in Excel I added a variable for City and State and added Philadelphia and PA because these are all afforable housing units in Philadelphia. I then looked up units that did not have clear addresses, and for sites that had multiple addresses but in the same development, I only included one address. There is another variable for the number of total units, and I would like to show dots in various sizes the correspond to the unit total of development, *but that is a next step.*"
   ]
  },
  {
   "cell_type": "code",
   "execution_count": null,
   "id": "b0850ad2-f7e1-4e1a-b9f3-224467d7513e",
   "metadata": {},
   "outputs": [],
   "source": [
    "dfah = pd.read_csv('data/ahclean.csv')"
   ]
  },
  {
   "cell_type": "markdown",
   "id": "243cc501-4c25-450e-b022-ddae958f8655",
   "metadata": {},
   "source": [
    "After reading in the new dataset, I have to get to work on getting these addresses into a mappable format. So, I import several libraries that can help me convert address data into lats and longs to map (thanks for the code @chris!). First, I need to put together the components that will make up a single address column, and then I am going to geocode to produce a lat, long to then map.\n"
   ]
  },
  {
   "cell_type": "code",
   "execution_count": null,
   "id": "410c7f9d-2a51-427b-8b5c-1eb68dcf1c0d",
   "metadata": {},
   "outputs": [],
   "source": [
    "import geopy\n",
    "dir(geopy)\n",
    "from geopy.geocoders import Photon\n",
    "dir(Photon)\n",
    "from geopy.geocoders import Nominatim\n",
    "import time\n",
    "from geopy.geocoders import Nominatim\n",
    "from geopy.extra.rate_limiter import RateLimiter\n",
    "from geopy import distance\n",
    "import osmnx as ox\n",
    "import contextily as ctx"
   ]
  },
  {
   "cell_type": "code",
   "execution_count": null,
   "id": "e7acadf0-a320-4349-8255-a7216854967b",
   "metadata": {},
   "outputs": [],
   "source": [
    "dfah['ADDRESS2'] = dfah['ADDRESS'] + ' ' + dfah['CITY'] + ' ' + dfah['STATE']"
   ]
  },
  {
   "cell_type": "code",
   "execution_count": null,
   "id": "0b09be9d-89fd-4a9e-922e-b6327e4ffff0",
   "metadata": {},
   "outputs": [],
   "source": [
    "dfah.sample()"
   ]
  },
  {
   "cell_type": "markdown",
   "id": "ee94f7a6-de31-46ac-b7d8-53ff17f0fc53",
   "metadata": {
    "tags": []
   },
   "source": [
    "It looks like the new address (ADDRESS2) worked! Now time to geocode these more complete addresses using ['ADDRESS2']. \n",
    "\n",
    "For this week, I will use one loop function here to geocode these addresses into lat, long format. "
   ]
  },
  {
   "cell_type": "code",
   "execution_count": null,
   "id": "6cdf77b0-a1ac-4477-ac96-05b37a0b88d5",
   "metadata": {},
   "outputs": [],
   "source": [
    "for index, row in dfah.iterrows():\n",
    "\n",
    "    address = row['ADDRESS2']\n",
    "    \n",
    "    try:\n",
    "        \n",
    "        geocoded_address = ox.geocoder.geocode(address)\n",
    "\n",
    "        dfah.at[index,'lat']=geocoded_address[0]\n",
    "        dfah.at[index,'lon']=geocoded_address[1]\n",
    "\n",
    "        \n",
    "        print(address + ' geocoded to ' + str(geocoded_address[0])+' '+str(geocoded_address[1]))        \n",
    "\n",
    "    except:\n",
    "        print('Could not geocode '+ address)\n",
    "        pass"
   ]
  },
  {
   "cell_type": "markdown",
   "id": "cd5afff2-f203-484b-8a38-775050152c09",
   "metadata": {},
   "source": [
    "To check the geocoding process, I use am going to see how many places mapped. I can see some locations, which included \"scattered sites\" housing did not provide an address, so they did not map. "
   ]
  },
  {
   "cell_type": "code",
   "execution_count": null,
   "id": "eb357639-c8fa-4818-b5e3-d98b40bcad2a",
   "metadata": {},
   "outputs": [],
   "source": [
    "dfah.info()"
   ]
  },
  {
   "cell_type": "markdown",
   "id": "0683659c-3e79-4da3-9bb0-47e5d348ac39",
   "metadata": {},
   "source": [
    "This clean up was successful in adding about 50 addresses to the previous midterm affordable housing map dataset with lat/long coordinates. The next step will be to convert the dataframe to a geodataframe to map! "
   ]
  },
  {
   "cell_type": "code",
   "execution_count": null,
   "id": "4a58a80e-1a6c-413c-a043-e01ed0de23aa",
   "metadata": {},
   "outputs": [],
   "source": [
    "gdah = gpd.GeoDataFrame(dfah, \n",
    "                       crs='epsg:4236',\n",
    "                       geometry=gpd.points_from_xy(dfah.lon, dfah.lat))"
   ]
  },
  {
   "cell_type": "markdown",
   "id": "861ffa6e-90cd-43ce-a1db-a3bd5fb93af1",
   "metadata": {},
   "source": [
    "Now that these points are mapped, I am going to use code to place the points on an initial map. I am also going to try to make this pretty using teal which is from our palette and a basic minimal base Stamen TonerLite. I am taking Yoh's advice to use 3857 vs. 4236, so I added in code to change the projection. I also continued to include the Logan boundary."
   ]
  },
  {
   "cell_type": "code",
   "execution_count": null,
   "id": "7b5ab84d-6058-4b04-b244-b536741a388e",
   "metadata": {},
   "outputs": [],
   "source": [
    "fig, ax = plt.subplots(figsize=(10,10))\n",
    "\n",
    "gdah.to_crs(3857).plot(ax=ax, \n",
    "        marker='o',\n",
    "        markersize=10,\n",
    "        alpha=0.4,\n",
    "        color='darkblue')\n",
    "\n",
    "ax.axis('off')\n",
    "\n",
    "\n",
    "ax.set_title('Affordable Housing Projects in Philadelphia from 1994 to 2019')\n",
    "\n",
    "logan_boundary.to_crs(3857).geometry.boundary.plot(color=None,edgecolor='teal',linewidth = 3,ax=ax)\n",
    "\n",
    "ctx.add_basemap(ax, source=ctx.providers.Stamen.TonerLite, crs=3857)\n",
    "plt.savefig(\"affordablehousingprojects.png\", transparent=True)"
   ]
  },
  {
   "cell_type": "markdown",
   "id": "5cc75427-bae3-467d-b128-0c0634ffdef3",
   "metadata": {},
   "source": [
    "I also want to explore the projects to find additional details on them, so I am going to map these places on a folium map. So, I will need to make sure they are all geolocated and ready to be read in. I am going to set up a loop to start mapping my markers for each housing project. I will then drop rows that do not have values and create a new dataset."
   ]
  },
  {
   "cell_type": "code",
   "execution_count": null,
   "id": "762c34b1-2bca-446b-8fa4-9bfd8f5d5ccd",
   "metadata": {},
   "outputs": [],
   "source": [
    "gdah2=gdah.dropna(subset=['lon'])\n",
    "gdah2=gdah.dropna(subset=['lat'])"
   ]
  },
  {
   "cell_type": "code",
   "execution_count": null,
   "id": "005951f2-4458-4f47-9431-a25d55b4961e",
   "metadata": {},
   "outputs": [],
   "source": [
    "gdah2.info()"
   ]
  },
  {
   "cell_type": "markdown",
   "id": "d180554b-fb2e-4992-a9b5-82a899229839",
   "metadata": {},
   "source": [
    "Nice! So, again that cleaning results in 374 projects mapped. I am going to again, return to the data I included above on median home values and overlay the housing investments using folium. "
   ]
  },
  {
   "cell_type": "code",
   "execution_count": null,
   "id": "ecd37815-3b78-422a-9dbc-dd03c7edbfd2",
   "metadata": {},
   "outputs": [],
   "source": [
    "m = folium.Map(location=[+39.99, -75.1652], \n",
    "               zoom_start = 11,\n",
    "               tiles='Stamen Toner', \n",
    "               attribution='Stamen Toner')\n",
    "\n",
    "\n",
    "folium.Choropleth(\n",
    "                  geo_data=pa_housing, # geo data\n",
    "                  data=pa_housing, # data          \n",
    "                  key_on='feature.properties.FIPS', # key, or merge column\n",
    "                  columns=['FIPS', 'Median House Value for All Owner-Occupied Housing Units'], # [key, value]\n",
    "                  fill_color='GnBu',\n",
    "                  line_weight=0.1, \n",
    "                  fill_opacity=0.8,\n",
    "                  line_opacity=0.2, # line opacity (of the border)\n",
    "                  legend_name='Home Values in Philadelphia (2021)').add_to(m)    # name on the legend color bar\n",
    "m"
   ]
  },
  {
   "cell_type": "markdown",
   "id": "dc9e57ee-2543-4550-85a0-95dd4ccad7a0",
   "metadata": {},
   "source": [
    "Now, I want to overlay to layer the affordable housing development sites over the home values. I again, am going to use a loop to add a circle marker for each address. "
   ]
  },
  {
   "cell_type": "code",
   "execution_count": null,
   "id": "7fac592b-2d97-4ec3-a578-c633ec438897",
   "metadata": {},
   "outputs": [],
   "source": [
    "for index, row in gdah2.iterrows():\n",
    " \n",
    "    folium.CircleMarker([row.lat, row.lon], popup=row.PROJECT_NAME,color='darkgreen',fill_color='darkgreen',radius=3,weight=1).add_to(m)\n",
    "\n",
    "m"
   ]
  },
  {
   "cell_type": "markdown",
   "id": "22df263b-9e78-450e-a99d-e53d5dc3e1d6",
   "metadata": {},
   "source": [
    "Based on this map above, there are very few housing investments in the Logan Neighborhood area. There are fewer investments north of Erie Avenue and West of Broad Street. I am curious about these specific project types. "
   ]
  },
  {
   "cell_type": "markdown",
   "id": "35385eb2-c910-4457-9e6f-7fb6a3bedbef",
   "metadata": {},
   "source": [
    "#### Development Types ####"
   ]
  },
  {
   "cell_type": "markdown",
   "id": "aefc2037-2f9f-4bff-9b49-949e40e45a8b",
   "metadata": {},
   "source": [
    "An interesting thing about the data from Philly is that it seems like they have affordable housing homeowner models, which is not usually the case in the US. I am going to make a quick bar chart of what types of housing projects these are and see if I can make three maps with the different data. Although there are some projects that I have the type data for but NOT the complete address data, I am going to just map projects with more complete data."
   ]
  },
  {
   "cell_type": "code",
   "execution_count": null,
   "id": "fb0a23dd-b463-4f5c-beef-1e8e37097098",
   "metadata": {},
   "outputs": [],
   "source": [
    "gdah2.value_counts('PROJECT_TYPE')"
   ]
  },
  {
   "cell_type": "markdown",
   "id": "e390e64f-4c7e-44bd-a39e-2a68195c7393",
   "metadata": {},
   "source": [
    "I made a new variable for project count and will generate different maps based on these three different counts."
   ]
  },
  {
   "cell_type": "code",
   "execution_count": null,
   "id": "82999d07-5b5e-4e1d-9a3d-b05baf8252c2",
   "metadata": {},
   "outputs": [],
   "source": [
    "project_count = gdah2['PROJECT_TYPE'].value_counts()\n",
    "project_count"
   ]
  },
  {
   "cell_type": "markdown",
   "id": "946e3746-2a03-41ba-90eb-6d51db569287",
   "metadata": {},
   "source": [
    "In my bar graph, I want to use the same color scheme as my maps and remove some of the more distracting features."
   ]
  },
  {
   "cell_type": "code",
   "execution_count": null,
   "id": "b3ffaba2-8984-466f-a023-6ae83e06acc0",
   "metadata": {},
   "outputs": [],
   "source": [
    "fig, ax = plt.subplots(figsize=(6,4))\n",
    "\n",
    "for spine in plt.gca().spines.values():\n",
    "    spine.set_visible(False)\n",
    "\n",
    "project_count.plot.bar(ax=ax,\n",
    "                                      x='PROJECT_TYPE',\n",
    "                                      y='project_count',\n",
    "                                      legend=False,\n",
    "                                      color='#1a4280ff',\n",
    "                                       )\n",
    "                                      \n",
    "ax.set_ylabel('Project Count') # override y label\n",
    "plt.title(\"Types of Affordable Housing Projects\"); # multi-line title with padding"
   ]
  },
  {
   "cell_type": "markdown",
   "id": "fcf1fd99-2a39-4ce7-a9d1-18d844dbc758",
   "metadata": {},
   "source": [
    "Now I am going to try to make a map that includes data for the three types of projects with a color code for each of the three projects. I chose a different color for each and I am going to overlay them on the static affordable housing project map by color."
   ]
  },
  {
   "cell_type": "code",
   "execution_count": null,
   "id": "6fbb775f-0575-46ed-abb0-76abea42430d",
   "metadata": {},
   "outputs": [],
   "source": [
    "gdah2.loc[gdah2['PROJECT_TYPE'] == 'Rental', 'color'] = 'mediumaquamarine'\n",
    "gdah2.loc[gdah2['PROJECT_TYPE'] == 'Special Needs', 'color'] = 'cornflowerblue'\n",
    "gdah2.loc[gdah2['PROJECT_TYPE'] == 'Homeownership', 'color'] = 'navy'"
   ]
  },
  {
   "cell_type": "code",
   "execution_count": null,
   "id": "5d4a0a1e-289c-4fdf-9106-40bd8d8501b1",
   "metadata": {},
   "outputs": [],
   "source": [
    "gdah2.sample(5)"
   ]
  },
  {
   "cell_type": "markdown",
   "id": "eca16068-ee7b-460e-a770-f5b8c4770243",
   "metadata": {},
   "source": [
    "Now that the color addition works, I am going to make out the projects by color and overlay the map of Logan. I will also need a legend, so I am including two new libraries to help make a custom legend."
   ]
  },
  {
   "cell_type": "code",
   "execution_count": null,
   "id": "932f7287-ab14-434c-82c4-c99cfb9e0af7",
   "metadata": {},
   "outputs": [],
   "source": [
    "fig, ax = plt.subplots(figsize=(10,10))\n",
    "\n",
    "gdah2.to_crs(3857).plot(ax=ax, \n",
    "        marker='o',\n",
    "        markersize=10,\n",
    "        color = gdah2.color)\n",
    "\n",
    "ax.axis('off')\n",
    "ax.set_title('Affordable Housing Projects in Philadelphia from 1994 to 2019')\n",
    "\n",
    "logan_boundary.to_crs(3857).geometry.boundary.plot(color=None,edgecolor='teal',linewidth = 1,ax=ax)\n",
    "\n",
    "ctx.add_basemap(ax, source=ctx.providers.Stamen.TonerLite, crs=3857)\n",
    "plt.savefig(\"affordablehousingprojectstype.png\", transparent=True)"
   ]
  },
  {
   "cell_type": "code",
   "execution_count": null,
   "id": "45492c11-c723-4f2d-a150-c3774d8197d4",
   "metadata": {},
   "outputs": [],
   "source": [
    "def project_map(type):\n",
    "  print(type + \" is a \"+gdah2.color+ \" dot\")\n",
    "\n",
    "project_map(gdah2.PROJECT_NAME)\n",
    "\n"
   ]
  },
  {
   "cell_type": "markdown",
   "id": "0a2899f1-7d90-4142-acd5-4ffbf8c9fe99",
   "metadata": {},
   "source": [
    "This loop identifies a specific project and what its particular color on the map is. Next would be to incorporate this into a legend. "
   ]
  },
  {
   "cell_type": "code",
   "execution_count": null,
   "id": "45b29d87-d2a6-4f2d-8da1-d6f82e6457bb",
   "metadata": {},
   "outputs": [],
   "source": [
    "# create a function\n",
    "def project_by_type(PROJECT_TYPE='Rental'):\n",
    "    \n",
    "    # map\n",
    "    ax = gdah2[gdah2.PROJECT_TYPE== PROJECT_TYPE].plot(figsize=(15,15),\n",
    "        markersize=10 ,\n",
    "        legend=True,\n",
    "        alpha=0.8,\n",
    "        color=gdah2.color)\n",
    "    \n",
    "    # zoom to extent of crime points total bounds\n",
    "    minx,miny,maxx,maxy = gdah2.total_bounds\n",
    "\n",
    "    # set the x and y limits manually\n",
    "    ax.set_xlim(minx,maxx)\n",
    "    ax.set_ylim(miny,maxy)\n",
    "\n",
    "    # axis\n",
    "    ax.axis('off')\n",
    "    \n",
    "    # title (including count)\n",
    "    ax.set_title('Affordable' + ' (' + str(len(gdah2[gdah2.PROJECT_TYPE == PROJECT_TYPE])) + ' Units)',fontsize=8)\n",
    "\n",
    "    # basemap\n",
    "ctx.add_basemap(ax, source=ctx.providers.Stamen.TonerLite)\n",
    "\n"
   ]
  },
  {
   "cell_type": "code",
   "execution_count": null,
   "id": "3963be20-4dc2-46fe-9dcb-98e279c1bb13",
   "metadata": {},
   "outputs": [],
   "source": [
    "# call the function for a different crime type\n",
    "project_by_type('Homeownership')"
   ]
  },
  {
   "cell_type": "code",
   "execution_count": null,
   "id": "2e84f144-473b-419f-a39d-2c28e489024d",
   "metadata": {},
   "outputs": [],
   "source": [
    "for PROJECT_TYPE in gdah2:\n",
    "    project_by_type(gdah2.PROJECT_TYPE)"
   ]
  },
  {
   "cell_type": "markdown",
   "id": "fcd6b3ec-68db-4720-bf83-7a87b3b0efc8",
   "metadata": {},
   "source": [
    "#### Neighborhood Resources"
   ]
  },
  {
   "cell_type": "code",
   "execution_count": null,
   "id": "e35f2edc-0582-4996-b696-2cf3e3acf9df",
   "metadata": {},
   "outputs": [],
   "source": [
    "dfresource = pd.read_csv('data/neighborhoodresources.csv')"
   ]
  },
  {
   "cell_type": "code",
   "execution_count": null,
   "id": "25011e80-be9b-44c2-a2ce-da903a804443",
   "metadata": {},
   "outputs": [],
   "source": [
    "fig, ax = plt.subplots(figsize=(8,10))\n",
    "\n",
    "gdah.to_crs(3857).plot(ax=ax, \n",
    "        marker='o',\n",
    "        markersize=30,\n",
    "        color='cornflowerblue',\n",
    "        alpha=0.4)\n",
    "\n",
    "ax.axis('off')\n",
    "\n",
    "\n",
    "ax.set_title('Neighborhood Resources in Philadelphia')\n",
    "\n",
    "logan_boundary.to_crs(3857).geometry.boundary.plot(color=None,edgecolor='teal',linewidth = 1,ax=ax)\n",
    "\n",
    "ctx.add_basemap(ax, source=ctx.providers.Stamen.TonerLite, crs=3857)\n",
    "plt.savefig(\"phillyneighborhoodresources.png\", transparent=True)"
   ]
  },
  {
   "cell_type": "code",
   "execution_count": null,
   "id": "635b77f8-cad0-46e6-9b54-1fa0388eda5e",
   "metadata": {},
   "outputs": [],
   "source": [
    "gdfresource = gpd.GeoDataFrame(dfresource, \n",
    "                       crs='epsg:3857',\n",
    "                       geometry=gpd.points_from_xy(dfresource.X, dfresource.Y))"
   ]
  },
  {
   "cell_type": "code",
   "execution_count": null,
   "id": "9e530765-a4d2-4806-a513-88383bd8eeb7",
   "metadata": {},
   "outputs": [],
   "source": [
    "gdfresource2=gdfresource.dropna(subset=['X'])\n",
    "gdfresource2=gdfresource.dropna(subset=['Y'])"
   ]
  },
  {
   "cell_type": "code",
   "execution_count": null,
   "id": "625c1f2b-5bc0-4629-8aea-5cbabc660391",
   "metadata": {},
   "outputs": [],
   "source": [
    "gdfresource2.info()"
   ]
  },
  {
   "cell_type": "code",
   "execution_count": null,
   "id": "dd65bb13-414b-454e-9631-d9ec95d363b6",
   "metadata": {},
   "outputs": [],
   "source": [
    "m = folium.Map(location=[+39.99, -75.1652], \n",
    "               zoom_start = 11,\n",
    "               tiles='Stamen Toner', \n",
    "               attribution='Stamen Toner')\n",
    "\n",
    "m"
   ]
  },
  {
   "cell_type": "code",
   "execution_count": null,
   "id": "d2a7ae28-6e41-4066-bd24-52e59c72fc81",
   "metadata": {},
   "outputs": [],
   "source": [
    "m = folium.Map(location=[+39.99, -75.1652], \n",
    "               zoom_start = 11,\n",
    "               tiles='Stamen Toner', \n",
    "               attribution='Stamen Toner')\n",
    "\n",
    "\n",
    "for index, row in gdfresource2.iterrows():\n",
    " \n",
    "    folium.CircleMarker([row.Y, row.X], popup=row.AGENCY,color='teal',fill_color='green',radius=3,weight=3).add_to(m)\n",
    "m\n"
   ]
  },
  {
   "cell_type": "code",
   "execution_count": null,
   "id": "ac0aad96-6aa9-4ba9-a8fe-e3d449715686",
   "metadata": {},
   "outputs": [],
   "source": [
    "m.save('resourcecenters.html')"
   ]
  },
  {
   "cell_type": "markdown",
   "id": "836694ed-9ee8-4bf0-b68c-c78130af0642",
   "metadata": {},
   "source": [
    "#### Conclusions & Next Steps \n",
    "\n",
    "These were really helpful initial steps to understanding the housing situation at a very high level in Philadelphia and Logan. Our project has been framed around looking at investment vs. disinvestment in the neighborhood, and it seems like the low home values signal chronic disinvestment. It also seems like there have been few investments from the government in maintaining affordability in the neighborhood."
   ]
  },
  {
   "cell_type": "markdown",
   "id": "399a79c4-71a7-40c7-a69e-443ab326d490",
   "metadata": {},
   "source": [
    "#### Evictions\n",
    "\n",
    "I downloaded eviction data from Eviction Lab, but it is at the County level. "
   ]
  },
  {
   "cell_type": "code",
   "execution_count": null,
   "id": "da3d415a-0ef6-4ce6-a260-5fa339f117a9",
   "metadata": {},
   "outputs": [],
   "source": [
    "evictions = pd.read_csv('data/ccevictions.csv')"
   ]
  },
  {
   "cell_type": "code",
   "execution_count": null,
   "id": "610303c5-f8b7-4048-813f-d9b33f065c67",
   "metadata": {},
   "outputs": [],
   "source": [
    "evictions.head"
   ]
  },
  {
   "cell_type": "code",
   "execution_count": null,
   "id": "be90cd9b-cce9-48ff-8f7f-77939bd90e4b",
   "metadata": {},
   "outputs": [],
   "source": [
    "paevictions = evictions[evictions['fips_county']==42101]"
   ]
  },
  {
   "cell_type": "code",
   "execution_count": null,
   "id": "3df3abb6-8586-4cc8-bda1-89eff2db4266",
   "metadata": {},
   "outputs": [],
   "source": [
    "paevictions.head(20)"
   ]
  },
  {
   "cell_type": "code",
   "execution_count": null,
   "id": "a1230d20-9807-4400-ba90-12f3b5de6e86",
   "metadata": {},
   "outputs": [],
   "source": [
    "paevictions['filingrate'] = paevictions['filings_observed']/paevictions['renting_hh']*100"
   ]
  },
  {
   "cell_type": "code",
   "execution_count": null,
   "id": "b840a616-51a5-4cde-9447-e49fbb24a961",
   "metadata": {},
   "outputs": [],
   "source": [
    "paevictions['filingrate'].head"
   ]
  },
  {
   "cell_type": "code",
   "execution_count": null,
   "id": "5abe8eb4-dc3d-443e-a003-0abdb5e3e53a",
   "metadata": {},
   "outputs": [],
   "source": [
    "paevictions.head"
   ]
  },
  {
   "cell_type": "code",
   "execution_count": null,
   "id": "423981d7-1a14-4520-bfa6-c7ef09fabfc5",
   "metadata": {},
   "outputs": [],
   "source": [
    "fig, ax = plt.subplots(figsize=(6,4))\n",
    "\n",
    "for spine in plt.gca().spines.values():\n",
    "    spine.set_visible(False)\n",
    "\n",
    "paevictions['filingrate'].plot.bar(ax=ax,\n",
    "                                      x='year',\n",
    "                                      y='filingrate',\n",
    "                                      legend=False,\n",
    "                                      color='#1a4280ff',)\n",
    "ax.set_xlabel('Year') # override y label                                      \n",
    "ax.set_ylabel('Eviction Filing Rate') # override y label\n",
    "plt.title(\"Change in Eviction Housing Rate by Year\"); # multi-line title with padding"
   ]
  },
  {
   "cell_type": "code",
   "execution_count": null,
   "id": "7a1576d3-4741-480a-974e-65f7aa59b0c6",
   "metadata": {},
   "outputs": [],
   "source": [
    "import plotly.io as pio\n",
    "import plotly.express as px"
   ]
  },
  {
   "cell_type": "code",
   "execution_count": null,
   "id": "0448b2d7-8978-4322-9705-b133ff0c505d",
   "metadata": {},
   "outputs": [],
   "source": [
    "paevictions['filingrate'].plot.bar(x='filingrate');"
   ]
  },
  {
   "cell_type": "code",
   "execution_count": null,
   "id": "51c46167-b0d4-4626-a479-bd6940d468d5",
   "metadata": {},
   "outputs": [],
   "source": [
    "# bar chart\n",
    "fig = px.bar(paevictions,\n",
    "        x='year',\n",
    "        y='filingrate',\n",
    "        title=\"Eviction Filings in \"+'year', # title\n",
    "        text_auto = True,\n",
    "        height=600,\n",
    "        width=900,\n",
    "        color_discrete_sequence =['teal']*len('filingrate'), # single color for all the bars\n",
    "        labels={\n",
    "                'year': 'Year',\n",
    "                'filingrate': 'Eviction Filing Rate',\n",
    "        })\n",
    "\n",
    "# bar label\n",
    "fig.update_traces(textposition='outside',textfont_size=10,textfont_color='#444')\n",
    "\n",
    "# axes labels\n",
    "fig.update_yaxes(title_font_size=12,title_font_color='#aaa',tickfont_color='#aaa',tickfont_size=9)\n",
    "fig.update_xaxes(title_font_size=10,title_font_color='#aaa',tickfont_color='#aaa',tickfont_size=9)\n",
    "\n",
    "# show the figure\n",
    "fig.show()\n",
    "fig.write_html(\"evictionfilings_plotly.html\")\n"
   ]
  },
  {
   "cell_type": "code",
   "execution_count": null,
   "id": "5de19ef2-3601-42f8-8a2d-5ae49e132e5c",
   "metadata": {},
   "outputs": [],
   "source": [
    "ejphilly = pd.read_csv(\n",
    "    'data/ejdataphilly.csv',\n",
    "    dtype=\n",
    "    { \n",
    "        'ID':str\n",
    "    }\n",
    ")\n"
   ]
  },
  {
   "cell_type": "code",
   "execution_count": null,
   "id": "26a426f0-575d-4096-a8c4-d0ce7ad6fedf",
   "metadata": {},
   "outputs": [],
   "source": [
    "ejphilly.info()"
   ]
  },
  {
   "cell_type": "code",
   "execution_count": null,
   "id": "7de2a098-8f43-49ae-9c0e-4a14c81205dc",
   "metadata": {},
   "outputs": [],
   "source": [
    "ejphilly['FIPS']=ejphilly['ID']\n",
    "ejphilly['FIPS']"
   ]
  },
  {
   "cell_type": "code",
   "execution_count": null,
   "id": "4f30cc83-98f2-4a0d-a17f-78ce504ac49b",
   "metadata": {},
   "outputs": [],
   "source": [
    "pa_ej= tracts.merge(ejphilly,on='FIPS')"
   ]
  },
  {
   "cell_type": "code",
   "execution_count": null,
   "id": "0ac2932b-f763-4efb-b54d-bbfffabf1635",
   "metadata": {},
   "outputs": [],
   "source": [
    "fig, ax = plt.subplots(figsize = (10,8)) \n",
    "pa_ej.plot(column = 'PRE1960',legend=True,\n",
    "  legend_kwds={'orientation': \"vertical\"},classification_kwds={'bins':[0.25, 0.5,0.75,1]},edgecolor='white',cmap = 'GnBu',ax=ax)\n",
    "logan_boundary.geometry.boundary.plot(color=None,edgecolor='black',linewidth = 3,ax=ax)\n",
    "ax.axis('off')\n",
    "plt.title('Houses Built Pre-1960')\n",
    "\n",
    "plt.savefig(\"Median House Values Across Philadelphia Census Tracts.png\", transparent=True)"
   ]
  },
  {
   "cell_type": "code",
   "execution_count": null,
   "id": "e320f704-ca28-4f90-a663-df3789a80c19",
   "metadata": {},
   "outputs": [],
   "source": [
    "fig, ax = plt.subplots(figsize = (10,8)) \n",
    "pa_ej.plot(column = 'PRE1960PCT',legend=True,\n",
    "  legend_kwds={'orientation': \"vertical\"},classification_kwds={'bins':[0.25, 0.5,0.75,1]},edgecolor='white',cmap = 'GnBu',ax=ax)\n",
    "logan_boundary.geometry.boundary.plot(color=None,edgecolor='black',linewidth = 3,ax=ax)\n",
    "ax.axis('off')\n",
    "plt.title('Percent Houses Built Pre-1960')\n",
    "plt.savefig(\"Percent Houses Built Pre-1960.png\", transparent=True)"
   ]
  },
  {
   "cell_type": "code",
   "execution_count": null,
   "id": "cd6ef1c8-09bc-456b-96ad-50bcabd8092e",
   "metadata": {},
   "outputs": [],
   "source": [
    "fig, ax = plt.subplots(figsize = (10,8)) \n",
    "pa_ej.plot(column = 'P_LDPNT',legend=True,\n",
    "  legend_kwds={'orientation': \"vertical\"},classification_kwds={'bins':[0.25, 0.5,0.75,1]},edgecolor='white',cmap = 'GnBu',ax=ax)\n",
    "logan_boundary.geometry.boundary.plot(color=None,edgecolor='black',linewidth = 3,ax=ax)\n",
    "ax.axis('off')\n",
    "plt.title('Percentile Lead Paint')\n",
    "plt.savefig(\"Percentile Lead Paint.png\", transparent=True)"
   ]
  },
  {
   "cell_type": "code",
   "execution_count": null,
   "id": "64db26fc-6567-4f73-b436-adcd998a07db",
   "metadata": {},
   "outputs": [],
   "source": [
    "fig, ax = plt.subplots(figsize = (10,8)) \n",
    "pa_ej.plot(column = 'MINORPCT',legend=True,\n",
    "  legend_kwds={'orientation': \"vertical\"},classification_kwds={'bins':[0.25, 0.5,0.75,1]},edgecolor='white',cmap = 'GnBu',ax=ax)\n",
    "logan_boundary.geometry.boundary.plot(color=None,edgecolor='black',linewidth = 3,ax=ax)\n",
    "ax.axis('off')\n",
    "plt.title('Percent Racial Minorities')\n",
    "plt.savefig(\"Percent Racial Minorities.png\", transparent=True)"
   ]
  },
  {
   "cell_type": "code",
   "execution_count": null,
   "id": "af144705-9b2c-44d1-99ad-26708c445adc",
   "metadata": {},
   "outputs": [],
   "source": [
    "fig, ax = plt.subplots(figsize = (10,8)) \n",
    "pa_ej.plot(column = 'CANCER',legend=True,\n",
    "  legend_kwds={'orientation': \"vertical\"},classification_kwds={'bins':[0.25, 0.5,0.75,1]},edgecolor='white',cmap = 'GnBu',ax=ax)\n",
    "logan_boundary.geometry.boundary.plot(color=None,edgecolor='black',linewidth = 3,ax=ax)\n",
    "ax.axis('off')\n",
    "plt.title('Air toxics cancer risk')\n",
    "plt.savefig(\"Air toxics cancer risk.png\", transparent=True)"
   ]
  },
  {
   "cell_type": "code",
   "execution_count": null,
   "id": "a85fe1ab-74a3-4157-acb5-b94e3388b45b",
   "metadata": {},
   "outputs": [],
   "source": [
    "fig, ax = plt.subplots(figsize = (10,8)) \n",
    "pa_ej.plot(column = 'OZONE',legend=True,\n",
    "  legend_kwds={'orientation': \"vertical\"},classification_kwds={'bins':[0.25, 0.5,0.75,1]},edgecolor='white',cmap = 'GnBu',ax=ax)\n",
    "logan_boundary.geometry.boundary.plot(color=None,edgecolor='black',linewidth = 3,ax=ax)\n",
    "ax.axis('off')\n",
    "plt.title('Ozone')\n",
    "plt.savefig(\"Ozone.png\", transparent=True)"
   ]
  },
  {
   "cell_type": "code",
   "execution_count": null,
   "id": "a03a0897-cece-4bb6-9724-4f1391fe9d0d",
   "metadata": {},
   "outputs": [],
   "source": [
    "fig, ax = plt.subplots(figsize = (10,8)) \n",
    "pa_ej.plot(column = 'P_PTSDF',legend=True,\n",
    "  legend_kwds={'orientation': \"vertical\"},classification_kwds={'bins':[0.25, 0.5,0.75,1]},edgecolor='white',cmap = 'GnBu',ax=ax)\n",
    "logan_boundary.geometry.boundary.plot(color=None,edgecolor='black',linewidth = 3,ax=ax)\n",
    "ax.axis('off')\n",
    "plt.title('Percentile for Hazardous waste proximity')\n",
    "plt.savefig(\"Percentile for Hazardous waste proximity.png\", transparent=True)"
   ]
  },
  {
   "cell_type": "code",
   "execution_count": null,
   "id": "03b3d810-660d-4738-97c8-741911d8f0f2",
   "metadata": {},
   "outputs": [],
   "source": [
    "fig, ax = plt.subplots(figsize = (10,8)) \n",
    "pa_ej.plot(column = 'OVER64PCT',legend=True,\n",
    "  legend_kwds={'orientation': \"vertical\"},classification_kwds={'bins':[0.25, 0.5,0.75,1]},edgecolor='white',cmap = 'GnBu',ax=ax)\n",
    "logan_boundary.geometry.boundary.plot(color=None,edgecolor='black',linewidth = 3,ax=ax)\n",
    "ax.axis('off')\n",
    "plt.title('Percentage of People 65+')\n",
    "plt.savefig(\"Percentage of People 65.png\", transparent=True)"
   ]
  },
  {
   "cell_type": "code",
   "execution_count": null,
   "id": "da635e61-ed1e-4bc9-a80b-d2e947c576ab",
   "metadata": {},
   "outputs": [],
   "source": [
    "fig, ax = plt.subplots(figsize = (10,8)) \n",
    "pa_ej.plot(column = 'UNDER5PCT',legend=True,\n",
    "  legend_kwds={'orientation': \"vertical\"},classification_kwds={'bins':[0.25, 0.5,0.75,1]},edgecolor='white',cmap = 'GnBu',ax=ax)\n",
    "logan_boundary.geometry.boundary.plot(color=None,edgecolor='black',linewidth = 3,ax=ax)\n",
    "ax.axis('off')\n",
    "plt.title('Percentage of People Under 5')\n",
    "plt.savefig(\"Percentage of People Under 5.png\", transparent=True)"
   ]
  },
  {
   "cell_type": "code",
   "execution_count": null,
   "id": "d4ff1a8a-4589-4fa4-acf9-43313b278557",
   "metadata": {},
   "outputs": [],
   "source": [
    "pa_housing['pct_housingage'] =pa_housing['Occupied Housing Units']/pa_housing['Occupied Housing Units']*100\n",
    "pa_housing['pct_housing2020'] =pa_housing['Occupied Housing Units: Built 2020 or Later']/pa_housing['Occupied Housing Units']*100\n",
    "pa_housing['pct_housing2010']=pa_housing['Occupied Housing Units: Built 2010 to 2019']/pa_housing['Occupied Housing Units']*100\n",
    "pa_housing['pct_housing2000']=pa_housing['Occupied Housing Units: Built 2000 to 2009']/pa_housing['Occupied Housing Units']*100\n",
    "pa_housing['pct_housing1990']=pa_housing['Occupied Housing Units: Built 1990 to 1999']/pa_housing['Occupied Housing Units']*100\n",
    "pa_housing['pct_housing1980']=pa_housing['Occupied Housing Units: Built 1980 to 1989']/pa_housing['Occupied Housing Units']*100\n",
    "pa_housing['pct_housing1970']=pa_housing['Occupied Housing Units: Built 1970 to 1979']/pa_housing['Occupied Housing Units']*100\n",
    "pa_housing['pct_housing1960']=pa_housing['Occupied Housing Units: Built 1960 to 1969']/pa_housing['Occupied Housing Units']*100\n",
    "pa_housing['pct_housing1950']=pa_housing['Occupied Housing Units: Built 1950 to 1959']/pa_housing['Occupied Housing Units']*100\n",
    "pa_housing['pct_housing1940']=pa_housing['Occupied Housing Units: Built 1940 to 1949']/pa_housing['Occupied Housing Units']*100\n",
    "pa_housing['pct_housing1939']=pa_housing['Occupied Housing Units: Built 1939 or Earlier']/pa_housing['Occupied Housing Units']*100\n"
   ]
  },
  {
   "cell_type": "code",
   "execution_count": null,
   "id": "924d2577-b9e8-42ff-8aba-8e5dbbe0aeb0",
   "metadata": {},
   "outputs": [],
   "source": [
    "fig, ax = plt.subplots(figsize = (10,8)) \n",
    "pa_housing.plot(column = 'pct_housing1939',legend=True,\n",
    "  legend_kwds={'orientation': \"vertical\"},classification_kwds={'bins':[0.25, 0.5,0.75,1]},edgecolor='white',cmap = 'GnBu',ax=ax)\n",
    "logan_boundary.geometry.boundary.plot(color=None,edgecolor='black',linewidth = 3,ax=ax)\n",
    "ax.axis('off')\n",
    "plt.title('Percent Housing Units Built Before 1939 ')\n",
    "plt.savefig(\"Percent Houses Built Before 1939.png\", transparent=True)"
   ]
  },
  {
   "cell_type": "markdown",
   "id": "48b7c42f-0fd4-4085-84ff-859c8c4b8e19",
   "metadata": {},
   "source": [
    "### Mapping Landcare Sites ###"
   ]
  },
  {
   "cell_type": "code",
   "execution_count": null,
   "id": "773cd925-36f5-4b16-949e-2ccf454843f2",
   "metadata": {},
   "outputs": [],
   "source": [
    "dflandcare = pd.read_csv('data/communitylandcare.csv')"
   ]
  },
  {
   "cell_type": "code",
   "execution_count": null,
   "id": "c451fef8-c2e6-4959-920b-e84cf00c1cee",
   "metadata": {},
   "outputs": [],
   "source": [
    "dflandcare.head()"
   ]
  },
  {
   "cell_type": "code",
   "execution_count": null,
   "id": "98297bd0-815f-450c-ae18-f1ff33a51aad",
   "metadata": {},
   "outputs": [],
   "source": [
    "dflandcare.info()"
   ]
  },
  {
   "cell_type": "markdown",
   "id": "38a37a2b-1e71-48b2-8126-b9feb197cc59",
   "metadata": {},
   "source": [
    "After my initial read in, I saw that just like the other Philadelphia DHCD file, the addresses did not include City or State, so when initially mapped, they came up all over the country. I downloaded the CSV and added Philadelphia as a CITY variable and Pennsylvania as a STATE variable and double checked these sites. There are over 2,200 projects, but the data will be helpful, especially because it shows the owner and includes the Phildelphia Land Bank. So, the edited file dflandcare_clean is read in now. "
   ]
  },
  {
   "cell_type": "code",
   "execution_count": null,
   "id": "6ba32f9e-0783-4eef-b17b-b546d1897d3b",
   "metadata": {},
   "outputs": [],
   "source": [
    "dflandcare_clean = pd.read_csv('data/communitylandcareown.csv')"
   ]
  },
  {
   "cell_type": "code",
   "execution_count": null,
   "id": "fbc8bf95-41ff-481e-b77e-6e99710c2565",
   "metadata": {},
   "outputs": [],
   "source": [
    "dflandcare_clean['ADDRESS2'] = dflandcare_clean['ADDRESS'] + ' ' + dflandcare_clean['CITY'] + ' ' + dflandcare_clean['STATE']"
   ]
  },
  {
   "cell_type": "code",
   "execution_count": null,
   "id": "6b13cada-29b6-4188-b9c6-2879861571b1",
   "metadata": {},
   "outputs": [],
   "source": [
    "dflandcare_clean.info()"
   ]
  },
  {
   "cell_type": "code",
   "execution_count": null,
   "id": "26a9793b-7d6f-4208-a297-8847768d9b58",
   "metadata": {},
   "outputs": [],
   "source": [
    "for index, row in dflandcare_clean.iterrows():\n",
    "\n",
    "    address = row['ADDRESS2']\n",
    "    \n",
    "    try:\n",
    "        \n",
    "        geocoded_address = ox.geocoder.geocode(address)\n",
    "\n",
    "        dflandcare_clean.at[index,'lat']=geocoded_address[0]\n",
    "        dflandcare_clean.at[index,'lon']=geocoded_address[1]\n",
    "\n",
    "        \n",
    "        print(address + ' geocoded to ' + str(geocoded_address[0])+' '+str(geocoded_address[1]))        \n",
    "\n",
    "    except:\n",
    "        print('Could not geocode '+ address)\n",
    "        pass"
   ]
  },
  {
   "cell_type": "code",
   "execution_count": null,
   "id": "c72de441-6977-47c5-86c8-867c843c2472",
   "metadata": {},
   "outputs": [],
   "source": [
    "gdflandcare_clean = gpd.GeoDataFrame(dflandcare_clean, \n",
    "                       crs='epsg:4236',\n",
    "                       geometry=gpd.points_from_xy(dflandcare_clean.lon, dflandcare_clean.lat))"
   ]
  },
  {
   "cell_type": "code",
   "execution_count": null,
   "id": "2b87f84b-6936-48e2-a768-4c1984a06ad2",
   "metadata": {},
   "outputs": [],
   "source": [
    "gdflandcare_clean.info()"
   ]
  },
  {
   "cell_type": "code",
   "execution_count": null,
   "id": "09d77a06-0435-4ce8-860c-e31603a887bc",
   "metadata": {},
   "outputs": [],
   "source": [
    "gdflandcare_cleanfull = gdflandcare_clean.dropna(subset=['lat','lon'])\n"
   ]
  },
  {
   "cell_type": "markdown",
   "id": "fe3945dc-acf3-4801-8720-5770401b4a7a",
   "metadata": {},
   "source": [
    "Here I drop values that could not be geocoded to make it easier to map. I made a new dataset, so I could keep the full set for other analysis. "
   ]
  },
  {
   "cell_type": "code",
   "execution_count": null,
   "id": "3ac487aa-414a-421d-ab3d-4198628d0b41",
   "metadata": {},
   "outputs": [],
   "source": [
    "gdflandcare_cleanfull.info()"
   ]
  },
  {
   "cell_type": "code",
   "execution_count": null,
   "id": "0de5cf01-194e-4898-880c-ff3855a25619",
   "metadata": {},
   "outputs": [],
   "source": [
    "fig, ax = plt.subplots(figsize=(10,10))\n",
    "\n",
    "gdflandcare_cleanfull.to_crs(3857).plot(ax=ax, \n",
    "        marker='o',\n",
    "        markersize=10,\n",
    "        alpha =0.4,\n",
    "        color='seagreen')\n",
    "\n",
    "ax.axis('off')\n",
    "\n",
    "\n",
    "ax.set_title('Landcare Projects')\n",
    "\n",
    "logan_boundary.to_crs(3857).geometry.boundary.plot(color=None,edgecolor='teal',linewidth = 3,ax=ax)\n",
    "\n",
    "ctx.add_basemap(ax, source=ctx.providers.Stamen.TonerLite, crs=3857)\n",
    "plt.savefig(\"landcare.png\", transparent=True)"
   ]
  },
  {
   "cell_type": "code",
   "execution_count": null,
   "id": "eb41665a-7252-4593-9f94-3c2c6502cb86",
   "metadata": {},
   "outputs": [],
   "source": [
    "m = folium.Map(location=[+40.02456, -75.141496],\n",
    "               zoom_start = 14,\n",
    "               tiles='Stamen Toner', \n",
    "               attribution='Stamen Toner')\n",
    "m"
   ]
  },
  {
   "cell_type": "code",
   "execution_count": null,
   "id": "b8623c30-cdce-4745-96b2-7cb37ff13c6c",
   "metadata": {},
   "outputs": [],
   "source": [
    "for index, row in gdflandcare_cleanfull.iterrows():\n",
    " \n",
    "    folium.CircleMarker([row.lat, row.lon], popup=row.ADDRESS,color='seagreen',fill_color='seagreen',radius=5,weight=1.5).add_to(m)\n",
    "m"
   ]
  },
  {
   "cell_type": "code",
   "execution_count": null,
   "id": "e5532e80-9504-465b-af80-f09479b56221",
   "metadata": {},
   "outputs": [],
   "source": [
    "gdflandcare_cleanfull.value_counts('OWNER1')"
   ]
  },
  {
   "cell_type": "code",
   "execution_count": null,
   "id": "5a5ba314-4e67-47f1-925a-cbc379fb53a4",
   "metadata": {},
   "outputs": [],
   "source": [
    "gdflandcare_cleanfull['OWNERFULL'] = gdflandcare_cleanfull['OWNER1'] + ' ' + gdflandcare_cleanfull['OWNER2']\n",
    "gdflandcare_cleanfull['OWNERFULL']"
   ]
  },
  {
   "cell_type": "code",
   "execution_count": null,
   "id": "41e8edec-5bf2-405d-b83e-b7c714c8d5e7",
   "metadata": {},
   "outputs": [],
   "source": [
    "gdflandcare_cleanfull.value_counts('OWNER1')"
   ]
  },
  {
   "cell_type": "code",
   "execution_count": null,
   "id": "f0868f40-3d0a-4d86-8833-9c10ca89e78e",
   "metadata": {},
   "outputs": [],
   "source": [
    "landowner_count = gdflandcare_cleanfull['OWNER1'].value_counts()\n",
    "landowner_count"
   ]
  },
  {
   "cell_type": "code",
   "execution_count": null,
   "id": "66a757b9-1600-4dec-95c1-e7e80fea785a",
   "metadata": {},
   "outputs": [],
   "source": [
    "fig, ax = plt.subplots(figsize=(6,4))\n",
    "\n",
    "for spine in plt.gca().spines.values():\n",
    "    spine.set_visible(False)\n",
    "\n",
    "landowner_count[:10].plot.bar(ax=ax,\n",
    "                                      x='OWNER1',\n",
    "                                      y='landowner_count',\n",
    "                                      legend=False,\n",
    "                                      color='#1a4280ff',\n",
    "                                       )\n",
    "                                      \n",
    "ax.set_ylabel('Site Count') # override y label\n",
    "plt.title(\"Owner of Sites for LandCare Projects\"); # multi-line title with padding"
   ]
  },
  {
   "cell_type": "code",
   "execution_count": null,
   "id": "52cfc039-9632-4e0b-b8cc-481eb3236ffd",
   "metadata": {},
   "outputs": [],
   "source": [
    "landowner_count.describe()"
   ]
  },
  {
   "cell_type": "code",
   "execution_count": null,
   "id": "869b2163-2cd1-4871-a5eb-b71489a105c9",
   "metadata": {},
   "outputs": [],
   "source": [
    "gdflandcare_cleanfull['OWNER1'].describe()"
   ]
  },
  {
   "cell_type": "code",
   "execution_count": null,
   "id": "94314d17-4e3e-458a-9dd5-5ff930573c6c",
   "metadata": {},
   "outputs": [],
   "source": [
    "((312+148+138+54+13)/1305)*100"
   ]
  },
  {
   "cell_type": "markdown",
   "id": "3a70c614-c511-4f05-9306-ed347417b5a7",
   "metadata": {},
   "source": [
    "### Housing Data Census (Again) ###\n",
    "\n",
    "I am returning to my initial work of analyzing census tract data for: median age, race of homeowner, and % renters."
   ]
  },
  {
   "cell_type": "code",
   "execution_count": null,
   "id": "d93f2e0e-c21d-49ed-adab-30299114a3c0",
   "metadata": {},
   "outputs": [],
   "source": [
    "dfcensus2 = pd.read_csv(\n",
    "    'data/censusdata2.csv',\n",
    "    dtype=\n",
    "    {\n",
    "        'Geo_STATE':str,\n",
    "        'Geo_COUNTY': str,\n",
    "        'Geo_TRACT':str, \n",
    "        'Geo_FIPS':str\n",
    "    }\n",
    ")"
   ]
  },
  {
   "cell_type": "code",
   "execution_count": null,
   "id": "ad53324a-d2a7-4086-a011-a26fa5e926b3",
   "metadata": {},
   "outputs": [],
   "source": [
    "dfcensus2.head()"
   ]
  },
  {
   "cell_type": "markdown",
   "id": "3cf2ff58-1cc5-47c5-9f6c-c219c9d1217b",
   "metadata": {},
   "source": [
    "Mapping owner occupied units \n",
    "\n",
    "owner-occupied housing units: SE_A10045_001\n",
    "housing units: SE_A10001_001\n",
    "\n",
    "Below I am calculating % owner-occupied housing in a tract"
   ]
  },
  {
   "cell_type": "code",
   "execution_count": null,
   "id": "e7064120-37c4-4fc5-95c2-c291f2412765",
   "metadata": {},
   "outputs": [],
   "source": [
    "dfcensus2.Geo_FIPS"
   ]
  },
  {
   "cell_type": "markdown",
   "id": "dca0114a-8566-4b93-987c-eb982db8f96d",
   "metadata": {},
   "source": [
    "dfcensus2[columns_to_keep] = ['STATECE',\n",
    "                   'STATE',\n",
    "                   'COUNTY',\n",
    "                   'PLACE',\n",
    "                   'TRACT',\n",
    "                   'FIPS',\n",
    "                   'PLACESE',\n",
    "                   'A10057_001',\n",
    "                   'B10060_001',\n",
    "                   'B10060_002',\n",
    "                   'B10060_003',\n",
    "                   'PCT_B10060_002',\n",
    "                   'PCT_B10060_003',\n",
    "                   'A10045_001',\n",
    "                   'A10001_001',\n",
    "                   'A03001B_001',\n",
    "                   'PCT_A10010_002',\n",
    "                   'PCT_A10010_003',\n",
    "                   'PCT_A10010_004',\n",
    "                   'PCT_A10010_005',\n",
    "                   'PCT_A10010_006',\n",
    "                   'PCT_A10010_007',\n",
    "                   'PCT_A10010_008',\n",
    "                   'PCT_A10010_009',\n",
    "                   'PCT_A10010_010',\n",
    "                  ]"
   ]
  },
  {
   "cell_type": "markdown",
   "id": "b0bfe1a1-9370-441f-8c55-4e8e6cd48e45",
   "metadata": {},
   "source": [
    "dfcensus2[columns_to_keep]"
   ]
  },
  {
   "cell_type": "markdown",
   "id": "6be9d49c-011b-4cef-ae48-c8842221f6cc",
   "metadata": {},
   "source": [
    "columns = list(dfcensus2[columns_to_keep])\n",
    "columns"
   ]
  },
  {
   "cell_type": "markdown",
   "id": "a2ca45f1-8066-444a-9514-ed0042c942be",
   "metadata": {},
   "source": [
    "columns = ['State Census',\n",
    "                   'State FIPS',\n",
    "                   'County',\n",
    "                   'Place',\n",
    "                   'Tract',\n",
    "                   'FIPS',\n",
    "                   'Place State FIPS',\n",
    "                   'Median Year Structure Built',\n",
    "                   'Owner Occupied Housing Units',\n",
    "                   'Owner Occupied Housing Units: White Alone, Not Hispanic or Latino Homeowners',\n",
    "                   'Owner Occupied Housing Units: Non-White Homeowners',\n",
    "                   '% Owner Occupied Housing Units: White Alone, Not Hispanic or Latino Homeowners',\n",
    "                   '% Owner Occupied Housing Units: Non-White Homeowners',\n",
    "                   'Owner-Occupied Housing Units',\n",
    "                   'Housing Units',\n",
    "                   'Renter-Occupied Housing Units',\n",
    "                   '% Households: with a Householder Who Is White Alone',\n",
    "                   '% Households: with a Householder Who Is Black or African  American Alone',\n",
    "                   '% Households: with a Householder Who Is American Indian and  Alaska Native Alone',\n",
    "                   '% Households: with a Householder Who Is Asian Alone',\n",
    "                   '% Households: with a Householder Who Is Native Hawaiian and  Other Pacific Islander Alone',\n",
    "                   '% Households: with a Householder Who Is Some Other Race Alone',\n",
    "                   '% Households: with a Householder Who Is Two or More Races',\n",
    "                   '% Households: with a Householder Who Is Hispanic or Latino',\n",
    "                   '% Households: with a Householder Who Is White Alone, Not  Hispanic or Latino',\n",
    "                         ]"
   ]
  },
  {
   "cell_type": "markdown",
   "id": "a8c3a91a-68c9-4ba8-87ed-92b0dbe7652b",
   "metadata": {},
   "source": [
    "columns"
   ]
  },
  {
   "cell_type": "code",
   "execution_count": null,
   "id": "39fb8697-001f-4a2b-bbd7-8506507e4190",
   "metadata": {},
   "outputs": [],
   "source": [
    "logan_housing2= tracts.merge(dfcensusfull,on='FIPS')"
   ]
  },
  {
   "cell_type": "code",
   "execution_count": null,
   "id": "d165f8c8-b8aa-4798-aa5b-6d3b264ffc9b",
   "metadata": {},
   "outputs": [],
   "source": [
    "logan_housing2.head()"
   ]
  },
  {
   "cell_type": "code",
   "execution_count": null,
   "id": "19e92189-2ffc-4f80-9e8f-518e5e22a9c2",
   "metadata": {},
   "outputs": [],
   "source": [
    "dfcensus2['pct_ownocc'] = (dfcensus2['Owner-Occupied Housing Units']/dfcensus2['Housing Units'])*100\n"
   ]
  }
 ],
 "metadata": {
  "kernelspec": {
   "display_name": "Python 3 (ipykernel)",
   "language": "python",
   "name": "python3"
  },
  "language_info": {
   "codemirror_mode": {
    "name": "ipython",
    "version": 3
   },
   "file_extension": ".py",
   "mimetype": "text/x-python",
   "name": "python",
   "nbconvert_exporter": "python",
   "pygments_lexer": "ipython3",
   "version": "3.10.8"
  }
 },
 "nbformat": 4,
 "nbformat_minor": 5
}
