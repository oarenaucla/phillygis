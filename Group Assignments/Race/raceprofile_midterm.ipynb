{
 "cells": [
  {
   "cell_type": "markdown",
   "id": "b483ec80-c7bc-45a3-932a-a1482cb7d875",
   "metadata": {
    "tags": []
   },
   "source": [
    "# Philadelphia Race Profile"
   ]
  },
  {
   "cell_type": "markdown",
   "id": "f316dfcb-109d-42a4-8361-2ae840c6a191",
   "metadata": {},
   "source": [
    "### Description:\n",
    "The selected American Community Survey (ACS) 2021 (5-Year Estimates) dataset was sourced from Social Explorer; U.S. Census Bureau. The ACS survey data is used to explored Philadelphia's race profile, as well as the North Philadelphia's Logan Neighborhood Race Profile. Then, Philadelphia's 2010 census tracts are imported via a geojson file soured from Open Data Philly. The race data is then overlayed on the spatial file to view at the city and neighborhood level. "
   ]
  },
  {
   "cell_type": "markdown",
   "id": "caf24e5a-531a-4f1d-85d5-35f3df41122b",
   "metadata": {},
   "source": [
    "#### Author: \n",
    "\n",
    "Lindsey Morris"
   ]
  },
  {
   "cell_type": "code",
   "execution_count": 2,
   "id": "b44c1eff-b56f-4b9a-8a04-f4ac14496def",
   "metadata": {},
   "outputs": [],
   "source": [
    "import pandas as pd"
   ]
  },
  {
   "cell_type": "markdown",
   "id": "c826e942-fa42-4ef1-9739-208c2f0d618d",
   "metadata": {},
   "source": [
    "Load a data file from Week 3 of my repo"
   ]
  },
  {
   "cell_type": "code",
   "execution_count": 3,
   "id": "d3bbf84d-12f2-4592-8ebf-7062009f74b9",
   "metadata": {},
   "outputs": [],
   "source": [
    "race = pd.read_csv('race.csv')"
   ]
  },
  {
   "cell_type": "markdown",
   "id": "455c9f6f-746e-47ea-913b-ca01f58a98a3",
   "metadata": {},
   "source": [
    "Inspect size of the data"
   ]
  },
  {
   "cell_type": "code",
   "execution_count": 4,
   "id": "f7b06d60-3bd4-403f-982a-6a723e7495ba",
   "metadata": {},
   "outputs": [
    {
     "data": {
      "text/plain": [
       "(408, 70)"
      ]
     },
     "execution_count": 4,
     "metadata": {},
     "output_type": "execute_result"
    }
   ],
   "source": [
    "race.shape"
   ]
  },
  {
   "cell_type": "markdown",
   "id": "986c3993-4530-4a81-9805-1cb5ff69c5b8",
   "metadata": {},
   "source": [
    "The output above shows that there are 408 row and 70 columns in the dataset"
   ]
  },
  {
   "cell_type": "code",
   "execution_count": 5,
   "id": "4cd408d0-9aaf-4235-a5c3-2f87b962b804",
   "metadata": {},
   "outputs": [
    {
     "data": {
      "text/html": [
       "<div>\n",
       "<style scoped>\n",
       "    .dataframe tbody tr th:only-of-type {\n",
       "        vertical-align: middle;\n",
       "    }\n",
       "\n",
       "    .dataframe tbody tr th {\n",
       "        vertical-align: top;\n",
       "    }\n",
       "\n",
       "    .dataframe thead th {\n",
       "        text-align: right;\n",
       "    }\n",
       "</style>\n",
       "<table border=\"1\" class=\"dataframe\">\n",
       "  <thead>\n",
       "    <tr style=\"text-align: right;\">\n",
       "      <th></th>\n",
       "      <th>Geo_FIPS</th>\n",
       "      <th>Geo_QName</th>\n",
       "      <th>Geo_FILEID</th>\n",
       "      <th>Geo_STUSAB</th>\n",
       "      <th>Geo_SUMLEV</th>\n",
       "      <th>Geo_GEOCOMP</th>\n",
       "      <th>Geo_LOGRECNO</th>\n",
       "      <th>Geo_US</th>\n",
       "      <th>Geo_REGION</th>\n",
       "      <th>Geo_DIVISION</th>\n",
       "      <th>...</th>\n",
       "      <th>SE_A03001_006</th>\n",
       "      <th>SE_A03001_007</th>\n",
       "      <th>SE_A03001_008</th>\n",
       "      <th>PCT_SE_A03001_002</th>\n",
       "      <th>PCT_SE_A03001_003</th>\n",
       "      <th>PCT_SE_A03001_004</th>\n",
       "      <th>PCT_SE_A03001_005</th>\n",
       "      <th>PCT_SE_A03001_006</th>\n",
       "      <th>PCT_SE_A03001_007</th>\n",
       "      <th>PCT_SE_A03001_008</th>\n",
       "    </tr>\n",
       "  </thead>\n",
       "  <tbody>\n",
       "    <tr>\n",
       "      <th>0</th>\n",
       "      <td>42101000101</td>\n",
       "      <td>Census Tract 1.01, Philadelphia County, Pennsy...</td>\n",
       "      <td>ACSSF</td>\n",
       "      <td>pa</td>\n",
       "      <td>140</td>\n",
       "      <td>0</td>\n",
       "      <td>8807</td>\n",
       "      <td>NaN</td>\n",
       "      <td>NaN</td>\n",
       "      <td>NaN</td>\n",
       "      <td>...</td>\n",
       "      <td>0</td>\n",
       "      <td>99</td>\n",
       "      <td>37</td>\n",
       "      <td>83.98</td>\n",
       "      <td>1.40</td>\n",
       "      <td>0.00</td>\n",
       "      <td>7.83</td>\n",
       "      <td>0.0</td>\n",
       "      <td>4.94</td>\n",
       "      <td>1.85</td>\n",
       "    </tr>\n",
       "    <tr>\n",
       "      <th>1</th>\n",
       "      <td>42101000102</td>\n",
       "      <td>Census Tract 1.02, Philadelphia County, Pennsy...</td>\n",
       "      <td>ACSSF</td>\n",
       "      <td>pa</td>\n",
       "      <td>140</td>\n",
       "      <td>0</td>\n",
       "      <td>8808</td>\n",
       "      <td>NaN</td>\n",
       "      <td>NaN</td>\n",
       "      <td>NaN</td>\n",
       "      <td>...</td>\n",
       "      <td>0</td>\n",
       "      <td>48</td>\n",
       "      <td>35</td>\n",
       "      <td>91.24</td>\n",
       "      <td>2.98</td>\n",
       "      <td>0.00</td>\n",
       "      <td>2.76</td>\n",
       "      <td>0.0</td>\n",
       "      <td>1.74</td>\n",
       "      <td>1.27</td>\n",
       "    </tr>\n",
       "    <tr>\n",
       "      <th>2</th>\n",
       "      <td>42101000200</td>\n",
       "      <td>Census Tract 2, Philadelphia County, Pennsylvania</td>\n",
       "      <td>ACSSF</td>\n",
       "      <td>pa</td>\n",
       "      <td>140</td>\n",
       "      <td>0</td>\n",
       "      <td>8809</td>\n",
       "      <td>NaN</td>\n",
       "      <td>NaN</td>\n",
       "      <td>NaN</td>\n",
       "      <td>...</td>\n",
       "      <td>0</td>\n",
       "      <td>3</td>\n",
       "      <td>235</td>\n",
       "      <td>31.14</td>\n",
       "      <td>6.59</td>\n",
       "      <td>0.00</td>\n",
       "      <td>55.30</td>\n",
       "      <td>0.0</td>\n",
       "      <td>0.09</td>\n",
       "      <td>6.88</td>\n",
       "    </tr>\n",
       "    <tr>\n",
       "      <th>3</th>\n",
       "      <td>42101000300</td>\n",
       "      <td>Census Tract 3, Philadelphia County, Pennsylvania</td>\n",
       "      <td>ACSSF</td>\n",
       "      <td>pa</td>\n",
       "      <td>140</td>\n",
       "      <td>0</td>\n",
       "      <td>8810</td>\n",
       "      <td>NaN</td>\n",
       "      <td>NaN</td>\n",
       "      <td>NaN</td>\n",
       "      <td>...</td>\n",
       "      <td>0</td>\n",
       "      <td>56</td>\n",
       "      <td>405</td>\n",
       "      <td>63.63</td>\n",
       "      <td>6.11</td>\n",
       "      <td>0.08</td>\n",
       "      <td>17.25</td>\n",
       "      <td>0.0</td>\n",
       "      <td>1.57</td>\n",
       "      <td>11.36</td>\n",
       "    </tr>\n",
       "    <tr>\n",
       "      <th>4</th>\n",
       "      <td>42101000401</td>\n",
       "      <td>Census Tract 4.01, Philadelphia County, Pennsy...</td>\n",
       "      <td>ACSSF</td>\n",
       "      <td>pa</td>\n",
       "      <td>140</td>\n",
       "      <td>0</td>\n",
       "      <td>8811</td>\n",
       "      <td>NaN</td>\n",
       "      <td>NaN</td>\n",
       "      <td>NaN</td>\n",
       "      <td>...</td>\n",
       "      <td>0</td>\n",
       "      <td>0</td>\n",
       "      <td>128</td>\n",
       "      <td>61.99</td>\n",
       "      <td>14.57</td>\n",
       "      <td>0.00</td>\n",
       "      <td>18.46</td>\n",
       "      <td>0.0</td>\n",
       "      <td>0.00</td>\n",
       "      <td>4.97</td>\n",
       "    </tr>\n",
       "  </tbody>\n",
       "</table>\n",
       "<p>5 rows × 70 columns</p>\n",
       "</div>"
      ],
      "text/plain": [
       "      Geo_FIPS                                          Geo_QName Geo_FILEID  \\\n",
       "0  42101000101  Census Tract 1.01, Philadelphia County, Pennsy...      ACSSF   \n",
       "1  42101000102  Census Tract 1.02, Philadelphia County, Pennsy...      ACSSF   \n",
       "2  42101000200  Census Tract 2, Philadelphia County, Pennsylvania      ACSSF   \n",
       "3  42101000300  Census Tract 3, Philadelphia County, Pennsylvania      ACSSF   \n",
       "4  42101000401  Census Tract 4.01, Philadelphia County, Pennsy...      ACSSF   \n",
       "\n",
       "  Geo_STUSAB  Geo_SUMLEV  Geo_GEOCOMP  Geo_LOGRECNO  Geo_US  Geo_REGION  \\\n",
       "0         pa         140            0          8807     NaN         NaN   \n",
       "1         pa         140            0          8808     NaN         NaN   \n",
       "2         pa         140            0          8809     NaN         NaN   \n",
       "3         pa         140            0          8810     NaN         NaN   \n",
       "4         pa         140            0          8811     NaN         NaN   \n",
       "\n",
       "   Geo_DIVISION  ...  SE_A03001_006  SE_A03001_007  SE_A03001_008  \\\n",
       "0           NaN  ...              0             99             37   \n",
       "1           NaN  ...              0             48             35   \n",
       "2           NaN  ...              0              3            235   \n",
       "3           NaN  ...              0             56            405   \n",
       "4           NaN  ...              0              0            128   \n",
       "\n",
       "   PCT_SE_A03001_002  PCT_SE_A03001_003  PCT_SE_A03001_004  PCT_SE_A03001_005  \\\n",
       "0              83.98               1.40               0.00               7.83   \n",
       "1              91.24               2.98               0.00               2.76   \n",
       "2              31.14               6.59               0.00              55.30   \n",
       "3              63.63               6.11               0.08              17.25   \n",
       "4              61.99              14.57               0.00              18.46   \n",
       "\n",
       "   PCT_SE_A03001_006  PCT_SE_A03001_007  PCT_SE_A03001_008  \n",
       "0                0.0               4.94               1.85  \n",
       "1                0.0               1.74               1.27  \n",
       "2                0.0               0.09               6.88  \n",
       "3                0.0               1.57              11.36  \n",
       "4                0.0               0.00               4.97  \n",
       "\n",
       "[5 rows x 70 columns]"
      ]
     },
     "execution_count": 5,
     "metadata": {},
     "output_type": "execute_result"
    }
   ],
   "source": [
    "race.head()"
   ]
  },
  {
   "cell_type": "markdown",
   "id": "8f92907d-be59-45ca-91d3-553e42ae0406",
   "metadata": {},
   "source": [
    "The output above shows the first 5 rows of the dataset"
   ]
  },
  {
   "cell_type": "markdown",
   "id": "92de3084-cb4b-4f01-86fb-8c18cc2856fe",
   "metadata": {},
   "source": [
    "View a random row of the data set below"
   ]
  },
  {
   "cell_type": "code",
   "execution_count": 6,
   "id": "0b9f7289-328d-40b2-99e5-9e5a2dd0bc87",
   "metadata": {},
   "outputs": [
    {
     "data": {
      "text/html": [
       "<div>\n",
       "<style scoped>\n",
       "    .dataframe tbody tr th:only-of-type {\n",
       "        vertical-align: middle;\n",
       "    }\n",
       "\n",
       "    .dataframe tbody tr th {\n",
       "        vertical-align: top;\n",
       "    }\n",
       "\n",
       "    .dataframe thead th {\n",
       "        text-align: right;\n",
       "    }\n",
       "</style>\n",
       "<table border=\"1\" class=\"dataframe\">\n",
       "  <thead>\n",
       "    <tr style=\"text-align: right;\">\n",
       "      <th></th>\n",
       "      <th>Geo_FIPS</th>\n",
       "      <th>Geo_QName</th>\n",
       "      <th>Geo_FILEID</th>\n",
       "      <th>Geo_STUSAB</th>\n",
       "      <th>Geo_SUMLEV</th>\n",
       "      <th>Geo_GEOCOMP</th>\n",
       "      <th>Geo_LOGRECNO</th>\n",
       "      <th>Geo_US</th>\n",
       "      <th>Geo_REGION</th>\n",
       "      <th>Geo_DIVISION</th>\n",
       "      <th>...</th>\n",
       "      <th>SE_A03001_006</th>\n",
       "      <th>SE_A03001_007</th>\n",
       "      <th>SE_A03001_008</th>\n",
       "      <th>PCT_SE_A03001_002</th>\n",
       "      <th>PCT_SE_A03001_003</th>\n",
       "      <th>PCT_SE_A03001_004</th>\n",
       "      <th>PCT_SE_A03001_005</th>\n",
       "      <th>PCT_SE_A03001_006</th>\n",
       "      <th>PCT_SE_A03001_007</th>\n",
       "      <th>PCT_SE_A03001_008</th>\n",
       "    </tr>\n",
       "  </thead>\n",
       "  <tbody>\n",
       "    <tr>\n",
       "      <th>396</th>\n",
       "      <td>42101980701</td>\n",
       "      <td>Census Tract 9807.01, Philadelphia County, Pen...</td>\n",
       "      <td>ACSSF</td>\n",
       "      <td>pa</td>\n",
       "      <td>140</td>\n",
       "      <td>0</td>\n",
       "      <td>9203</td>\n",
       "      <td>NaN</td>\n",
       "      <td>NaN</td>\n",
       "      <td>NaN</td>\n",
       "      <td>...</td>\n",
       "      <td>0</td>\n",
       "      <td>0</td>\n",
       "      <td>0</td>\n",
       "      <td>NaN</td>\n",
       "      <td>NaN</td>\n",
       "      <td>NaN</td>\n",
       "      <td>NaN</td>\n",
       "      <td>NaN</td>\n",
       "      <td>NaN</td>\n",
       "      <td>NaN</td>\n",
       "    </tr>\n",
       "  </tbody>\n",
       "</table>\n",
       "<p>1 rows × 70 columns</p>\n",
       "</div>"
      ],
      "text/plain": [
       "        Geo_FIPS                                          Geo_QName  \\\n",
       "396  42101980701  Census Tract 9807.01, Philadelphia County, Pen...   \n",
       "\n",
       "    Geo_FILEID Geo_STUSAB  Geo_SUMLEV  Geo_GEOCOMP  Geo_LOGRECNO  Geo_US  \\\n",
       "396      ACSSF         pa         140            0          9203     NaN   \n",
       "\n",
       "     Geo_REGION  Geo_DIVISION  ...  SE_A03001_006  SE_A03001_007  \\\n",
       "396         NaN           NaN  ...              0              0   \n",
       "\n",
       "     SE_A03001_008  PCT_SE_A03001_002  PCT_SE_A03001_003  PCT_SE_A03001_004  \\\n",
       "396              0                NaN                NaN                NaN   \n",
       "\n",
       "     PCT_SE_A03001_005  PCT_SE_A03001_006  PCT_SE_A03001_007  \\\n",
       "396                NaN                NaN                NaN   \n",
       "\n",
       "     PCT_SE_A03001_008  \n",
       "396                NaN  \n",
       "\n",
       "[1 rows x 70 columns]"
      ]
     },
     "execution_count": 6,
     "metadata": {},
     "output_type": "execute_result"
    }
   ],
   "source": [
    "race.sample()"
   ]
  },
  {
   "cell_type": "markdown",
   "id": "5dcbc4f3-584b-4c3d-9370-ba8d4facc993",
   "metadata": {},
   "source": [
    "Look at the data type"
   ]
  },
  {
   "cell_type": "code",
   "execution_count": 7,
   "id": "12d206e0-46c1-4695-a5c2-41bbf3a3c12c",
   "metadata": {},
   "outputs": [
    {
     "name": "stdout",
     "output_type": "stream",
     "text": [
      "<class 'pandas.core.frame.DataFrame'>\n",
      "RangeIndex: 408 entries, 0 to 407\n",
      "Data columns (total 70 columns):\n",
      " #   Column             Non-Null Count  Dtype  \n",
      "---  ------             --------------  -----  \n",
      " 0   Geo_FIPS           408 non-null    int64  \n",
      " 1   Geo_QName          408 non-null    object \n",
      " 2   Geo_FILEID         408 non-null    object \n",
      " 3   Geo_STUSAB         408 non-null    object \n",
      " 4   Geo_SUMLEV         408 non-null    int64  \n",
      " 5   Geo_GEOCOMP        408 non-null    int64  \n",
      " 6   Geo_LOGRECNO       408 non-null    int64  \n",
      " 7   Geo_US             0 non-null      float64\n",
      " 8   Geo_REGION         0 non-null      float64\n",
      " 9   Geo_DIVISION       0 non-null      float64\n",
      " 10  Geo_STATECE        0 non-null      float64\n",
      " 11  Geo_STATE          408 non-null    int64  \n",
      " 12  Geo_COUNTY         408 non-null    int64  \n",
      " 13  Geo_COUSUB         0 non-null      float64\n",
      " 14  Geo_PLACE          0 non-null      float64\n",
      " 15  Geo_TRACT          408 non-null    int64  \n",
      " 16  Geo_BLKGRP         0 non-null      float64\n",
      " 17  Geo_CONCIT         0 non-null      float64\n",
      " 18  Geo_AIANHH         0 non-null      float64\n",
      " 19  Geo_AIANHHFP       0 non-null      float64\n",
      " 20  Geo_AIHHTLI        0 non-null      float64\n",
      " 21  Geo_AITSCE         0 non-null      float64\n",
      " 22  Geo_AITS           0 non-null      float64\n",
      " 23  Geo_ANRC           0 non-null      float64\n",
      " 24  Geo_CBSA           0 non-null      float64\n",
      " 25  Geo_CSA            0 non-null      float64\n",
      " 26  Geo_METDIV         0 non-null      float64\n",
      " 27  Geo_MACC           0 non-null      float64\n",
      " 28  Geo_MEMI           0 non-null      float64\n",
      " 29  Geo_NECTA          0 non-null      float64\n",
      " 30  Geo_CNECTA         0 non-null      float64\n",
      " 31  Geo_NECTADIV       0 non-null      float64\n",
      " 32  Geo_UA             0 non-null      float64\n",
      " 33  Geo_UACP           0 non-null      float64\n",
      " 34  Geo_CDCURR         0 non-null      float64\n",
      " 35  Geo_SLDU           0 non-null      float64\n",
      " 36  Geo_SLDL           0 non-null      float64\n",
      " 37  Geo_VTD            0 non-null      float64\n",
      " 38  Geo_ZCTA3          0 non-null      float64\n",
      " 39  Geo_ZCTA5          0 non-null      float64\n",
      " 40  Geo_SUBMCD         0 non-null      float64\n",
      " 41  Geo_SDELM          0 non-null      float64\n",
      " 42  Geo_SDSEC          0 non-null      float64\n",
      " 43  Geo_SDUNI          0 non-null      float64\n",
      " 44  Geo_UR             0 non-null      float64\n",
      " 45  Geo_PCI            0 non-null      float64\n",
      " 46  Geo_TAZ            0 non-null      float64\n",
      " 47  Geo_UGA            0 non-null      float64\n",
      " 48  Geo_PUMA5          0 non-null      float64\n",
      " 49  Geo_PUMA1          0 non-null      float64\n",
      " 50  Geo_GEOID          408 non-null    object \n",
      " 51  Geo_NAME           408 non-null    object \n",
      " 52  Geo_BTTR           0 non-null      float64\n",
      " 53  Geo_BTBG           0 non-null      float64\n",
      " 54  Geo_PLACESE        0 non-null      float64\n",
      " 55  SE_A03001_001      408 non-null    int64  \n",
      " 56  SE_A03001_002      408 non-null    int64  \n",
      " 57  SE_A03001_003      408 non-null    int64  \n",
      " 58  SE_A03001_004      408 non-null    int64  \n",
      " 59  SE_A03001_005      408 non-null    int64  \n",
      " 60  SE_A03001_006      408 non-null    int64  \n",
      " 61  SE_A03001_007      408 non-null    int64  \n",
      " 62  SE_A03001_008      408 non-null    int64  \n",
      " 63  PCT_SE_A03001_002  391 non-null    float64\n",
      " 64  PCT_SE_A03001_003  391 non-null    float64\n",
      " 65  PCT_SE_A03001_004  391 non-null    float64\n",
      " 66  PCT_SE_A03001_005  391 non-null    float64\n",
      " 67  PCT_SE_A03001_006  391 non-null    float64\n",
      " 68  PCT_SE_A03001_007  391 non-null    float64\n",
      " 69  PCT_SE_A03001_008  391 non-null    float64\n",
      "dtypes: float64(50), int64(15), object(5)\n",
      "memory usage: 223.2+ KB\n"
     ]
    }
   ],
   "source": [
    "race.info(verbose=True, show_counts=True)"
   ]
  },
  {
   "cell_type": "markdown",
   "id": "1f1a3de4-2ed9-4668-a4c7-cd7d7f51a9e9",
   "metadata": {},
   "source": [
    "#### Assigning Data Types on Import"
   ]
  },
  {
   "cell_type": "markdown",
   "id": "4bdacd71-1a56-49b7-a3ac-480f64b1d7ff",
   "metadata": {},
   "source": [
    "Take a closer look at the unique identifier column, Geo_FIPS."
   ]
  },
  {
   "cell_type": "code",
   "execution_count": 8,
   "id": "1805c798-a7be-416a-a685-887f6ba18429",
   "metadata": {},
   "outputs": [
    {
     "data": {
      "text/plain": [
       "0    42101000101\n",
       "1    42101000102\n",
       "2    42101000200\n",
       "3    42101000300\n",
       "4    42101000401\n",
       "Name: Geo_FIPS, dtype: int64"
      ]
     },
     "execution_count": 8,
     "metadata": {},
     "output_type": "execute_result"
    }
   ],
   "source": [
    "race.Geo_FIPS.head()"
   ]
  },
  {
   "cell_type": "code",
   "execution_count": 9,
   "id": "de81a429-61b0-47de-a369-f736fe7105b2",
   "metadata": {},
   "outputs": [
    {
     "data": {
      "text/html": [
       "<div>\n",
       "<style scoped>\n",
       "    .dataframe tbody tr th:only-of-type {\n",
       "        vertical-align: middle;\n",
       "    }\n",
       "\n",
       "    .dataframe tbody tr th {\n",
       "        vertical-align: top;\n",
       "    }\n",
       "\n",
       "    .dataframe thead th {\n",
       "        text-align: right;\n",
       "    }\n",
       "</style>\n",
       "<table border=\"1\" class=\"dataframe\">\n",
       "  <thead>\n",
       "    <tr style=\"text-align: right;\">\n",
       "      <th></th>\n",
       "      <th>Geo_FIPS</th>\n",
       "      <th>Geo_QName</th>\n",
       "      <th>Geo_FILEID</th>\n",
       "      <th>Geo_STUSAB</th>\n",
       "      <th>Geo_SUMLEV</th>\n",
       "      <th>Geo_GEOCOMP</th>\n",
       "      <th>Geo_LOGRECNO</th>\n",
       "      <th>Geo_US</th>\n",
       "      <th>Geo_REGION</th>\n",
       "      <th>Geo_DIVISION</th>\n",
       "      <th>...</th>\n",
       "      <th>SE_A03001_006</th>\n",
       "      <th>SE_A03001_007</th>\n",
       "      <th>SE_A03001_008</th>\n",
       "      <th>PCT_SE_A03001_002</th>\n",
       "      <th>PCT_SE_A03001_003</th>\n",
       "      <th>PCT_SE_A03001_004</th>\n",
       "      <th>PCT_SE_A03001_005</th>\n",
       "      <th>PCT_SE_A03001_006</th>\n",
       "      <th>PCT_SE_A03001_007</th>\n",
       "      <th>PCT_SE_A03001_008</th>\n",
       "    </tr>\n",
       "  </thead>\n",
       "  <tbody>\n",
       "    <tr>\n",
       "      <th>0</th>\n",
       "      <td>42101000101</td>\n",
       "      <td>Census Tract 1.01, Philadelphia County, Pennsy...</td>\n",
       "      <td>ACSSF</td>\n",
       "      <td>pa</td>\n",
       "      <td>140</td>\n",
       "      <td>0</td>\n",
       "      <td>8807</td>\n",
       "      <td>NaN</td>\n",
       "      <td>NaN</td>\n",
       "      <td>NaN</td>\n",
       "      <td>...</td>\n",
       "      <td>0</td>\n",
       "      <td>99</td>\n",
       "      <td>37</td>\n",
       "      <td>83.98</td>\n",
       "      <td>1.40</td>\n",
       "      <td>0.00</td>\n",
       "      <td>7.83</td>\n",
       "      <td>0.0</td>\n",
       "      <td>4.94</td>\n",
       "      <td>1.85</td>\n",
       "    </tr>\n",
       "    <tr>\n",
       "      <th>1</th>\n",
       "      <td>42101000102</td>\n",
       "      <td>Census Tract 1.02, Philadelphia County, Pennsy...</td>\n",
       "      <td>ACSSF</td>\n",
       "      <td>pa</td>\n",
       "      <td>140</td>\n",
       "      <td>0</td>\n",
       "      <td>8808</td>\n",
       "      <td>NaN</td>\n",
       "      <td>NaN</td>\n",
       "      <td>NaN</td>\n",
       "      <td>...</td>\n",
       "      <td>0</td>\n",
       "      <td>48</td>\n",
       "      <td>35</td>\n",
       "      <td>91.24</td>\n",
       "      <td>2.98</td>\n",
       "      <td>0.00</td>\n",
       "      <td>2.76</td>\n",
       "      <td>0.0</td>\n",
       "      <td>1.74</td>\n",
       "      <td>1.27</td>\n",
       "    </tr>\n",
       "    <tr>\n",
       "      <th>2</th>\n",
       "      <td>42101000200</td>\n",
       "      <td>Census Tract 2, Philadelphia County, Pennsylvania</td>\n",
       "      <td>ACSSF</td>\n",
       "      <td>pa</td>\n",
       "      <td>140</td>\n",
       "      <td>0</td>\n",
       "      <td>8809</td>\n",
       "      <td>NaN</td>\n",
       "      <td>NaN</td>\n",
       "      <td>NaN</td>\n",
       "      <td>...</td>\n",
       "      <td>0</td>\n",
       "      <td>3</td>\n",
       "      <td>235</td>\n",
       "      <td>31.14</td>\n",
       "      <td>6.59</td>\n",
       "      <td>0.00</td>\n",
       "      <td>55.30</td>\n",
       "      <td>0.0</td>\n",
       "      <td>0.09</td>\n",
       "      <td>6.88</td>\n",
       "    </tr>\n",
       "    <tr>\n",
       "      <th>3</th>\n",
       "      <td>42101000300</td>\n",
       "      <td>Census Tract 3, Philadelphia County, Pennsylvania</td>\n",
       "      <td>ACSSF</td>\n",
       "      <td>pa</td>\n",
       "      <td>140</td>\n",
       "      <td>0</td>\n",
       "      <td>8810</td>\n",
       "      <td>NaN</td>\n",
       "      <td>NaN</td>\n",
       "      <td>NaN</td>\n",
       "      <td>...</td>\n",
       "      <td>0</td>\n",
       "      <td>56</td>\n",
       "      <td>405</td>\n",
       "      <td>63.63</td>\n",
       "      <td>6.11</td>\n",
       "      <td>0.08</td>\n",
       "      <td>17.25</td>\n",
       "      <td>0.0</td>\n",
       "      <td>1.57</td>\n",
       "      <td>11.36</td>\n",
       "    </tr>\n",
       "    <tr>\n",
       "      <th>4</th>\n",
       "      <td>42101000401</td>\n",
       "      <td>Census Tract 4.01, Philadelphia County, Pennsy...</td>\n",
       "      <td>ACSSF</td>\n",
       "      <td>pa</td>\n",
       "      <td>140</td>\n",
       "      <td>0</td>\n",
       "      <td>8811</td>\n",
       "      <td>NaN</td>\n",
       "      <td>NaN</td>\n",
       "      <td>NaN</td>\n",
       "      <td>...</td>\n",
       "      <td>0</td>\n",
       "      <td>0</td>\n",
       "      <td>128</td>\n",
       "      <td>61.99</td>\n",
       "      <td>14.57</td>\n",
       "      <td>0.00</td>\n",
       "      <td>18.46</td>\n",
       "      <td>0.0</td>\n",
       "      <td>0.00</td>\n",
       "      <td>4.97</td>\n",
       "    </tr>\n",
       "  </tbody>\n",
       "</table>\n",
       "<p>5 rows × 70 columns</p>\n",
       "</div>"
      ],
      "text/plain": [
       "      Geo_FIPS                                          Geo_QName Geo_FILEID  \\\n",
       "0  42101000101  Census Tract 1.01, Philadelphia County, Pennsy...      ACSSF   \n",
       "1  42101000102  Census Tract 1.02, Philadelphia County, Pennsy...      ACSSF   \n",
       "2  42101000200  Census Tract 2, Philadelphia County, Pennsylvania      ACSSF   \n",
       "3  42101000300  Census Tract 3, Philadelphia County, Pennsylvania      ACSSF   \n",
       "4  42101000401  Census Tract 4.01, Philadelphia County, Pennsy...      ACSSF   \n",
       "\n",
       "  Geo_STUSAB  Geo_SUMLEV  Geo_GEOCOMP  Geo_LOGRECNO  Geo_US  Geo_REGION  \\\n",
       "0         pa         140            0          8807     NaN         NaN   \n",
       "1         pa         140            0          8808     NaN         NaN   \n",
       "2         pa         140            0          8809     NaN         NaN   \n",
       "3         pa         140            0          8810     NaN         NaN   \n",
       "4         pa         140            0          8811     NaN         NaN   \n",
       "\n",
       "   Geo_DIVISION  ...  SE_A03001_006  SE_A03001_007  SE_A03001_008  \\\n",
       "0           NaN  ...              0             99             37   \n",
       "1           NaN  ...              0             48             35   \n",
       "2           NaN  ...              0              3            235   \n",
       "3           NaN  ...              0             56            405   \n",
       "4           NaN  ...              0              0            128   \n",
       "\n",
       "   PCT_SE_A03001_002  PCT_SE_A03001_003  PCT_SE_A03001_004  PCT_SE_A03001_005  \\\n",
       "0              83.98               1.40               0.00               7.83   \n",
       "1              91.24               2.98               0.00               2.76   \n",
       "2              31.14               6.59               0.00              55.30   \n",
       "3              63.63               6.11               0.08              17.25   \n",
       "4              61.99              14.57               0.00              18.46   \n",
       "\n",
       "   PCT_SE_A03001_006  PCT_SE_A03001_007  PCT_SE_A03001_008  \n",
       "0                0.0               4.94               1.85  \n",
       "1                0.0               1.74               1.27  \n",
       "2                0.0               0.09               6.88  \n",
       "3                0.0               1.57              11.36  \n",
       "4                0.0               0.00               4.97  \n",
       "\n",
       "[5 rows x 70 columns]"
      ]
     },
     "execution_count": 9,
     "metadata": {},
     "output_type": "execute_result"
    }
   ],
   "source": [
    "race.head()"
   ]
  },
  {
   "cell_type": "markdown",
   "id": "b3078b31-8d82-4525-b59f-b45eef238df9",
   "metadata": {},
   "source": [
    "Confirm race dataset has the correct datatypes. "
   ]
  },
  {
   "cell_type": "code",
   "execution_count": 10,
   "id": "d6f57979-6c77-465d-8cb5-1b63dce34bf9",
   "metadata": {},
   "outputs": [
    {
     "name": "stdout",
     "output_type": "stream",
     "text": [
      "<class 'pandas.core.frame.DataFrame'>\n",
      "RangeIndex: 408 entries, 0 to 407\n",
      "Data columns (total 70 columns):\n",
      " #   Column             Non-Null Count  Dtype  \n",
      "---  ------             --------------  -----  \n",
      " 0   Geo_FIPS           408 non-null    int64  \n",
      " 1   Geo_QName          408 non-null    object \n",
      " 2   Geo_FILEID         408 non-null    object \n",
      " 3   Geo_STUSAB         408 non-null    object \n",
      " 4   Geo_SUMLEV         408 non-null    int64  \n",
      " 5   Geo_GEOCOMP        408 non-null    int64  \n",
      " 6   Geo_LOGRECNO       408 non-null    int64  \n",
      " 7   Geo_US             0 non-null      float64\n",
      " 8   Geo_REGION         0 non-null      float64\n",
      " 9   Geo_DIVISION       0 non-null      float64\n",
      " 10  Geo_STATECE        0 non-null      float64\n",
      " 11  Geo_STATE          408 non-null    int64  \n",
      " 12  Geo_COUNTY         408 non-null    int64  \n",
      " 13  Geo_COUSUB         0 non-null      float64\n",
      " 14  Geo_PLACE          0 non-null      float64\n",
      " 15  Geo_TRACT          408 non-null    int64  \n",
      " 16  Geo_BLKGRP         0 non-null      float64\n",
      " 17  Geo_CONCIT         0 non-null      float64\n",
      " 18  Geo_AIANHH         0 non-null      float64\n",
      " 19  Geo_AIANHHFP       0 non-null      float64\n",
      " 20  Geo_AIHHTLI        0 non-null      float64\n",
      " 21  Geo_AITSCE         0 non-null      float64\n",
      " 22  Geo_AITS           0 non-null      float64\n",
      " 23  Geo_ANRC           0 non-null      float64\n",
      " 24  Geo_CBSA           0 non-null      float64\n",
      " 25  Geo_CSA            0 non-null      float64\n",
      " 26  Geo_METDIV         0 non-null      float64\n",
      " 27  Geo_MACC           0 non-null      float64\n",
      " 28  Geo_MEMI           0 non-null      float64\n",
      " 29  Geo_NECTA          0 non-null      float64\n",
      " 30  Geo_CNECTA         0 non-null      float64\n",
      " 31  Geo_NECTADIV       0 non-null      float64\n",
      " 32  Geo_UA             0 non-null      float64\n",
      " 33  Geo_UACP           0 non-null      float64\n",
      " 34  Geo_CDCURR         0 non-null      float64\n",
      " 35  Geo_SLDU           0 non-null      float64\n",
      " 36  Geo_SLDL           0 non-null      float64\n",
      " 37  Geo_VTD            0 non-null      float64\n",
      " 38  Geo_ZCTA3          0 non-null      float64\n",
      " 39  Geo_ZCTA5          0 non-null      float64\n",
      " 40  Geo_SUBMCD         0 non-null      float64\n",
      " 41  Geo_SDELM          0 non-null      float64\n",
      " 42  Geo_SDSEC          0 non-null      float64\n",
      " 43  Geo_SDUNI          0 non-null      float64\n",
      " 44  Geo_UR             0 non-null      float64\n",
      " 45  Geo_PCI            0 non-null      float64\n",
      " 46  Geo_TAZ            0 non-null      float64\n",
      " 47  Geo_UGA            0 non-null      float64\n",
      " 48  Geo_PUMA5          0 non-null      float64\n",
      " 49  Geo_PUMA1          0 non-null      float64\n",
      " 50  Geo_GEOID          408 non-null    object \n",
      " 51  Geo_NAME           408 non-null    object \n",
      " 52  Geo_BTTR           0 non-null      float64\n",
      " 53  Geo_BTBG           0 non-null      float64\n",
      " 54  Geo_PLACESE        0 non-null      float64\n",
      " 55  SE_A03001_001      408 non-null    int64  \n",
      " 56  SE_A03001_002      408 non-null    int64  \n",
      " 57  SE_A03001_003      408 non-null    int64  \n",
      " 58  SE_A03001_004      408 non-null    int64  \n",
      " 59  SE_A03001_005      408 non-null    int64  \n",
      " 60  SE_A03001_006      408 non-null    int64  \n",
      " 61  SE_A03001_007      408 non-null    int64  \n",
      " 62  SE_A03001_008      408 non-null    int64  \n",
      " 63  PCT_SE_A03001_002  391 non-null    float64\n",
      " 64  PCT_SE_A03001_003  391 non-null    float64\n",
      " 65  PCT_SE_A03001_004  391 non-null    float64\n",
      " 66  PCT_SE_A03001_005  391 non-null    float64\n",
      " 67  PCT_SE_A03001_006  391 non-null    float64\n",
      " 68  PCT_SE_A03001_007  391 non-null    float64\n",
      " 69  PCT_SE_A03001_008  391 non-null    float64\n",
      "dtypes: float64(50), int64(15), object(5)\n",
      "memory usage: 223.2+ KB\n"
     ]
    }
   ],
   "source": [
    "race.info(verbose=True, show_counts=True)"
   ]
  },
  {
   "cell_type": "markdown",
   "id": "08966156-28d5-429f-a19a-3ec7936d5b59",
   "metadata": {},
   "source": [
    "#### Drop/Delete Null Columns"
   ]
  },
  {
   "cell_type": "code",
   "execution_count": 11,
   "id": "ba7872d3-56ce-45f7-b93b-89f93ffb01b8",
   "metadata": {},
   "outputs": [
    {
     "data": {
      "text/plain": [
       "['Geo_US',\n",
       " 'Geo_REGION',\n",
       " 'Geo_DIVISION',\n",
       " 'Geo_STATECE',\n",
       " 'Geo_COUSUB',\n",
       " 'Geo_PLACE',\n",
       " 'Geo_BLKGRP',\n",
       " 'Geo_CONCIT',\n",
       " 'Geo_AIANHH',\n",
       " 'Geo_AIANHHFP',\n",
       " 'Geo_AIHHTLI',\n",
       " 'Geo_AITSCE',\n",
       " 'Geo_AITS',\n",
       " 'Geo_ANRC',\n",
       " 'Geo_CBSA',\n",
       " 'Geo_CSA',\n",
       " 'Geo_METDIV',\n",
       " 'Geo_MACC',\n",
       " 'Geo_MEMI',\n",
       " 'Geo_NECTA',\n",
       " 'Geo_CNECTA',\n",
       " 'Geo_NECTADIV',\n",
       " 'Geo_UA',\n",
       " 'Geo_UACP',\n",
       " 'Geo_CDCURR',\n",
       " 'Geo_SLDU',\n",
       " 'Geo_SLDL',\n",
       " 'Geo_VTD',\n",
       " 'Geo_ZCTA3',\n",
       " 'Geo_ZCTA5',\n",
       " 'Geo_SUBMCD',\n",
       " 'Geo_SDELM',\n",
       " 'Geo_SDSEC',\n",
       " 'Geo_SDUNI',\n",
       " 'Geo_UR',\n",
       " 'Geo_PCI',\n",
       " 'Geo_TAZ',\n",
       " 'Geo_UGA',\n",
       " 'Geo_PUMA5',\n",
       " 'Geo_PUMA1',\n",
       " 'Geo_BTTR',\n",
       " 'Geo_BTBG',\n",
       " 'Geo_PLACESE']"
      ]
     },
     "execution_count": 11,
     "metadata": {},
     "output_type": "execute_result"
    }
   ],
   "source": [
    "race.columns[race.isna().all()].tolist()"
   ]
  },
  {
   "cell_type": "markdown",
   "id": "381823df-113e-41d9-9dd6-ea7f6bd804ef",
   "metadata": {},
   "source": [
    "Output above shows many null columns\n",
    "\n",
    "Eliminate the null columns "
   ]
  },
  {
   "cell_type": "code",
   "execution_count": 12,
   "id": "75b72cb2-1376-459e-ac01-9016bc2c6437",
   "metadata": {},
   "outputs": [],
   "source": [
    "race = race.dropna(axis=1,how=\"all\")"
   ]
  },
  {
   "cell_type": "markdown",
   "id": "e53bc796-4508-4ce0-a332-41af55f7e724",
   "metadata": {},
   "source": [
    "check that the null columns have been dropped"
   ]
  },
  {
   "cell_type": "code",
   "execution_count": 13,
   "id": "c8172667-a934-42c1-a51f-52461702f125",
   "metadata": {},
   "outputs": [
    {
     "name": "stdout",
     "output_type": "stream",
     "text": [
      "<class 'pandas.core.frame.DataFrame'>\n",
      "RangeIndex: 408 entries, 0 to 407\n",
      "Data columns (total 27 columns):\n",
      " #   Column             Non-Null Count  Dtype  \n",
      "---  ------             --------------  -----  \n",
      " 0   Geo_FIPS           408 non-null    int64  \n",
      " 1   Geo_QName          408 non-null    object \n",
      " 2   Geo_FILEID         408 non-null    object \n",
      " 3   Geo_STUSAB         408 non-null    object \n",
      " 4   Geo_SUMLEV         408 non-null    int64  \n",
      " 5   Geo_GEOCOMP        408 non-null    int64  \n",
      " 6   Geo_LOGRECNO       408 non-null    int64  \n",
      " 7   Geo_STATE          408 non-null    int64  \n",
      " 8   Geo_COUNTY         408 non-null    int64  \n",
      " 9   Geo_TRACT          408 non-null    int64  \n",
      " 10  Geo_GEOID          408 non-null    object \n",
      " 11  Geo_NAME           408 non-null    object \n",
      " 12  SE_A03001_001      408 non-null    int64  \n",
      " 13  SE_A03001_002      408 non-null    int64  \n",
      " 14  SE_A03001_003      408 non-null    int64  \n",
      " 15  SE_A03001_004      408 non-null    int64  \n",
      " 16  SE_A03001_005      408 non-null    int64  \n",
      " 17  SE_A03001_006      408 non-null    int64  \n",
      " 18  SE_A03001_007      408 non-null    int64  \n",
      " 19  SE_A03001_008      408 non-null    int64  \n",
      " 20  PCT_SE_A03001_002  391 non-null    float64\n",
      " 21  PCT_SE_A03001_003  391 non-null    float64\n",
      " 22  PCT_SE_A03001_004  391 non-null    float64\n",
      " 23  PCT_SE_A03001_005  391 non-null    float64\n",
      " 24  PCT_SE_A03001_006  391 non-null    float64\n",
      " 25  PCT_SE_A03001_007  391 non-null    float64\n",
      " 26  PCT_SE_A03001_008  391 non-null    float64\n",
      "dtypes: float64(7), int64(15), object(5)\n",
      "memory usage: 86.2+ KB\n"
     ]
    }
   ],
   "source": [
    "race.info()"
   ]
  },
  {
   "cell_type": "markdown",
   "id": "fd401977-bee1-4b0e-b1a5-6b4df6e30129",
   "metadata": {},
   "source": [
    "Null columns were dropped\n",
    "\n",
    "Reinspect the data below"
   ]
  },
  {
   "cell_type": "code",
   "execution_count": 14,
   "id": "7ba751da-cfd1-4a1e-8907-85043f606a73",
   "metadata": {},
   "outputs": [
    {
     "data": {
      "text/html": [
       "<div>\n",
       "<style scoped>\n",
       "    .dataframe tbody tr th:only-of-type {\n",
       "        vertical-align: middle;\n",
       "    }\n",
       "\n",
       "    .dataframe tbody tr th {\n",
       "        vertical-align: top;\n",
       "    }\n",
       "\n",
       "    .dataframe thead th {\n",
       "        text-align: right;\n",
       "    }\n",
       "</style>\n",
       "<table border=\"1\" class=\"dataframe\">\n",
       "  <thead>\n",
       "    <tr style=\"text-align: right;\">\n",
       "      <th></th>\n",
       "      <th>Geo_FIPS</th>\n",
       "      <th>Geo_QName</th>\n",
       "      <th>Geo_FILEID</th>\n",
       "      <th>Geo_STUSAB</th>\n",
       "      <th>Geo_SUMLEV</th>\n",
       "      <th>Geo_GEOCOMP</th>\n",
       "      <th>Geo_LOGRECNO</th>\n",
       "      <th>Geo_STATE</th>\n",
       "      <th>Geo_COUNTY</th>\n",
       "      <th>Geo_TRACT</th>\n",
       "      <th>...</th>\n",
       "      <th>SE_A03001_006</th>\n",
       "      <th>SE_A03001_007</th>\n",
       "      <th>SE_A03001_008</th>\n",
       "      <th>PCT_SE_A03001_002</th>\n",
       "      <th>PCT_SE_A03001_003</th>\n",
       "      <th>PCT_SE_A03001_004</th>\n",
       "      <th>PCT_SE_A03001_005</th>\n",
       "      <th>PCT_SE_A03001_006</th>\n",
       "      <th>PCT_SE_A03001_007</th>\n",
       "      <th>PCT_SE_A03001_008</th>\n",
       "    </tr>\n",
       "  </thead>\n",
       "  <tbody>\n",
       "    <tr>\n",
       "      <th>0</th>\n",
       "      <td>42101000101</td>\n",
       "      <td>Census Tract 1.01, Philadelphia County, Pennsy...</td>\n",
       "      <td>ACSSF</td>\n",
       "      <td>pa</td>\n",
       "      <td>140</td>\n",
       "      <td>0</td>\n",
       "      <td>8807</td>\n",
       "      <td>42</td>\n",
       "      <td>101</td>\n",
       "      <td>101</td>\n",
       "      <td>...</td>\n",
       "      <td>0</td>\n",
       "      <td>99</td>\n",
       "      <td>37</td>\n",
       "      <td>83.98</td>\n",
       "      <td>1.40</td>\n",
       "      <td>0.00</td>\n",
       "      <td>7.83</td>\n",
       "      <td>0.0</td>\n",
       "      <td>4.94</td>\n",
       "      <td>1.85</td>\n",
       "    </tr>\n",
       "    <tr>\n",
       "      <th>1</th>\n",
       "      <td>42101000102</td>\n",
       "      <td>Census Tract 1.02, Philadelphia County, Pennsy...</td>\n",
       "      <td>ACSSF</td>\n",
       "      <td>pa</td>\n",
       "      <td>140</td>\n",
       "      <td>0</td>\n",
       "      <td>8808</td>\n",
       "      <td>42</td>\n",
       "      <td>101</td>\n",
       "      <td>102</td>\n",
       "      <td>...</td>\n",
       "      <td>0</td>\n",
       "      <td>48</td>\n",
       "      <td>35</td>\n",
       "      <td>91.24</td>\n",
       "      <td>2.98</td>\n",
       "      <td>0.00</td>\n",
       "      <td>2.76</td>\n",
       "      <td>0.0</td>\n",
       "      <td>1.74</td>\n",
       "      <td>1.27</td>\n",
       "    </tr>\n",
       "    <tr>\n",
       "      <th>2</th>\n",
       "      <td>42101000200</td>\n",
       "      <td>Census Tract 2, Philadelphia County, Pennsylvania</td>\n",
       "      <td>ACSSF</td>\n",
       "      <td>pa</td>\n",
       "      <td>140</td>\n",
       "      <td>0</td>\n",
       "      <td>8809</td>\n",
       "      <td>42</td>\n",
       "      <td>101</td>\n",
       "      <td>200</td>\n",
       "      <td>...</td>\n",
       "      <td>0</td>\n",
       "      <td>3</td>\n",
       "      <td>235</td>\n",
       "      <td>31.14</td>\n",
       "      <td>6.59</td>\n",
       "      <td>0.00</td>\n",
       "      <td>55.30</td>\n",
       "      <td>0.0</td>\n",
       "      <td>0.09</td>\n",
       "      <td>6.88</td>\n",
       "    </tr>\n",
       "    <tr>\n",
       "      <th>3</th>\n",
       "      <td>42101000300</td>\n",
       "      <td>Census Tract 3, Philadelphia County, Pennsylvania</td>\n",
       "      <td>ACSSF</td>\n",
       "      <td>pa</td>\n",
       "      <td>140</td>\n",
       "      <td>0</td>\n",
       "      <td>8810</td>\n",
       "      <td>42</td>\n",
       "      <td>101</td>\n",
       "      <td>300</td>\n",
       "      <td>...</td>\n",
       "      <td>0</td>\n",
       "      <td>56</td>\n",
       "      <td>405</td>\n",
       "      <td>63.63</td>\n",
       "      <td>6.11</td>\n",
       "      <td>0.08</td>\n",
       "      <td>17.25</td>\n",
       "      <td>0.0</td>\n",
       "      <td>1.57</td>\n",
       "      <td>11.36</td>\n",
       "    </tr>\n",
       "    <tr>\n",
       "      <th>4</th>\n",
       "      <td>42101000401</td>\n",
       "      <td>Census Tract 4.01, Philadelphia County, Pennsy...</td>\n",
       "      <td>ACSSF</td>\n",
       "      <td>pa</td>\n",
       "      <td>140</td>\n",
       "      <td>0</td>\n",
       "      <td>8811</td>\n",
       "      <td>42</td>\n",
       "      <td>101</td>\n",
       "      <td>401</td>\n",
       "      <td>...</td>\n",
       "      <td>0</td>\n",
       "      <td>0</td>\n",
       "      <td>128</td>\n",
       "      <td>61.99</td>\n",
       "      <td>14.57</td>\n",
       "      <td>0.00</td>\n",
       "      <td>18.46</td>\n",
       "      <td>0.0</td>\n",
       "      <td>0.00</td>\n",
       "      <td>4.97</td>\n",
       "    </tr>\n",
       "  </tbody>\n",
       "</table>\n",
       "<p>5 rows × 27 columns</p>\n",
       "</div>"
      ],
      "text/plain": [
       "      Geo_FIPS                                          Geo_QName Geo_FILEID  \\\n",
       "0  42101000101  Census Tract 1.01, Philadelphia County, Pennsy...      ACSSF   \n",
       "1  42101000102  Census Tract 1.02, Philadelphia County, Pennsy...      ACSSF   \n",
       "2  42101000200  Census Tract 2, Philadelphia County, Pennsylvania      ACSSF   \n",
       "3  42101000300  Census Tract 3, Philadelphia County, Pennsylvania      ACSSF   \n",
       "4  42101000401  Census Tract 4.01, Philadelphia County, Pennsy...      ACSSF   \n",
       "\n",
       "  Geo_STUSAB  Geo_SUMLEV  Geo_GEOCOMP  Geo_LOGRECNO  Geo_STATE  Geo_COUNTY  \\\n",
       "0         pa         140            0          8807         42         101   \n",
       "1         pa         140            0          8808         42         101   \n",
       "2         pa         140            0          8809         42         101   \n",
       "3         pa         140            0          8810         42         101   \n",
       "4         pa         140            0          8811         42         101   \n",
       "\n",
       "   Geo_TRACT  ... SE_A03001_006 SE_A03001_007  SE_A03001_008  \\\n",
       "0        101  ...             0            99             37   \n",
       "1        102  ...             0            48             35   \n",
       "2        200  ...             0             3            235   \n",
       "3        300  ...             0            56            405   \n",
       "4        401  ...             0             0            128   \n",
       "\n",
       "   PCT_SE_A03001_002  PCT_SE_A03001_003  PCT_SE_A03001_004  PCT_SE_A03001_005  \\\n",
       "0              83.98               1.40               0.00               7.83   \n",
       "1              91.24               2.98               0.00               2.76   \n",
       "2              31.14               6.59               0.00              55.30   \n",
       "3              63.63               6.11               0.08              17.25   \n",
       "4              61.99              14.57               0.00              18.46   \n",
       "\n",
       "   PCT_SE_A03001_006  PCT_SE_A03001_007  PCT_SE_A03001_008  \n",
       "0                0.0               4.94               1.85  \n",
       "1                0.0               1.74               1.27  \n",
       "2                0.0               0.09               6.88  \n",
       "3                0.0               1.57              11.36  \n",
       "4                0.0               0.00               4.97  \n",
       "\n",
       "[5 rows x 27 columns]"
      ]
     },
     "execution_count": 14,
     "metadata": {},
     "output_type": "execute_result"
    }
   ],
   "source": [
    "race.head()"
   ]
  },
  {
   "cell_type": "markdown",
   "id": "bdd17c55-8de7-4c15-9a57-d2816b8b6fb1",
   "metadata": {},
   "source": [
    "#### Working with the Census Data Dictionary"
   ]
  },
  {
   "cell_type": "markdown",
   "id": "b0ba272e-990b-4bb1-b7e1-85ee6666c4f6",
   "metadata": {},
   "source": [
    "##### Define Columns to Keep"
   ]
  },
  {
   "cell_type": "markdown",
   "id": "9f907261-3ea7-4da7-a07e-54775edb5741",
   "metadata": {},
   "source": [
    "In this session, the ACS 2021 \"Race by Ethnicity\" columns (listed below) are being analyzed. \n",
    "\n",
    "Geo_FIPS: Geographic FIPS identifier\n",
    "- SE_A03001_001: Total Population\n",
    "- SE_A03001_002: Non Hispanic White Alone\n",
    "- SE_A03001_003: Non Hispanic Black or African American Alone \n",
    "- SE_A03001_004: Non Hispanic American Indian and Alaska Native Alone\n",
    "- SE_A03001_005: Non Hispanic Asian Alone\n",
    "- SE_A03001_006: Non Hispanic Native Hawaiian and Pacific Islander Alone\n",
    "- SE_A03001_007: Non Hispanic Other Alone\n",
    "- SE_A03001_008: Non Hispanic Multi Race"
   ]
  },
  {
   "cell_type": "markdown",
   "id": "b01fcc58-7252-4a80-848d-2745e3bcf77d",
   "metadata": {},
   "source": [
    "Create a subset of our dataframe and create a new dataframe"
   ]
  },
  {
   "cell_type": "code",
   "execution_count": 15,
   "id": "0deb27b9-0233-45a5-807c-0cf04db415d6",
   "metadata": {},
   "outputs": [],
   "source": [
    "columns_to_keep = ['Geo_FIPS',\n",
    "                   'SE_A03001_001',\n",
    "                   'SE_A03001_002',\n",
    "                   'SE_A03001_003',\n",
    "                   'SE_A03001_004',\n",
    "                   'SE_A03001_005',\n",
    "                   'SE_A03001_006',\n",
    "                   'SE_A03001_007',\n",
    "                   'SE_A03001_008',]\n",
    "\n",
    "race2 = race[columns_to_keep]"
   ]
  },
  {
   "cell_type": "markdown",
   "id": "10a99ba9-a8d1-4230-aad4-ff633a2cac7e",
   "metadata": {},
   "source": [
    "Rename the kept columns. Begin by creating a list of columns as they are now"
   ]
  },
  {
   "cell_type": "code",
   "execution_count": 16,
   "id": "95d401dc-3980-4655-95c3-b4b23ca447bb",
   "metadata": {},
   "outputs": [
    {
     "data": {
      "text/plain": [
       "['Geo_FIPS',\n",
       " 'SE_A03001_001',\n",
       " 'SE_A03001_002',\n",
       " 'SE_A03001_003',\n",
       " 'SE_A03001_004',\n",
       " 'SE_A03001_005',\n",
       " 'SE_A03001_006',\n",
       " 'SE_A03001_007',\n",
       " 'SE_A03001_008']"
      ]
     },
     "execution_count": 16,
     "metadata": {},
     "output_type": "execute_result"
    }
   ],
   "source": [
    "columns = list(race2) # this is the same as race.columns.to_list()\n",
    "columns"
   ]
  },
  {
   "cell_type": "markdown",
   "id": "c19cefe1-753d-43bd-b866-3d902ba1fa50",
   "metadata": {},
   "source": [
    "Replace the values with desired column names"
   ]
  },
  {
   "cell_type": "code",
   "execution_count": 17,
   "id": "2d99432d-7bc3-4427-991c-ac81dcc31ecf",
   "metadata": {},
   "outputs": [],
   "source": [
    "race2.columns = ['FIPS',\n",
    "'TotalPop',\n",
    "'Non Hispanic White Alone',\n",
    "'Non Hispanic Black Alone',\n",
    "'Non Hispanic American Indian and Alaska Native Alone',\n",
    "'Non Hispanic Asian Alone',\n",
    "'Non Hispanic Native Hawaiian and Pacific Islander Alone',\n",
    "'Non Hispanic Other Alone',\n",
    "'Non Hispanic Multi Race']"
   ]
  },
  {
   "cell_type": "code",
   "execution_count": 18,
   "id": "b1bf0b30-ae8b-4d46-b6dc-e870fe669e96",
   "metadata": {},
   "outputs": [
    {
     "data": {
      "text/html": [
       "<div>\n",
       "<style scoped>\n",
       "    .dataframe tbody tr th:only-of-type {\n",
       "        vertical-align: middle;\n",
       "    }\n",
       "\n",
       "    .dataframe tbody tr th {\n",
       "        vertical-align: top;\n",
       "    }\n",
       "\n",
       "    .dataframe thead th {\n",
       "        text-align: right;\n",
       "    }\n",
       "</style>\n",
       "<table border=\"1\" class=\"dataframe\">\n",
       "  <thead>\n",
       "    <tr style=\"text-align: right;\">\n",
       "      <th></th>\n",
       "      <th>FIPS</th>\n",
       "      <th>TotalPop</th>\n",
       "      <th>Non Hispanic White Alone</th>\n",
       "      <th>Non Hispanic Black Alone</th>\n",
       "      <th>Non Hispanic American Indian and Alaska Native Alone</th>\n",
       "      <th>Non Hispanic Asian Alone</th>\n",
       "      <th>Non Hispanic Native Hawaiian and Pacific Islander Alone</th>\n",
       "      <th>Non Hispanic Other Alone</th>\n",
       "      <th>Non Hispanic Multi Race</th>\n",
       "    </tr>\n",
       "  </thead>\n",
       "  <tbody>\n",
       "    <tr>\n",
       "      <th>21</th>\n",
       "      <td>42101001201</td>\n",
       "      <td>4243</td>\n",
       "      <td>3396</td>\n",
       "      <td>179</td>\n",
       "      <td>12</td>\n",
       "      <td>244</td>\n",
       "      <td>0</td>\n",
       "      <td>25</td>\n",
       "      <td>387</td>\n",
       "    </tr>\n",
       "    <tr>\n",
       "      <th>317</th>\n",
       "      <td>42101033101</td>\n",
       "      <td>5458</td>\n",
       "      <td>3373</td>\n",
       "      <td>1044</td>\n",
       "      <td>0</td>\n",
       "      <td>284</td>\n",
       "      <td>0</td>\n",
       "      <td>420</td>\n",
       "      <td>337</td>\n",
       "    </tr>\n",
       "    <tr>\n",
       "      <th>110</th>\n",
       "      <td>42101010600</td>\n",
       "      <td>1674</td>\n",
       "      <td>112</td>\n",
       "      <td>1339</td>\n",
       "      <td>80</td>\n",
       "      <td>96</td>\n",
       "      <td>0</td>\n",
       "      <td>0</td>\n",
       "      <td>47</td>\n",
       "    </tr>\n",
       "    <tr>\n",
       "      <th>300</th>\n",
       "      <td>42101031200</td>\n",
       "      <td>5319</td>\n",
       "      <td>998</td>\n",
       "      <td>3479</td>\n",
       "      <td>0</td>\n",
       "      <td>204</td>\n",
       "      <td>0</td>\n",
       "      <td>536</td>\n",
       "      <td>102</td>\n",
       "    </tr>\n",
       "    <tr>\n",
       "      <th>355</th>\n",
       "      <td>42101036202</td>\n",
       "      <td>6099</td>\n",
       "      <td>4957</td>\n",
       "      <td>335</td>\n",
       "      <td>0</td>\n",
       "      <td>497</td>\n",
       "      <td>0</td>\n",
       "      <td>286</td>\n",
       "      <td>24</td>\n",
       "    </tr>\n",
       "  </tbody>\n",
       "</table>\n",
       "</div>"
      ],
      "text/plain": [
       "            FIPS  TotalPop  Non Hispanic White Alone  \\\n",
       "21   42101001201      4243                      3396   \n",
       "317  42101033101      5458                      3373   \n",
       "110  42101010600      1674                       112   \n",
       "300  42101031200      5319                       998   \n",
       "355  42101036202      6099                      4957   \n",
       "\n",
       "     Non Hispanic Black Alone  \\\n",
       "21                        179   \n",
       "317                      1044   \n",
       "110                      1339   \n",
       "300                      3479   \n",
       "355                       335   \n",
       "\n",
       "     Non Hispanic American Indian and Alaska Native Alone  \\\n",
       "21                                                  12      \n",
       "317                                                  0      \n",
       "110                                                 80      \n",
       "300                                                  0      \n",
       "355                                                  0      \n",
       "\n",
       "     Non Hispanic Asian Alone  \\\n",
       "21                        244   \n",
       "317                       284   \n",
       "110                        96   \n",
       "300                       204   \n",
       "355                       497   \n",
       "\n",
       "     Non Hispanic Native Hawaiian and Pacific Islander Alone  \\\n",
       "21                                                   0         \n",
       "317                                                  0         \n",
       "110                                                  0         \n",
       "300                                                  0         \n",
       "355                                                  0         \n",
       "\n",
       "     Non Hispanic Other Alone  Non Hispanic Multi Race  \n",
       "21                         25                      387  \n",
       "317                       420                      337  \n",
       "110                         0                       47  \n",
       "300                       536                      102  \n",
       "355                       286                       24  "
      ]
     },
     "execution_count": 18,
     "metadata": {},
     "output_type": "execute_result"
    }
   ],
   "source": [
    "race2.sample(5)"
   ]
  },
  {
   "cell_type": "markdown",
   "id": "69a438a8-c97e-45a1-ad6a-35c7f9f08aaa",
   "metadata": {},
   "source": [
    "Columns have been renamed correctly."
   ]
  },
  {
   "cell_type": "markdown",
   "id": "decfa7b2-c22d-4511-9c42-473a77dba34c",
   "metadata": {},
   "source": [
    "#### Philadelphia race stats and plots "
   ]
  },
  {
   "cell_type": "markdown",
   "id": "d3621428-c81c-43c8-a8e2-28cb266ff1aa",
   "metadata": {},
   "source": [
    "View the Total Population Mean of Philadelphia County"
   ]
  },
  {
   "cell_type": "code",
   "execution_count": 19,
   "id": "1891ea29-108c-4ec2-a43e-5b1091ba8c4d",
   "metadata": {},
   "outputs": [
    {
     "data": {
      "text/plain": [
       "3913.8848039215686"
      ]
     },
     "execution_count": 19,
     "metadata": {},
     "output_type": "execute_result"
    }
   ],
   "source": [
    "race2['TotalPop'].mean()"
   ]
  },
  {
   "cell_type": "markdown",
   "id": "a4363302-4943-4565-a6d8-769d6c22a42e",
   "metadata": {},
   "source": [
    "View the Total Population Media of Philadelphia County"
   ]
  },
  {
   "cell_type": "code",
   "execution_count": 20,
   "id": "73dfae88-e9a3-4399-b4f5-afaeb5715b6e",
   "metadata": {},
   "outputs": [
    {
     "data": {
      "text/plain": [
       "3870.5"
      ]
     },
     "execution_count": 20,
     "metadata": {},
     "output_type": "execute_result"
    }
   ],
   "source": [
    "race2['TotalPop'].median()"
   ]
  },
  {
   "cell_type": "markdown",
   "id": "2c313e89-e7fe-483a-b3bd-3a0256ffe4c0",
   "metadata": {},
   "source": [
    "View more stats available for total population of Philadeliphia County"
   ]
  },
  {
   "cell_type": "code",
   "execution_count": 21,
   "id": "5f8d93db-1d8f-46a8-b681-3618e41333d2",
   "metadata": {},
   "outputs": [
    {
     "data": {
      "text/plain": [
       "count      408.000000\n",
       "mean      3913.884804\n",
       "std       1863.577796\n",
       "min          0.000000\n",
       "25%       2750.500000\n",
       "50%       3870.500000\n",
       "75%       5002.000000\n",
       "max      10074.000000\n",
       "Name: TotalPop, dtype: float64"
      ]
     },
     "execution_count": 21,
     "metadata": {},
     "output_type": "execute_result"
    }
   ],
   "source": [
    "race2['TotalPop'].describe()"
   ]
  },
  {
   "cell_type": "markdown",
   "id": "e15f8fac-d23d-4999-bc36-ea1706febf70",
   "metadata": {},
   "source": [
    "Plot it as a historgram with 50 bins\n"
   ]
  },
  {
   "cell_type": "code",
   "execution_count": 22,
   "id": "adee2b38-ecfc-45b7-be20-6d9990cf3120",
   "metadata": {},
   "outputs": [
    {
     "data": {
      "text/plain": [
       "<AxesSubplot: ylabel='Frequency'>"
      ]
     },
     "execution_count": 22,
     "metadata": {},
     "output_type": "execute_result"
    },
    {
     "data": {
      "image/png": "[encoded data removed]",
      "text/plain": [
       "<Figure size 640x480 with 1 Axes>"
      ]
     },
     "metadata": {},
     "output_type": "display_data"
    }
   ],
   "source": [
    "race2['TotalPop'].plot.hist(bins=50)"
   ]
  },
  {
   "cell_type": "markdown",
   "id": "bd7b6494-ffcc-4a50-9953-6b159d2526ad",
   "metadata": {},
   "source": [
    "Histogram on Non Hispanic White Alone across Philadelphia County"
   ]
  },
  {
   "cell_type": "code",
   "execution_count": 23,
   "id": "69eb81c2-7760-491b-992e-7b55efd3c76c",
   "metadata": {},
   "outputs": [
    {
     "data": {
      "text/plain": [
       "<AxesSubplot: ylabel='Frequency'>"
      ]
     },
     "execution_count": 23,
     "metadata": {},
     "output_type": "execute_result"
    },
    {
     "data": {
      "image/png": "[encoded data removed]",
      "text/plain": [
       "<Figure size 640x480 with 1 Axes>"
      ]
     },
     "metadata": {},
     "output_type": "display_data"
    }
   ],
   "source": [
    "race2['Non Hispanic White Alone'].plot.hist(bins=50)"
   ]
  },
  {
   "cell_type": "markdown",
   "id": "c67c6620-be4a-48e2-a4dc-5c6dd19a34f3",
   "metadata": {},
   "source": [
    "Histogram on Non Hispanic Black Alone Population in Philadelphia County"
   ]
  },
  {
   "cell_type": "code",
   "execution_count": 24,
   "id": "873615bd-4342-4aca-acbe-c5fb56413b3c",
   "metadata": {},
   "outputs": [
    {
     "data": {
      "text/plain": [
       "<AxesSubplot: ylabel='Frequency'>"
      ]
     },
     "execution_count": 24,
     "metadata": {},
     "output_type": "execute_result"
    },
    {
     "data": {
      "image/png": "[encoded data removed]",
      "text/plain": [
       "<Figure size 640x480 with 1 Axes>"
      ]
     },
     "metadata": {},
     "output_type": "display_data"
    }
   ],
   "source": [
    "race2['Non Hispanic Black Alone'].plot.hist(bins=50)"
   ]
  },
  {
   "cell_type": "markdown",
   "id": "a43c0bf6-9a72-4401-be2e-cd8508ba13b9",
   "metadata": {},
   "source": [
    "Box plot of Philadelphia County Population"
   ]
  },
  {
   "cell_type": "code",
   "execution_count": 25,
   "id": "8499a19d-528d-4dac-8963-ae2ec3cf024a",
   "metadata": {},
   "outputs": [
    {
     "data": {
      "text/plain": [
       "<AxesSubplot: >"
      ]
     },
     "execution_count": 25,
     "metadata": {},
     "output_type": "execute_result"
    },
    {
     "data": {
      "image/png": "[encoded data removed]",
      "text/plain": [
       "<Figure size 640x480 with 1 Axes>"
      ]
     },
     "metadata": {},
     "output_type": "display_data"
    }
   ],
   "source": [
    "race2.boxplot(column=['TotalPop'])"
   ]
  },
  {
   "cell_type": "markdown",
   "id": "666f309c-ed8f-415a-aa8c-63fdf72a2fad",
   "metadata": {},
   "source": [
    "Scatter Plot of Non Hispanic Black Alone and Non Hispanic White Alone populations in Philadelphia County"
   ]
  },
  {
   "cell_type": "code",
   "execution_count": 26,
   "id": "a700c243-5fc6-417c-96e0-2cd0d53ad277",
   "metadata": {},
   "outputs": [
    {
     "data": {
      "text/plain": [
       "<AxesSubplot: xlabel='Non Hispanic Black Alone', ylabel='Non Hispanic White Alone'>"
      ]
     },
     "execution_count": 26,
     "metadata": {},
     "output_type": "execute_result"
    },
    {
     "data": {
      "image/png": "[encoded data removed]",
      "text/plain": [
       "<Figure size 640x480 with 1 Axes>"
      ]
     },
     "metadata": {},
     "output_type": "display_data"
    }
   ],
   "source": [
    "race2.plot.scatter(x='Non Hispanic Black Alone',y='Non Hispanic White Alone')"
   ]
  },
  {
   "cell_type": "markdown",
   "id": "66169be6-4657-4538-8f7f-a79b11e46383",
   "metadata": {},
   "source": [
    "Scatter Plot of Non Hispanic Black Alone and Non Hispanic American Indian and Alaska Native Alone populations in Philadelphia County"
   ]
  },
  {
   "cell_type": "code",
   "execution_count": 27,
   "id": "a0fdbb2e-fb75-4aa2-91b4-da56ba919609",
   "metadata": {},
   "outputs": [
    {
     "data": {
      "text/plain": [
       "<AxesSubplot: xlabel='Non Hispanic Black Alone', ylabel='Non Hispanic American Indian and Alaska Native Alone'>"
      ]
     },
     "execution_count": 27,
     "metadata": {},
     "output_type": "execute_result"
    },
    {
     "data": {
      "image/png": "[encoded data removed]",
      "text/plain": [
       "<Figure size 640x480 with 1 Axes>"
      ]
     },
     "metadata": {},
     "output_type": "display_data"
    }
   ],
   "source": [
    "race2.plot.scatter(x='Non Hispanic Black Alone',y='Non Hispanic American Indian and Alaska Native Alone')"
   ]
  },
  {
   "cell_type": "markdown",
   "id": "ceef6ce7-66fd-455b-9bad-867d42f5a715",
   "metadata": {},
   "source": [
    "#### Sorting"
   ]
  },
  {
   "cell_type": "markdown",
   "id": "452926bb-7eeb-47c4-a5f1-c30b9b0537a6",
   "metadata": {},
   "source": [
    "Sort the data by their respective columns"
   ]
  },
  {
   "cell_type": "code",
   "execution_count": 28,
   "id": "28902d66-bba6-48c4-bad4-8040a68f0217",
   "metadata": {},
   "outputs": [],
   "source": [
    "race_sorted = race2.sort_values(by='TotalPop',ascending = False)"
   ]
  },
  {
   "cell_type": "markdown",
   "id": "8f516599-5ff1-4115-8c51-5140cc3beac3",
   "metadata": {},
   "source": [
    "Display the a few columns of the sorted data"
   ]
  },
  {
   "cell_type": "code",
   "execution_count": 29,
   "id": "c578382f-75e2-49bc-8eb8-9a8cab152218",
   "metadata": {},
   "outputs": [
    {
     "data": {
      "text/html": [
       "<div>\n",
       "<style scoped>\n",
       "    .dataframe tbody tr th:only-of-type {\n",
       "        vertical-align: middle;\n",
       "    }\n",
       "\n",
       "    .dataframe tbody tr th {\n",
       "        vertical-align: top;\n",
       "    }\n",
       "\n",
       "    .dataframe thead th {\n",
       "        text-align: right;\n",
       "    }\n",
       "</style>\n",
       "<table border=\"1\" class=\"dataframe\">\n",
       "  <thead>\n",
       "    <tr style=\"text-align: right;\">\n",
       "      <th></th>\n",
       "      <th>FIPS</th>\n",
       "      <th>TotalPop</th>\n",
       "    </tr>\n",
       "  </thead>\n",
       "  <tbody>\n",
       "    <tr>\n",
       "      <th>316</th>\n",
       "      <td>42101033000</td>\n",
       "      <td>10074</td>\n",
       "    </tr>\n",
       "    <tr>\n",
       "      <th>281</th>\n",
       "      <td>42101029000</td>\n",
       "      <td>9054</td>\n",
       "    </tr>\n",
       "    <tr>\n",
       "      <th>290</th>\n",
       "      <td>42101030200</td>\n",
       "      <td>8697</td>\n",
       "    </tr>\n",
       "    <tr>\n",
       "      <th>194</th>\n",
       "      <td>42101019200</td>\n",
       "      <td>8667</td>\n",
       "    </tr>\n",
       "    <tr>\n",
       "      <th>310</th>\n",
       "      <td>42101032000</td>\n",
       "      <td>8523</td>\n",
       "    </tr>\n",
       "    <tr>\n",
       "      <th>297</th>\n",
       "      <td>42101031000</td>\n",
       "      <td>8135</td>\n",
       "    </tr>\n",
       "    <tr>\n",
       "      <th>288</th>\n",
       "      <td>42101030000</td>\n",
       "      <td>8024</td>\n",
       "    </tr>\n",
       "    <tr>\n",
       "      <th>193</th>\n",
       "      <td>42101019100</td>\n",
       "      <td>8014</td>\n",
       "    </tr>\n",
       "    <tr>\n",
       "      <th>314</th>\n",
       "      <td>42101032600</td>\n",
       "      <td>7991</td>\n",
       "    </tr>\n",
       "    <tr>\n",
       "      <th>302</th>\n",
       "      <td>42101031401</td>\n",
       "      <td>7969</td>\n",
       "    </tr>\n",
       "  </tbody>\n",
       "</table>\n",
       "</div>"
      ],
      "text/plain": [
       "            FIPS  TotalPop\n",
       "316  42101033000     10074\n",
       "281  42101029000      9054\n",
       "290  42101030200      8697\n",
       "194  42101019200      8667\n",
       "310  42101032000      8523\n",
       "297  42101031000      8135\n",
       "288  42101030000      8024\n",
       "193  42101019100      8014\n",
       "314  42101032600      7991\n",
       "302  42101031401      7969"
      ]
     },
     "execution_count": 29,
     "metadata": {},
     "output_type": "execute_result"
    }
   ],
   "source": [
    "race_sorted[['FIPS','TotalPop']].head(10)"
   ]
  },
  {
   "cell_type": "markdown",
   "id": "75bd1370-ab59-446d-a78a-98529b95a4f1",
   "metadata": {},
   "source": [
    "Plot it"
   ]
  },
  {
   "cell_type": "code",
   "execution_count": 30,
   "id": "446caca9-bd7b-41c7-8f4b-5f933f3074bc",
   "metadata": {},
   "outputs": [
    {
     "data": {
      "text/plain": [
       "<AxesSubplot: xlabel='FIPS'>"
      ]
     },
     "execution_count": 30,
     "metadata": {},
     "output_type": "execute_result"
    },
    {
     "data": {
      "image/png": "[encoded data removed]",
      "text/plain": [
       "<Figure size 640x480 with 1 Axes>"
      ]
     },
     "metadata": {},
     "output_type": "display_data"
    }
   ],
   "source": [
    "race_sorted.head(10).plot.bar(x='FIPS',\n",
    "                            y='TotalPop')"
   ]
  },
  {
   "cell_type": "markdown",
   "id": "d3639dcb-b35d-45ca-a977-6d9a5ef1e90d",
   "metadata": {},
   "source": [
    "Add a Title"
   ]
  },
  {
   "cell_type": "code",
   "execution_count": 31,
   "id": "313a64f6-3c8c-4979-b350-267cc7916f8e",
   "metadata": {},
   "outputs": [
    {
     "data": {
      "text/plain": [
       "<AxesSubplot: title={'center': 'Top 10 Census Tracts with Highest Population in Philadelphia County in 2021'}, ylabel='FIPS'>"
      ]
     },
     "execution_count": 31,
     "metadata": {},
     "output_type": "execute_result"
    },
    {
     "data": {
      "image/png": "[encoded data removed]",
      "text/plain": [
       "<Figure size 640x480 with 1 Axes>"
      ]
     },
     "metadata": {},
     "output_type": "display_data"
    }
   ],
   "source": [
    "race_sorted.head(10).plot.barh(x='FIPS',\n",
    "                            y='TotalPop', \n",
    "                            title='Top 10 Census Tracts with Highest Population in Philadelphia County in 2021',\n",
    "                            color='green')"
   ]
  },
  {
   "cell_type": "markdown",
   "id": "405403c9-5843-4e43-a732-dd9da4cb72cb",
   "metadata": {},
   "source": [
    "#### Filtering and Subsetting the Data"
   ]
  },
  {
   "cell_type": "markdown",
   "id": "34bb1b38-6834-4322-96ab-47b7a8dc9eb8",
   "metadata": {},
   "source": [
    "Subset the data so that we can see the data per row"
   ]
  },
  {
   "cell_type": "code",
   "execution_count": 32,
   "id": "40255224-0f22-4209-af27-12a90ac16c1f",
   "metadata": {},
   "outputs": [
    {
     "data": {
      "text/html": [
       "<div>\n",
       "<style scoped>\n",
       "    .dataframe tbody tr th:only-of-type {\n",
       "        vertical-align: middle;\n",
       "    }\n",
       "\n",
       "    .dataframe tbody tr th {\n",
       "        vertical-align: top;\n",
       "    }\n",
       "\n",
       "    .dataframe thead th {\n",
       "        text-align: right;\n",
       "    }\n",
       "</style>\n",
       "<table border=\"1\" class=\"dataframe\">\n",
       "  <thead>\n",
       "    <tr style=\"text-align: right;\">\n",
       "      <th></th>\n",
       "      <th>FIPS</th>\n",
       "      <th>TotalPop</th>\n",
       "      <th>Non Hispanic White Alone</th>\n",
       "      <th>Non Hispanic Black Alone</th>\n",
       "      <th>Non Hispanic American Indian and Alaska Native Alone</th>\n",
       "      <th>Non Hispanic Asian Alone</th>\n",
       "      <th>Non Hispanic Native Hawaiian and Pacific Islander Alone</th>\n",
       "      <th>Non Hispanic Other Alone</th>\n",
       "      <th>Non Hispanic Multi Race</th>\n",
       "    </tr>\n",
       "  </thead>\n",
       "  <tbody>\n",
       "    <tr>\n",
       "      <th>365</th>\n",
       "      <td>42101036901</td>\n",
       "      <td>0</td>\n",
       "      <td>0</td>\n",
       "      <td>0</td>\n",
       "      <td>0</td>\n",
       "      <td>0</td>\n",
       "      <td>0</td>\n",
       "      <td>0</td>\n",
       "      <td>0</td>\n",
       "    </tr>\n",
       "    <tr>\n",
       "      <th>387</th>\n",
       "      <td>42101980001</td>\n",
       "      <td>0</td>\n",
       "      <td>0</td>\n",
       "      <td>0</td>\n",
       "      <td>0</td>\n",
       "      <td>0</td>\n",
       "      <td>0</td>\n",
       "      <td>0</td>\n",
       "      <td>0</td>\n",
       "    </tr>\n",
       "    <tr>\n",
       "      <th>389</th>\n",
       "      <td>42101980003</td>\n",
       "      <td>0</td>\n",
       "      <td>0</td>\n",
       "      <td>0</td>\n",
       "      <td>0</td>\n",
       "      <td>0</td>\n",
       "      <td>0</td>\n",
       "      <td>0</td>\n",
       "      <td>0</td>\n",
       "    </tr>\n",
       "    <tr>\n",
       "      <th>392</th>\n",
       "      <td>42101980300</td>\n",
       "      <td>0</td>\n",
       "      <td>0</td>\n",
       "      <td>0</td>\n",
       "      <td>0</td>\n",
       "      <td>0</td>\n",
       "      <td>0</td>\n",
       "      <td>0</td>\n",
       "      <td>0</td>\n",
       "    </tr>\n",
       "    <tr>\n",
       "      <th>393</th>\n",
       "      <td>42101980400</td>\n",
       "      <td>0</td>\n",
       "      <td>0</td>\n",
       "      <td>0</td>\n",
       "      <td>0</td>\n",
       "      <td>0</td>\n",
       "      <td>0</td>\n",
       "      <td>0</td>\n",
       "      <td>0</td>\n",
       "    </tr>\n",
       "    <tr>\n",
       "      <th>394</th>\n",
       "      <td>42101980500</td>\n",
       "      <td>0</td>\n",
       "      <td>0</td>\n",
       "      <td>0</td>\n",
       "      <td>0</td>\n",
       "      <td>0</td>\n",
       "      <td>0</td>\n",
       "      <td>0</td>\n",
       "      <td>0</td>\n",
       "    </tr>\n",
       "    <tr>\n",
       "      <th>395</th>\n",
       "      <td>42101980600</td>\n",
       "      <td>0</td>\n",
       "      <td>0</td>\n",
       "      <td>0</td>\n",
       "      <td>0</td>\n",
       "      <td>0</td>\n",
       "      <td>0</td>\n",
       "      <td>0</td>\n",
       "      <td>0</td>\n",
       "    </tr>\n",
       "    <tr>\n",
       "      <th>396</th>\n",
       "      <td>42101980701</td>\n",
       "      <td>0</td>\n",
       "      <td>0</td>\n",
       "      <td>0</td>\n",
       "      <td>0</td>\n",
       "      <td>0</td>\n",
       "      <td>0</td>\n",
       "      <td>0</td>\n",
       "      <td>0</td>\n",
       "    </tr>\n",
       "    <tr>\n",
       "      <th>397</th>\n",
       "      <td>42101980702</td>\n",
       "      <td>0</td>\n",
       "      <td>0</td>\n",
       "      <td>0</td>\n",
       "      <td>0</td>\n",
       "      <td>0</td>\n",
       "      <td>0</td>\n",
       "      <td>0</td>\n",
       "      <td>0</td>\n",
       "    </tr>\n",
       "    <tr>\n",
       "      <th>398</th>\n",
       "      <td>42101980800</td>\n",
       "      <td>0</td>\n",
       "      <td>0</td>\n",
       "      <td>0</td>\n",
       "      <td>0</td>\n",
       "      <td>0</td>\n",
       "      <td>0</td>\n",
       "      <td>0</td>\n",
       "      <td>0</td>\n",
       "    </tr>\n",
       "    <tr>\n",
       "      <th>399</th>\n",
       "      <td>42101980901</td>\n",
       "      <td>0</td>\n",
       "      <td>0</td>\n",
       "      <td>0</td>\n",
       "      <td>0</td>\n",
       "      <td>0</td>\n",
       "      <td>0</td>\n",
       "      <td>0</td>\n",
       "      <td>0</td>\n",
       "    </tr>\n",
       "    <tr>\n",
       "      <th>400</th>\n",
       "      <td>42101980902</td>\n",
       "      <td>0</td>\n",
       "      <td>0</td>\n",
       "      <td>0</td>\n",
       "      <td>0</td>\n",
       "      <td>0</td>\n",
       "      <td>0</td>\n",
       "      <td>0</td>\n",
       "      <td>0</td>\n",
       "    </tr>\n",
       "    <tr>\n",
       "      <th>401</th>\n",
       "      <td>42101980903</td>\n",
       "      <td>0</td>\n",
       "      <td>0</td>\n",
       "      <td>0</td>\n",
       "      <td>0</td>\n",
       "      <td>0</td>\n",
       "      <td>0</td>\n",
       "      <td>0</td>\n",
       "      <td>0</td>\n",
       "    </tr>\n",
       "    <tr>\n",
       "      <th>402</th>\n",
       "      <td>42101980904</td>\n",
       "      <td>0</td>\n",
       "      <td>0</td>\n",
       "      <td>0</td>\n",
       "      <td>0</td>\n",
       "      <td>0</td>\n",
       "      <td>0</td>\n",
       "      <td>0</td>\n",
       "      <td>0</td>\n",
       "    </tr>\n",
       "    <tr>\n",
       "      <th>403</th>\n",
       "      <td>42101980905</td>\n",
       "      <td>0</td>\n",
       "      <td>0</td>\n",
       "      <td>0</td>\n",
       "      <td>0</td>\n",
       "      <td>0</td>\n",
       "      <td>0</td>\n",
       "      <td>0</td>\n",
       "      <td>0</td>\n",
       "    </tr>\n",
       "    <tr>\n",
       "      <th>404</th>\n",
       "      <td>42101980906</td>\n",
       "      <td>0</td>\n",
       "      <td>0</td>\n",
       "      <td>0</td>\n",
       "      <td>0</td>\n",
       "      <td>0</td>\n",
       "      <td>0</td>\n",
       "      <td>0</td>\n",
       "      <td>0</td>\n",
       "    </tr>\n",
       "    <tr>\n",
       "      <th>406</th>\n",
       "      <td>42101989200</td>\n",
       "      <td>0</td>\n",
       "      <td>0</td>\n",
       "      <td>0</td>\n",
       "      <td>0</td>\n",
       "      <td>0</td>\n",
       "      <td>0</td>\n",
       "      <td>0</td>\n",
       "      <td>0</td>\n",
       "    </tr>\n",
       "  </tbody>\n",
       "</table>\n",
       "</div>"
      ],
      "text/plain": [
       "            FIPS  TotalPop  Non Hispanic White Alone  \\\n",
       "365  42101036901         0                         0   \n",
       "387  42101980001         0                         0   \n",
       "389  42101980003         0                         0   \n",
       "392  42101980300         0                         0   \n",
       "393  42101980400         0                         0   \n",
       "394  42101980500         0                         0   \n",
       "395  42101980600         0                         0   \n",
       "396  42101980701         0                         0   \n",
       "397  42101980702         0                         0   \n",
       "398  42101980800         0                         0   \n",
       "399  42101980901         0                         0   \n",
       "400  42101980902         0                         0   \n",
       "401  42101980903         0                         0   \n",
       "402  42101980904         0                         0   \n",
       "403  42101980905         0                         0   \n",
       "404  42101980906         0                         0   \n",
       "406  42101989200         0                         0   \n",
       "\n",
       "     Non Hispanic Black Alone  \\\n",
       "365                         0   \n",
       "387                         0   \n",
       "389                         0   \n",
       "392                         0   \n",
       "393                         0   \n",
       "394                         0   \n",
       "395                         0   \n",
       "396                         0   \n",
       "397                         0   \n",
       "398                         0   \n",
       "399                         0   \n",
       "400                         0   \n",
       "401                         0   \n",
       "402                         0   \n",
       "403                         0   \n",
       "404                         0   \n",
       "406                         0   \n",
       "\n",
       "     Non Hispanic American Indian and Alaska Native Alone  \\\n",
       "365                                                  0      \n",
       "387                                                  0      \n",
       "389                                                  0      \n",
       "392                                                  0      \n",
       "393                                                  0      \n",
       "394                                                  0      \n",
       "395                                                  0      \n",
       "396                                                  0      \n",
       "397                                                  0      \n",
       "398                                                  0      \n",
       "399                                                  0      \n",
       "400                                                  0      \n",
       "401                                                  0      \n",
       "402                                                  0      \n",
       "403                                                  0      \n",
       "404                                                  0      \n",
       "406                                                  0      \n",
       "\n",
       "     Non Hispanic Asian Alone  \\\n",
       "365                         0   \n",
       "387                         0   \n",
       "389                         0   \n",
       "392                         0   \n",
       "393                         0   \n",
       "394                         0   \n",
       "395                         0   \n",
       "396                         0   \n",
       "397                         0   \n",
       "398                         0   \n",
       "399                         0   \n",
       "400                         0   \n",
       "401                         0   \n",
       "402                         0   \n",
       "403                         0   \n",
       "404                         0   \n",
       "406                         0   \n",
       "\n",
       "     Non Hispanic Native Hawaiian and Pacific Islander Alone  \\\n",
       "365                                                  0         \n",
       "387                                                  0         \n",
       "389                                                  0         \n",
       "392                                                  0         \n",
       "393                                                  0         \n",
       "394                                                  0         \n",
       "395                                                  0         \n",
       "396                                                  0         \n",
       "397                                                  0         \n",
       "398                                                  0         \n",
       "399                                                  0         \n",
       "400                                                  0         \n",
       "401                                                  0         \n",
       "402                                                  0         \n",
       "403                                                  0         \n",
       "404                                                  0         \n",
       "406                                                  0         \n",
       "\n",
       "     Non Hispanic Other Alone  Non Hispanic Multi Race  \n",
       "365                         0                        0  \n",
       "387                         0                        0  \n",
       "389                         0                        0  \n",
       "392                         0                        0  \n",
       "393                         0                        0  \n",
       "394                         0                        0  \n",
       "395                         0                        0  \n",
       "396                         0                        0  \n",
       "397                         0                        0  \n",
       "398                         0                        0  \n",
       "399                         0                        0  \n",
       "400                         0                        0  \n",
       "401                         0                        0  \n",
       "402                         0                        0  \n",
       "403                         0                        0  \n",
       "404                         0                        0  \n",
       "406                         0                        0  "
      ]
     },
     "execution_count": 32,
     "metadata": {},
     "output_type": "execute_result"
    }
   ],
   "source": [
    "race2[race2['TotalPop']==0]"
   ]
  },
  {
   "cell_type": "markdown",
   "id": "bbe668d0-116b-418b-b181-37591b393d71",
   "metadata": {},
   "source": [
    "Create a new variable for census tracts with zero population in Philadelphia County"
   ]
  },
  {
   "cell_type": "code",
   "execution_count": 33,
   "id": "61c79179-e326-4e9c-a489-0907e979f583",
   "metadata": {},
   "outputs": [],
   "source": [
    "race_no_pop = race2[race2['TotalPop']==0]"
   ]
  },
  {
   "cell_type": "markdown",
   "id": "8833ebb6-7272-4bd3-a0e8-bef1e6403d0c",
   "metadata": {},
   "source": [
    "How many records?"
   ]
  },
  {
   "cell_type": "code",
   "execution_count": 34,
   "id": "ecd5ff6c-3d2e-4651-a6ac-ca42a34aa193",
   "metadata": {},
   "outputs": [
    {
     "name": "stdout",
     "output_type": "stream",
     "text": [
      "There are 17 census tracts with no people in them\n"
     ]
    }
   ],
   "source": [
    "print('There are ' + str(len(race_no_pop)) + ' census tracts with no people in them')"
   ]
  },
  {
   "cell_type": "markdown",
   "id": "59190a5f-33d4-4272-af7f-72fdaad6a809",
   "metadata": {},
   "source": [
    "Display it"
   ]
  },
  {
   "cell_type": "code",
   "execution_count": 35,
   "id": "93cb06f1-7df2-4f0f-9b55-0b8acaae2987",
   "metadata": {},
   "outputs": [
    {
     "data": {
      "text/html": [
       "<div>\n",
       "<style scoped>\n",
       "    .dataframe tbody tr th:only-of-type {\n",
       "        vertical-align: middle;\n",
       "    }\n",
       "\n",
       "    .dataframe tbody tr th {\n",
       "        vertical-align: top;\n",
       "    }\n",
       "\n",
       "    .dataframe thead th {\n",
       "        text-align: right;\n",
       "    }\n",
       "</style>\n",
       "<table border=\"1\" class=\"dataframe\">\n",
       "  <thead>\n",
       "    <tr style=\"text-align: right;\">\n",
       "      <th></th>\n",
       "      <th>FIPS</th>\n",
       "      <th>TotalPop</th>\n",
       "    </tr>\n",
       "  </thead>\n",
       "  <tbody>\n",
       "    <tr>\n",
       "      <th>365</th>\n",
       "      <td>42101036901</td>\n",
       "      <td>0</td>\n",
       "    </tr>\n",
       "    <tr>\n",
       "      <th>387</th>\n",
       "      <td>42101980001</td>\n",
       "      <td>0</td>\n",
       "    </tr>\n",
       "    <tr>\n",
       "      <th>389</th>\n",
       "      <td>42101980003</td>\n",
       "      <td>0</td>\n",
       "    </tr>\n",
       "    <tr>\n",
       "      <th>392</th>\n",
       "      <td>42101980300</td>\n",
       "      <td>0</td>\n",
       "    </tr>\n",
       "    <tr>\n",
       "      <th>393</th>\n",
       "      <td>42101980400</td>\n",
       "      <td>0</td>\n",
       "    </tr>\n",
       "    <tr>\n",
       "      <th>394</th>\n",
       "      <td>42101980500</td>\n",
       "      <td>0</td>\n",
       "    </tr>\n",
       "    <tr>\n",
       "      <th>395</th>\n",
       "      <td>42101980600</td>\n",
       "      <td>0</td>\n",
       "    </tr>\n",
       "    <tr>\n",
       "      <th>396</th>\n",
       "      <td>42101980701</td>\n",
       "      <td>0</td>\n",
       "    </tr>\n",
       "    <tr>\n",
       "      <th>397</th>\n",
       "      <td>42101980702</td>\n",
       "      <td>0</td>\n",
       "    </tr>\n",
       "    <tr>\n",
       "      <th>398</th>\n",
       "      <td>42101980800</td>\n",
       "      <td>0</td>\n",
       "    </tr>\n",
       "    <tr>\n",
       "      <th>399</th>\n",
       "      <td>42101980901</td>\n",
       "      <td>0</td>\n",
       "    </tr>\n",
       "    <tr>\n",
       "      <th>400</th>\n",
       "      <td>42101980902</td>\n",
       "      <td>0</td>\n",
       "    </tr>\n",
       "    <tr>\n",
       "      <th>401</th>\n",
       "      <td>42101980903</td>\n",
       "      <td>0</td>\n",
       "    </tr>\n",
       "    <tr>\n",
       "      <th>402</th>\n",
       "      <td>42101980904</td>\n",
       "      <td>0</td>\n",
       "    </tr>\n",
       "    <tr>\n",
       "      <th>403</th>\n",
       "      <td>42101980905</td>\n",
       "      <td>0</td>\n",
       "    </tr>\n",
       "    <tr>\n",
       "      <th>404</th>\n",
       "      <td>42101980906</td>\n",
       "      <td>0</td>\n",
       "    </tr>\n",
       "    <tr>\n",
       "      <th>406</th>\n",
       "      <td>42101989200</td>\n",
       "      <td>0</td>\n",
       "    </tr>\n",
       "  </tbody>\n",
       "</table>\n",
       "</div>"
      ],
      "text/plain": [
       "            FIPS  TotalPop\n",
       "365  42101036901         0\n",
       "387  42101980001         0\n",
       "389  42101980003         0\n",
       "392  42101980300         0\n",
       "393  42101980400         0\n",
       "394  42101980500         0\n",
       "395  42101980600         0\n",
       "396  42101980701         0\n",
       "397  42101980702         0\n",
       "398  42101980800         0\n",
       "399  42101980901         0\n",
       "400  42101980902         0\n",
       "401  42101980903         0\n",
       "402  42101980904         0\n",
       "403  42101980905         0\n",
       "404  42101980906         0\n",
       "406  42101989200         0"
      ]
     },
     "execution_count": 35,
     "metadata": {},
     "output_type": "execute_result"
    }
   ],
   "source": [
    "race_no_pop[['FIPS','TotalPop']]"
   ]
  },
  {
   "cell_type": "markdown",
   "id": "eb67549f-34a2-4cdc-83fd-eb31badc6fe8",
   "metadata": {},
   "source": [
    "#### Create a subset of data for the logan Neighborhood"
   ]
  },
  {
   "cell_type": "code",
   "execution_count": 36,
   "id": "6674c0a5-5734-456f-9b28-ac2bbd9213a3",
   "metadata": {},
   "outputs": [],
   "source": [
    "# Specify the desired FIPS by their IDs\n",
    "subset = [42101028000, 42101028100, 42101028200, 42101028300, 42101028400, 42101028500]\n",
    "\n",
    "# Create a subset of the data for the desired FIPS\n",
    "subset = race[race2[\"FIPS\"].isin(subset)]\n",
    "\n",
    "# Save the subset to a new CSV file\n",
    "subset.to_csv(\"census_subset.csv\", index=False)"
   ]
  },
  {
   "cell_type": "code",
   "execution_count": 37,
   "id": "64259375-d68a-422b-8830-4add2665fbb3",
   "metadata": {},
   "outputs": [
    {
     "name": "stdout",
     "output_type": "stream",
     "text": [
      "<class 'pandas.core.frame.DataFrame'>\n",
      "Int64Index: 6 entries, 270 to 275\n",
      "Data columns (total 27 columns):\n",
      " #   Column             Non-Null Count  Dtype  \n",
      "---  ------             --------------  -----  \n",
      " 0   Geo_FIPS           6 non-null      int64  \n",
      " 1   Geo_QName          6 non-null      object \n",
      " 2   Geo_FILEID         6 non-null      object \n",
      " 3   Geo_STUSAB         6 non-null      object \n",
      " 4   Geo_SUMLEV         6 non-null      int64  \n",
      " 5   Geo_GEOCOMP        6 non-null      int64  \n",
      " 6   Geo_LOGRECNO       6 non-null      int64  \n",
      " 7   Geo_STATE          6 non-null      int64  \n",
      " 8   Geo_COUNTY         6 non-null      int64  \n",
      " 9   Geo_TRACT          6 non-null      int64  \n",
      " 10  Geo_GEOID          6 non-null      object \n",
      " 11  Geo_NAME           6 non-null      object \n",
      " 12  SE_A03001_001      6 non-null      int64  \n",
      " 13  SE_A03001_002      6 non-null      int64  \n",
      " 14  SE_A03001_003      6 non-null      int64  \n",
      " 15  SE_A03001_004      6 non-null      int64  \n",
      " 16  SE_A03001_005      6 non-null      int64  \n",
      " 17  SE_A03001_006      6 non-null      int64  \n",
      " 18  SE_A03001_007      6 non-null      int64  \n",
      " 19  SE_A03001_008      6 non-null      int64  \n",
      " 20  PCT_SE_A03001_002  6 non-null      float64\n",
      " 21  PCT_SE_A03001_003  6 non-null      float64\n",
      " 22  PCT_SE_A03001_004  6 non-null      float64\n",
      " 23  PCT_SE_A03001_005  6 non-null      float64\n",
      " 24  PCT_SE_A03001_006  6 non-null      float64\n",
      " 25  PCT_SE_A03001_007  6 non-null      float64\n",
      " 26  PCT_SE_A03001_008  6 non-null      float64\n",
      "dtypes: float64(7), int64(15), object(5)\n",
      "memory usage: 1.3+ KB\n"
     ]
    }
   ],
   "source": [
    "subset.info()"
   ]
  },
  {
   "cell_type": "markdown",
   "id": "8b1a0f1f-0151-4626-b9e4-44a935744f93",
   "metadata": {},
   "source": [
    "This subset of data contains columns we don't need"
   ]
  },
  {
   "cell_type": "code",
   "execution_count": 38,
   "id": "bcde7783-0c64-4646-a1de-644b59cc2177",
   "metadata": {},
   "outputs": [],
   "source": [
    "columns_to_keep = ['Geo_FIPS',\n",
    "                   'SE_A03001_001',\n",
    "                   'SE_A03001_002',\n",
    "                   'SE_A03001_003',\n",
    "                   'SE_A03001_004',\n",
    "                   'SE_A03001_005',\n",
    "                   'SE_A03001_006',\n",
    "                   'SE_A03001_007',\n",
    "                   'SE_A03001_008',]\n",
    "\n",
    "subset2 = subset[columns_to_keep]"
   ]
  },
  {
   "cell_type": "markdown",
   "id": "6a1c63af-7230-46ae-89e1-a0f1af6fe4f7",
   "metadata": {},
   "source": [
    "Rename the kept columns. Begin by creating a list of columns as they are now"
   ]
  },
  {
   "cell_type": "code",
   "execution_count": 39,
   "id": "a65491f5-5876-46bf-9cf4-34008810e6f9",
   "metadata": {},
   "outputs": [
    {
     "data": {
      "text/plain": [
       "['Geo_FIPS',\n",
       " 'SE_A03001_001',\n",
       " 'SE_A03001_002',\n",
       " 'SE_A03001_003',\n",
       " 'SE_A03001_004',\n",
       " 'SE_A03001_005',\n",
       " 'SE_A03001_006',\n",
       " 'SE_A03001_007',\n",
       " 'SE_A03001_008']"
      ]
     },
     "execution_count": 39,
     "metadata": {},
     "output_type": "execute_result"
    }
   ],
   "source": [
    "columns = list(subset2) # this is the same as race.columns.to_list()\n",
    "columns\n",
    "\n",
    "['Geo_FIPS',\n",
    " 'SE_A03001_001',\n",
    " 'SE_A03001_002',\n",
    " 'SE_A03001_003',\n",
    " 'SE_A03001_004',\n",
    " 'SE_A03001_005',\n",
    " 'SE_A03001_006',\n",
    " 'SE_A03001_007',\n",
    " 'SE_A03001_008']\n"
   ]
  },
  {
   "cell_type": "markdown",
   "id": "c31fd9a2-ead1-4be9-ad44-fc30f6a11d46",
   "metadata": {},
   "source": [
    "Replace the values with desired column names"
   ]
  },
  {
   "cell_type": "code",
   "execution_count": 40,
   "id": "65f507e9-ee5c-4e99-a6b3-055bb9f3ed22",
   "metadata": {},
   "outputs": [],
   "source": [
    "subset2.columns = ['FIPS',\n",
    "'TotalPop',\n",
    "'Non Hispanic White Alone',\n",
    "'Non Hispanic Black Alone',\n",
    "'Non Hispanic American Indian and Alaska Native Alone',\n",
    "'Non Hispanic Asian Alone',\n",
    "'Non Hispanic Native Hawaiian and Pacific Islander Alone',\n",
    "'Non Hispanic Other Alone',\n",
    "'Non Hispanic Multi Race']"
   ]
  },
  {
   "cell_type": "markdown",
   "id": "da223ce7-a00f-448c-b168-11d6b3d0df2b",
   "metadata": {},
   "source": [
    "Check sample to see if rename worked"
   ]
  },
  {
   "cell_type": "code",
   "execution_count": 41,
   "id": "e6045cd7-818f-443a-b4d1-d84433599aff",
   "metadata": {},
   "outputs": [
    {
     "data": {
      "text/html": [
       "<div>\n",
       "<style scoped>\n",
       "    .dataframe tbody tr th:only-of-type {\n",
       "        vertical-align: middle;\n",
       "    }\n",
       "\n",
       "    .dataframe tbody tr th {\n",
       "        vertical-align: top;\n",
       "    }\n",
       "\n",
       "    .dataframe thead th {\n",
       "        text-align: right;\n",
       "    }\n",
       "</style>\n",
       "<table border=\"1\" class=\"dataframe\">\n",
       "  <thead>\n",
       "    <tr style=\"text-align: right;\">\n",
       "      <th></th>\n",
       "      <th>FIPS</th>\n",
       "      <th>TotalPop</th>\n",
       "      <th>Non Hispanic White Alone</th>\n",
       "      <th>Non Hispanic Black Alone</th>\n",
       "      <th>Non Hispanic American Indian and Alaska Native Alone</th>\n",
       "      <th>Non Hispanic Asian Alone</th>\n",
       "      <th>Non Hispanic Native Hawaiian and Pacific Islander Alone</th>\n",
       "      <th>Non Hispanic Other Alone</th>\n",
       "      <th>Non Hispanic Multi Race</th>\n",
       "    </tr>\n",
       "  </thead>\n",
       "  <tbody>\n",
       "    <tr>\n",
       "      <th>272</th>\n",
       "      <td>42101028200</td>\n",
       "      <td>4840</td>\n",
       "      <td>95</td>\n",
       "      <td>4209</td>\n",
       "      <td>0</td>\n",
       "      <td>352</td>\n",
       "      <td>0</td>\n",
       "      <td>41</td>\n",
       "      <td>143</td>\n",
       "    </tr>\n",
       "    <tr>\n",
       "      <th>274</th>\n",
       "      <td>42101028400</td>\n",
       "      <td>3751</td>\n",
       "      <td>322</td>\n",
       "      <td>2997</td>\n",
       "      <td>0</td>\n",
       "      <td>334</td>\n",
       "      <td>0</td>\n",
       "      <td>15</td>\n",
       "      <td>83</td>\n",
       "    </tr>\n",
       "    <tr>\n",
       "      <th>271</th>\n",
       "      <td>42101028100</td>\n",
       "      <td>4317</td>\n",
       "      <td>388</td>\n",
       "      <td>3619</td>\n",
       "      <td>0</td>\n",
       "      <td>0</td>\n",
       "      <td>0</td>\n",
       "      <td>208</td>\n",
       "      <td>102</td>\n",
       "    </tr>\n",
       "    <tr>\n",
       "      <th>270</th>\n",
       "      <td>42101028000</td>\n",
       "      <td>4294</td>\n",
       "      <td>44</td>\n",
       "      <td>4149</td>\n",
       "      <td>0</td>\n",
       "      <td>0</td>\n",
       "      <td>0</td>\n",
       "      <td>1</td>\n",
       "      <td>100</td>\n",
       "    </tr>\n",
       "    <tr>\n",
       "      <th>275</th>\n",
       "      <td>42101028500</td>\n",
       "      <td>2735</td>\n",
       "      <td>251</td>\n",
       "      <td>979</td>\n",
       "      <td>0</td>\n",
       "      <td>419</td>\n",
       "      <td>6</td>\n",
       "      <td>850</td>\n",
       "      <td>230</td>\n",
       "    </tr>\n",
       "  </tbody>\n",
       "</table>\n",
       "</div>"
      ],
      "text/plain": [
       "            FIPS  TotalPop  Non Hispanic White Alone  \\\n",
       "272  42101028200      4840                        95   \n",
       "274  42101028400      3751                       322   \n",
       "271  42101028100      4317                       388   \n",
       "270  42101028000      4294                        44   \n",
       "275  42101028500      2735                       251   \n",
       "\n",
       "     Non Hispanic Black Alone  \\\n",
       "272                      4209   \n",
       "274                      2997   \n",
       "271                      3619   \n",
       "270                      4149   \n",
       "275                       979   \n",
       "\n",
       "     Non Hispanic American Indian and Alaska Native Alone  \\\n",
       "272                                                  0      \n",
       "274                                                  0      \n",
       "271                                                  0      \n",
       "270                                                  0      \n",
       "275                                                  0      \n",
       "\n",
       "     Non Hispanic Asian Alone  \\\n",
       "272                       352   \n",
       "274                       334   \n",
       "271                         0   \n",
       "270                         0   \n",
       "275                       419   \n",
       "\n",
       "     Non Hispanic Native Hawaiian and Pacific Islander Alone  \\\n",
       "272                                                  0         \n",
       "274                                                  0         \n",
       "271                                                  0         \n",
       "270                                                  0         \n",
       "275                                                  6         \n",
       "\n",
       "     Non Hispanic Other Alone  Non Hispanic Multi Race  \n",
       "272                        41                      143  \n",
       "274                        15                       83  \n",
       "271                       208                      102  \n",
       "270                         1                      100  \n",
       "275                       850                      230  "
      ]
     },
     "execution_count": 41,
     "metadata": {},
     "output_type": "execute_result"
    }
   ],
   "source": [
    "subset2.sample(5)"
   ]
  },
  {
   "cell_type": "markdown",
   "id": "b2328832-9746-4b6c-bc77-d045cddda679",
   "metadata": {},
   "source": [
    "success! "
   ]
  },
  {
   "cell_type": "markdown",
   "id": "7a66a5fd-a68c-4d57-ad18-b8a1a1911a50",
   "metadata": {},
   "source": [
    "#### Importing Census Tract Geojson File"
   ]
  },
  {
   "cell_type": "code",
   "execution_count": 42,
   "id": "cd27d87e-54c1-4d76-86d8-f6e335e38af7",
   "metadata": {},
   "outputs": [],
   "source": [
    "import geopandas as gpd\n",
    "import matplotlib.pyplot as plt"
   ]
  },
  {
   "cell_type": "markdown",
   "id": "7528e040-ba76-4f19-a3b5-ab5e79e18e96",
   "metadata": {},
   "source": [
    "Read in a geojson file downloaded from Open Data Philly \n"
   ]
  },
  {
   "cell_type": "code",
   "execution_count": 43,
   "id": "fafc0658-6004-4fae-b34a-c9a15f2adf3a",
   "metadata": {},
   "outputs": [
    {
     "name": "stderr",
     "output_type": "stream",
     "text": [
      "ERROR 1: PROJ: proj_create_from_database: Open of /opt/conda/share/proj failed\n"
     ]
    },
    {
     "data": {
      "text/html": [
       "<div>\n",
       "<style scoped>\n",
       "    .dataframe tbody tr th:only-of-type {\n",
       "        vertical-align: middle;\n",
       "    }\n",
       "\n",
       "    .dataframe tbody tr th {\n",
       "        vertical-align: top;\n",
       "    }\n",
       "\n",
       "    .dataframe thead th {\n",
       "        text-align: right;\n",
       "    }\n",
       "</style>\n",
       "<table border=\"1\" class=\"dataframe\">\n",
       "  <thead>\n",
       "    <tr style=\"text-align: right;\">\n",
       "      <th></th>\n",
       "      <th>OBJECTID</th>\n",
       "      <th>STATEFP10</th>\n",
       "      <th>COUNTYFP10</th>\n",
       "      <th>TRACTCE10</th>\n",
       "      <th>GEOID10</th>\n",
       "      <th>NAME10</th>\n",
       "      <th>NAMELSAD10</th>\n",
       "      <th>MTFCC10</th>\n",
       "      <th>FUNCSTAT10</th>\n",
       "      <th>ALAND10</th>\n",
       "      <th>AWATER10</th>\n",
       "      <th>INTPTLAT10</th>\n",
       "      <th>INTPTLON10</th>\n",
       "      <th>LOGRECNO</th>\n",
       "      <th>geometry</th>\n",
       "    </tr>\n",
       "  </thead>\n",
       "  <tbody>\n",
       "    <tr>\n",
       "      <th>0</th>\n",
       "      <td>1</td>\n",
       "      <td>42</td>\n",
       "      <td>101</td>\n",
       "      <td>009400</td>\n",
       "      <td>42101009400</td>\n",
       "      <td>94</td>\n",
       "      <td>Census Tract 94</td>\n",
       "      <td>G5020</td>\n",
       "      <td>S</td>\n",
       "      <td>366717</td>\n",
       "      <td>0</td>\n",
       "      <td>+39.9632709</td>\n",
       "      <td>-075.2322437</td>\n",
       "      <td>10429</td>\n",
       "      <td>POLYGON ((-75.22927 39.96054, -75.22865 39.960...</td>\n",
       "    </tr>\n",
       "    <tr>\n",
       "      <th>1</th>\n",
       "      <td>2</td>\n",
       "      <td>42</td>\n",
       "      <td>101</td>\n",
       "      <td>009500</td>\n",
       "      <td>42101009500</td>\n",
       "      <td>95</td>\n",
       "      <td>Census Tract 95</td>\n",
       "      <td>G5020</td>\n",
       "      <td>S</td>\n",
       "      <td>319070</td>\n",
       "      <td>0</td>\n",
       "      <td>+39.9658709</td>\n",
       "      <td>-075.2379140</td>\n",
       "      <td>10430</td>\n",
       "      <td>POLYGON ((-75.23536 39.96852, -75.23545 39.969...</td>\n",
       "    </tr>\n",
       "    <tr>\n",
       "      <th>2</th>\n",
       "      <td>3</td>\n",
       "      <td>42</td>\n",
       "      <td>101</td>\n",
       "      <td>009600</td>\n",
       "      <td>42101009600</td>\n",
       "      <td>96</td>\n",
       "      <td>Census Tract 96</td>\n",
       "      <td>G5020</td>\n",
       "      <td>S</td>\n",
       "      <td>405273</td>\n",
       "      <td>0</td>\n",
       "      <td>+39.9655396</td>\n",
       "      <td>-075.2435075</td>\n",
       "      <td>10431</td>\n",
       "      <td>POLYGON ((-75.24343 39.96230, -75.24339 39.962...</td>\n",
       "    </tr>\n",
       "    <tr>\n",
       "      <th>3</th>\n",
       "      <td>4</td>\n",
       "      <td>42</td>\n",
       "      <td>101</td>\n",
       "      <td>013800</td>\n",
       "      <td>42101013800</td>\n",
       "      <td>138</td>\n",
       "      <td>Census Tract 138</td>\n",
       "      <td>G5020</td>\n",
       "      <td>S</td>\n",
       "      <td>341256</td>\n",
       "      <td>0</td>\n",
       "      <td>+39.9764504</td>\n",
       "      <td>-075.1771771</td>\n",
       "      <td>10468</td>\n",
       "      <td>POLYGON ((-75.17341 39.97779, -75.17386 39.977...</td>\n",
       "    </tr>\n",
       "    <tr>\n",
       "      <th>4</th>\n",
       "      <td>5</td>\n",
       "      <td>42</td>\n",
       "      <td>101</td>\n",
       "      <td>013900</td>\n",
       "      <td>42101013900</td>\n",
       "      <td>139</td>\n",
       "      <td>Census Tract 139</td>\n",
       "      <td>G5020</td>\n",
       "      <td>S</td>\n",
       "      <td>562934</td>\n",
       "      <td>0</td>\n",
       "      <td>+39.9750563</td>\n",
       "      <td>-075.1711846</td>\n",
       "      <td>10469</td>\n",
       "      <td>POLYGON ((-75.17313 39.97776, -75.17321 39.977...</td>\n",
       "    </tr>\n",
       "  </tbody>\n",
       "</table>\n",
       "</div>"
      ],
      "text/plain": [
       "   OBJECTID STATEFP10 COUNTYFP10 TRACTCE10      GEOID10 NAME10  \\\n",
       "0         1        42        101    009400  42101009400     94   \n",
       "1         2        42        101    009500  42101009500     95   \n",
       "2         3        42        101    009600  42101009600     96   \n",
       "3         4        42        101    013800  42101013800    138   \n",
       "4         5        42        101    013900  42101013900    139   \n",
       "\n",
       "         NAMELSAD10 MTFCC10 FUNCSTAT10  ALAND10  AWATER10   INTPTLAT10  \\\n",
       "0   Census Tract 94   G5020          S   366717         0  +39.9632709   \n",
       "1   Census Tract 95   G5020          S   319070         0  +39.9658709   \n",
       "2   Census Tract 96   G5020          S   405273         0  +39.9655396   \n",
       "3  Census Tract 138   G5020          S   341256         0  +39.9764504   \n",
       "4  Census Tract 139   G5020          S   562934         0  +39.9750563   \n",
       "\n",
       "     INTPTLON10 LOGRECNO                                           geometry  \n",
       "0  -075.2322437    10429  POLYGON ((-75.22927 39.96054, -75.22865 39.960...  \n",
       "1  -075.2379140    10430  POLYGON ((-75.23536 39.96852, -75.23545 39.969...  \n",
       "2  -075.2435075    10431  POLYGON ((-75.24343 39.96230, -75.24339 39.962...  \n",
       "3  -075.1771771    10468  POLYGON ((-75.17341 39.97779, -75.17386 39.977...  \n",
       "4  -075.1711846    10469  POLYGON ((-75.17313 39.97776, -75.17321 39.977...  "
      ]
     },
     "execution_count": 43,
     "metadata": {},
     "output_type": "execute_result"
    }
   ],
   "source": [
    "tracts=gpd.read_file('Census_Tracts_2010.geojson')\n",
    "tracts.head()"
   ]
  },
  {
   "cell_type": "markdown",
   "id": "bbc17a6c-5207-4976-a363-027425d691c2",
   "metadata": {},
   "source": [
    "plot the file"
   ]
  },
  {
   "cell_type": "code",
   "execution_count": 44,
   "id": "506f0ba2-fc7b-45f2-93d9-af0a4397cf30",
   "metadata": {},
   "outputs": [
    {
     "data": {
      "text/plain": [
       "<AxesSubplot: >"
      ]
     },
     "execution_count": 44,
     "metadata": {},
     "output_type": "execute_result"
    },
    {
     "data": {
      "image/png": "[encoded data removed]",
      "text/plain": [
       "<Figure size 1200x1000 with 1 Axes>"
      ]
     },
     "metadata": {},
     "output_type": "display_data"
    }
   ],
   "source": [
    "tracts.plot(figsize=(12,10))"
   ]
  },
  {
   "cell_type": "markdown",
   "id": "92ee1327-afd4-4ab8-ac91-6701d19430d8",
   "metadata": {},
   "source": [
    "Learn more about this dataset"
   ]
  },
  {
   "cell_type": "code",
   "execution_count": 45,
   "id": "2ccf9ca4-06c5-483a-a528-4ef135866ebc",
   "metadata": {},
   "outputs": [
    {
     "name": "stdout",
     "output_type": "stream",
     "text": [
      "<class 'geopandas.geodataframe.GeoDataFrame'>\n",
      "RangeIndex: 384 entries, 0 to 383\n",
      "Data columns (total 15 columns):\n",
      " #   Column      Non-Null Count  Dtype   \n",
      "---  ------      --------------  -----   \n",
      " 0   OBJECTID    384 non-null    int64   \n",
      " 1   STATEFP10   384 non-null    object  \n",
      " 2   COUNTYFP10  384 non-null    object  \n",
      " 3   TRACTCE10   384 non-null    object  \n",
      " 4   GEOID10     384 non-null    object  \n",
      " 5   NAME10      384 non-null    object  \n",
      " 6   NAMELSAD10  384 non-null    object  \n",
      " 7   MTFCC10     384 non-null    object  \n",
      " 8   FUNCSTAT10  384 non-null    object  \n",
      " 9   ALAND10     384 non-null    int64   \n",
      " 10  AWATER10    384 non-null    int64   \n",
      " 11  INTPTLAT10  384 non-null    object  \n",
      " 12  INTPTLON10  384 non-null    object  \n",
      " 13  LOGRECNO    384 non-null    object  \n",
      " 14  geometry    384 non-null    geometry\n",
      "dtypes: geometry(1), int64(3), object(11)\n",
      "memory usage: 45.1+ KB\n"
     ]
    }
   ],
   "source": [
    "tracts.info(verbose=True, show_counts=True)"
   ]
  },
  {
   "cell_type": "markdown",
   "id": "b2902595-f1fb-482e-9109-3e2604e88a35",
   "metadata": {},
   "source": [
    "Only FIPS and geometry are needed, so subset the data"
   ]
  },
  {
   "cell_type": "code",
   "execution_count": 46,
   "id": "d2893e09-d38b-4c38-a4b6-0afe2a068e14",
   "metadata": {},
   "outputs": [
    {
     "data": {
      "text/html": [
       "<div>\n",
       "<style scoped>\n",
       "    .dataframe tbody tr th:only-of-type {\n",
       "        vertical-align: middle;\n",
       "    }\n",
       "\n",
       "    .dataframe tbody tr th {\n",
       "        vertical-align: top;\n",
       "    }\n",
       "\n",
       "    .dataframe thead th {\n",
       "        text-align: right;\n",
       "    }\n",
       "</style>\n",
       "<table border=\"1\" class=\"dataframe\">\n",
       "  <thead>\n",
       "    <tr style=\"text-align: right;\">\n",
       "      <th></th>\n",
       "      <th>TRACTCE10</th>\n",
       "      <th>geometry</th>\n",
       "    </tr>\n",
       "  </thead>\n",
       "  <tbody>\n",
       "    <tr>\n",
       "      <th>0</th>\n",
       "      <td>009400</td>\n",
       "      <td>POLYGON ((-75.22927 39.96054, -75.22865 39.960...</td>\n",
       "    </tr>\n",
       "    <tr>\n",
       "      <th>1</th>\n",
       "      <td>009500</td>\n",
       "      <td>POLYGON ((-75.23536 39.96852, -75.23545 39.969...</td>\n",
       "    </tr>\n",
       "    <tr>\n",
       "      <th>2</th>\n",
       "      <td>009600</td>\n",
       "      <td>POLYGON ((-75.24343 39.96230, -75.24339 39.962...</td>\n",
       "    </tr>\n",
       "    <tr>\n",
       "      <th>3</th>\n",
       "      <td>013800</td>\n",
       "      <td>POLYGON ((-75.17341 39.97779, -75.17386 39.977...</td>\n",
       "    </tr>\n",
       "    <tr>\n",
       "      <th>4</th>\n",
       "      <td>013900</td>\n",
       "      <td>POLYGON ((-75.17313 39.97776, -75.17321 39.977...</td>\n",
       "    </tr>\n",
       "  </tbody>\n",
       "</table>\n",
       "</div>"
      ],
      "text/plain": [
       "  TRACTCE10                                           geometry\n",
       "0    009400  POLYGON ((-75.22927 39.96054, -75.22865 39.960...\n",
       "1    009500  POLYGON ((-75.23536 39.96852, -75.23545 39.969...\n",
       "2    009600  POLYGON ((-75.24343 39.96230, -75.24339 39.962...\n",
       "3    013800  POLYGON ((-75.17341 39.97779, -75.17386 39.977...\n",
       "4    013900  POLYGON ((-75.17313 39.97776, -75.17321 39.977..."
      ]
     },
     "execution_count": 46,
     "metadata": {},
     "output_type": "execute_result"
    }
   ],
   "source": [
    "tracts2 = tracts[['TRACTCE10','geometry']]\n",
    "tracts2.head()"
   ]
  },
  {
   "cell_type": "markdown",
   "id": "b011f816-b20a-41fe-b257-c8c8463b2869",
   "metadata": {},
   "source": [
    "Create a FIPS column"
   ]
  },
  {
   "cell_type": "code",
   "execution_count": 47,
   "id": "eb0b8a8d-84a8-4e67-86af-877462c66cdc",
   "metadata": {},
   "outputs": [
    {
     "name": "stderr",
     "output_type": "stream",
     "text": [
      "/opt/conda/lib/python3.10/site-packages/geopandas/geodataframe.py:1443: SettingWithCopyWarning: \n",
      "A value is trying to be set on a copy of a slice from a DataFrame.\n",
      "Try using .loc[row_indexer,col_indexer] = value instead\n",
      "\n",
      "See the caveats in the documentation: https://pandas.pydata.org/pandas-docs/stable/user_guide/indexing.html#returning-a-view-versus-a-copy\n",
      "  super().__setitem__(key, value)\n"
     ]
    }
   ],
   "source": [
    "tracts2['FIPS'] ='42'+'101'+tracts['TRACTCE10']"
   ]
  },
  {
   "cell_type": "code",
   "execution_count": 48,
   "id": "8019c959-fa59-4e58-b92f-c857f1f251c9",
   "metadata": {},
   "outputs": [
    {
     "data": {
      "text/html": [
       "<div>\n",
       "<style scoped>\n",
       "    .dataframe tbody tr th:only-of-type {\n",
       "        vertical-align: middle;\n",
       "    }\n",
       "\n",
       "    .dataframe tbody tr th {\n",
       "        vertical-align: top;\n",
       "    }\n",
       "\n",
       "    .dataframe thead th {\n",
       "        text-align: right;\n",
       "    }\n",
       "</style>\n",
       "<table border=\"1\" class=\"dataframe\">\n",
       "  <thead>\n",
       "    <tr style=\"text-align: right;\">\n",
       "      <th></th>\n",
       "      <th>TRACTCE10</th>\n",
       "      <th>geometry</th>\n",
       "      <th>FIPS</th>\n",
       "    </tr>\n",
       "  </thead>\n",
       "  <tbody>\n",
       "    <tr>\n",
       "      <th>0</th>\n",
       "      <td>009400</td>\n",
       "      <td>POLYGON ((-75.22927 39.96054, -75.22865 39.960...</td>\n",
       "      <td>42101009400</td>\n",
       "    </tr>\n",
       "    <tr>\n",
       "      <th>1</th>\n",
       "      <td>009500</td>\n",
       "      <td>POLYGON ((-75.23536 39.96852, -75.23545 39.969...</td>\n",
       "      <td>42101009500</td>\n",
       "    </tr>\n",
       "    <tr>\n",
       "      <th>2</th>\n",
       "      <td>009600</td>\n",
       "      <td>POLYGON ((-75.24343 39.96230, -75.24339 39.962...</td>\n",
       "      <td>42101009600</td>\n",
       "    </tr>\n",
       "    <tr>\n",
       "      <th>3</th>\n",
       "      <td>013800</td>\n",
       "      <td>POLYGON ((-75.17341 39.97779, -75.17386 39.977...</td>\n",
       "      <td>42101013800</td>\n",
       "    </tr>\n",
       "    <tr>\n",
       "      <th>4</th>\n",
       "      <td>013900</td>\n",
       "      <td>POLYGON ((-75.17313 39.97776, -75.17321 39.977...</td>\n",
       "      <td>42101013900</td>\n",
       "    </tr>\n",
       "  </tbody>\n",
       "</table>\n",
       "</div>"
      ],
      "text/plain": [
       "  TRACTCE10                                           geometry         FIPS\n",
       "0    009400  POLYGON ((-75.22927 39.96054, -75.22865 39.960...  42101009400\n",
       "1    009500  POLYGON ((-75.23536 39.96852, -75.23545 39.969...  42101009500\n",
       "2    009600  POLYGON ((-75.24343 39.96230, -75.24339 39.962...  42101009600\n",
       "3    013800  POLYGON ((-75.17341 39.97779, -75.17386 39.977...  42101013800\n",
       "4    013900  POLYGON ((-75.17313 39.97776, -75.17321 39.977...  42101013900"
      ]
     },
     "execution_count": 48,
     "metadata": {},
     "output_type": "execute_result"
    }
   ],
   "source": [
    "tracts2.head()"
   ]
  },
  {
   "cell_type": "markdown",
   "id": "c4d9f9b6-8b30-4827-b48b-282bb8bf3519",
   "metadata": {},
   "source": [
    "##### Merging/Joining Data"
   ]
  },
  {
   "cell_type": "markdown",
   "id": "f312a4f3-3ab6-4871-bba0-08adc935c13a",
   "metadata": {},
   "source": [
    "Create a new dataframe based on the join"
   ]
  },
  {
   "cell_type": "code",
   "execution_count": 49,
   "id": "5a4abf3e-c18b-480f-8d38-a121638d16a3",
   "metadata": {},
   "outputs": [
    {
     "ename": "ValueError",
     "evalue": "You are trying to merge on object and int64 columns. If you wish to proceed you should use pd.concat",
     "output_type": "error",
     "traceback": [
      "\u001b[0;31m---------------------------------------------------------------------------\u001b[0m",
      "\u001b[0;31mValueError\u001b[0m                                Traceback (most recent call last)",
      "Cell \u001b[0;32mIn[49], line 1\u001b[0m\n\u001b[0;32m----> 1\u001b[0m tracts2_race2\u001b[38;5;241m=\u001b[39m\u001b[43mtracts2\u001b[49m\u001b[38;5;241;43m.\u001b[39;49m\u001b[43mmerge\u001b[49m\u001b[43m(\u001b[49m\u001b[43mrace2\u001b[49m\u001b[43m,\u001b[49m\u001b[43mon\u001b[49m\u001b[38;5;241;43m=\u001b[39;49m\u001b[38;5;124;43m\"\u001b[39;49m\u001b[38;5;124;43mFIPS\u001b[39;49m\u001b[38;5;124;43m\"\u001b[39;49m\u001b[43m)\u001b[49m\n",
      "File \u001b[0;32m/opt/conda/lib/python3.10/site-packages/geopandas/geodataframe.py:1470\u001b[0m, in \u001b[0;36mGeoDataFrame.merge\u001b[0;34m(self, *args, **kwargs)\u001b[0m\n\u001b[1;32m   1449\u001b[0m \u001b[38;5;28;01mdef\u001b[39;00m \u001b[38;5;21mmerge\u001b[39m(\u001b[38;5;28mself\u001b[39m, \u001b[38;5;241m*\u001b[39margs, \u001b[38;5;241m*\u001b[39m\u001b[38;5;241m*\u001b[39mkwargs):\n\u001b[1;32m   1450\u001b[0m \u001b[38;5;250m    \u001b[39m\u001b[38;5;124mr\u001b[39m\u001b[38;5;124;03m\"\"\"Merge two ``GeoDataFrame`` objects with a database-style join.\u001b[39;00m\n\u001b[1;32m   1451\u001b[0m \n\u001b[1;32m   1452\u001b[0m \u001b[38;5;124;03m    Returns a ``GeoDataFrame`` if a geometry column is present; otherwise,\u001b[39;00m\n\u001b[0;32m   (...)\u001b[0m\n\u001b[1;32m   1468\u001b[0m \n\u001b[1;32m   1469\u001b[0m \u001b[38;5;124;03m    \"\"\"\u001b[39;00m\n\u001b[0;32m-> 1470\u001b[0m     result \u001b[38;5;241m=\u001b[39m \u001b[43mDataFrame\u001b[49m\u001b[38;5;241;43m.\u001b[39;49m\u001b[43mmerge\u001b[49m\u001b[43m(\u001b[49m\u001b[38;5;28;43mself\u001b[39;49m\u001b[43m,\u001b[49m\u001b[43m \u001b[49m\u001b[38;5;241;43m*\u001b[39;49m\u001b[43margs\u001b[49m\u001b[43m,\u001b[49m\u001b[43m \u001b[49m\u001b[38;5;241;43m*\u001b[39;49m\u001b[38;5;241;43m*\u001b[39;49m\u001b[43mkwargs\u001b[49m\u001b[43m)\u001b[49m\n\u001b[1;32m   1471\u001b[0m     geo_col \u001b[38;5;241m=\u001b[39m \u001b[38;5;28mself\u001b[39m\u001b[38;5;241m.\u001b[39m_geometry_column_name\n\u001b[1;32m   1472\u001b[0m     \u001b[38;5;28;01mif\u001b[39;00m \u001b[38;5;28misinstance\u001b[39m(result, DataFrame) \u001b[38;5;129;01mand\u001b[39;00m geo_col \u001b[38;5;129;01min\u001b[39;00m result:\n",
      "File \u001b[0;32m/opt/conda/lib/python3.10/site-packages/pandas/core/frame.py:10090\u001b[0m, in \u001b[0;36mDataFrame.merge\u001b[0;34m(self, right, how, on, left_on, right_on, left_index, right_index, sort, suffixes, copy, indicator, validate)\u001b[0m\n\u001b[1;32m  10071\u001b[0m \u001b[38;5;129m@Substitution\u001b[39m(\u001b[38;5;124m\"\u001b[39m\u001b[38;5;124m\"\u001b[39m)\n\u001b[1;32m  10072\u001b[0m \u001b[38;5;129m@Appender\u001b[39m(_merge_doc, indents\u001b[38;5;241m=\u001b[39m\u001b[38;5;241m2\u001b[39m)\n\u001b[1;32m  10073\u001b[0m \u001b[38;5;28;01mdef\u001b[39;00m \u001b[38;5;21mmerge\u001b[39m(\n\u001b[0;32m   (...)\u001b[0m\n\u001b[1;32m  10086\u001b[0m     validate: \u001b[38;5;28mstr\u001b[39m \u001b[38;5;241m|\u001b[39m \u001b[38;5;28;01mNone\u001b[39;00m \u001b[38;5;241m=\u001b[39m \u001b[38;5;28;01mNone\u001b[39;00m,\n\u001b[1;32m  10087\u001b[0m ) \u001b[38;5;241m-\u001b[39m\u001b[38;5;241m>\u001b[39m DataFrame:\n\u001b[1;32m  10088\u001b[0m     \u001b[38;5;28;01mfrom\u001b[39;00m \u001b[38;5;21;01mpandas\u001b[39;00m\u001b[38;5;21;01m.\u001b[39;00m\u001b[38;5;21;01mcore\u001b[39;00m\u001b[38;5;21;01m.\u001b[39;00m\u001b[38;5;21;01mreshape\u001b[39;00m\u001b[38;5;21;01m.\u001b[39;00m\u001b[38;5;21;01mmerge\u001b[39;00m \u001b[38;5;28;01mimport\u001b[39;00m merge\n\u001b[0;32m> 10090\u001b[0m     \u001b[38;5;28;01mreturn\u001b[39;00m \u001b[43mmerge\u001b[49m\u001b[43m(\u001b[49m\n\u001b[1;32m  10091\u001b[0m \u001b[43m        \u001b[49m\u001b[38;5;28;43mself\u001b[39;49m\u001b[43m,\u001b[49m\n\u001b[1;32m  10092\u001b[0m \u001b[43m        \u001b[49m\u001b[43mright\u001b[49m\u001b[43m,\u001b[49m\n\u001b[1;32m  10093\u001b[0m \u001b[43m        \u001b[49m\u001b[43mhow\u001b[49m\u001b[38;5;241;43m=\u001b[39;49m\u001b[43mhow\u001b[49m\u001b[43m,\u001b[49m\n\u001b[1;32m  10094\u001b[0m \u001b[43m        \u001b[49m\u001b[43mon\u001b[49m\u001b[38;5;241;43m=\u001b[39;49m\u001b[43mon\u001b[49m\u001b[43m,\u001b[49m\n\u001b[1;32m  10095\u001b[0m \u001b[43m        \u001b[49m\u001b[43mleft_on\u001b[49m\u001b[38;5;241;43m=\u001b[39;49m\u001b[43mleft_on\u001b[49m\u001b[43m,\u001b[49m\n\u001b[1;32m  10096\u001b[0m \u001b[43m        \u001b[49m\u001b[43mright_on\u001b[49m\u001b[38;5;241;43m=\u001b[39;49m\u001b[43mright_on\u001b[49m\u001b[43m,\u001b[49m\n\u001b[1;32m  10097\u001b[0m \u001b[43m        \u001b[49m\u001b[43mleft_index\u001b[49m\u001b[38;5;241;43m=\u001b[39;49m\u001b[43mleft_index\u001b[49m\u001b[43m,\u001b[49m\n\u001b[1;32m  10098\u001b[0m \u001b[43m        \u001b[49m\u001b[43mright_index\u001b[49m\u001b[38;5;241;43m=\u001b[39;49m\u001b[43mright_index\u001b[49m\u001b[43m,\u001b[49m\n\u001b[1;32m  10099\u001b[0m \u001b[43m        \u001b[49m\u001b[43msort\u001b[49m\u001b[38;5;241;43m=\u001b[39;49m\u001b[43msort\u001b[49m\u001b[43m,\u001b[49m\n\u001b[1;32m  10100\u001b[0m \u001b[43m        \u001b[49m\u001b[43msuffixes\u001b[49m\u001b[38;5;241;43m=\u001b[39;49m\u001b[43msuffixes\u001b[49m\u001b[43m,\u001b[49m\n\u001b[1;32m  10101\u001b[0m \u001b[43m        \u001b[49m\u001b[43mcopy\u001b[49m\u001b[38;5;241;43m=\u001b[39;49m\u001b[43mcopy\u001b[49m\u001b[43m,\u001b[49m\n\u001b[1;32m  10102\u001b[0m \u001b[43m        \u001b[49m\u001b[43mindicator\u001b[49m\u001b[38;5;241;43m=\u001b[39;49m\u001b[43mindicator\u001b[49m\u001b[43m,\u001b[49m\n\u001b[1;32m  10103\u001b[0m \u001b[43m        \u001b[49m\u001b[43mvalidate\u001b[49m\u001b[38;5;241;43m=\u001b[39;49m\u001b[43mvalidate\u001b[49m\u001b[43m,\u001b[49m\n\u001b[1;32m  10104\u001b[0m \u001b[43m    \u001b[49m\u001b[43m)\u001b[49m\n",
      "File \u001b[0;32m/opt/conda/lib/python3.10/site-packages/pandas/core/reshape/merge.py:110\u001b[0m, in \u001b[0;36mmerge\u001b[0;34m(left, right, how, on, left_on, right_on, left_index, right_index, sort, suffixes, copy, indicator, validate)\u001b[0m\n\u001b[1;32m     93\u001b[0m \u001b[38;5;129m@Substitution\u001b[39m(\u001b[38;5;124m\"\u001b[39m\u001b[38;5;130;01m\\n\u001b[39;00m\u001b[38;5;124mleft : DataFrame or named Series\u001b[39m\u001b[38;5;124m\"\u001b[39m)\n\u001b[1;32m     94\u001b[0m \u001b[38;5;129m@Appender\u001b[39m(_merge_doc, indents\u001b[38;5;241m=\u001b[39m\u001b[38;5;241m0\u001b[39m)\n\u001b[1;32m     95\u001b[0m \u001b[38;5;28;01mdef\u001b[39;00m \u001b[38;5;21mmerge\u001b[39m(\n\u001b[0;32m   (...)\u001b[0m\n\u001b[1;32m    108\u001b[0m     validate: \u001b[38;5;28mstr\u001b[39m \u001b[38;5;241m|\u001b[39m \u001b[38;5;28;01mNone\u001b[39;00m \u001b[38;5;241m=\u001b[39m \u001b[38;5;28;01mNone\u001b[39;00m,\n\u001b[1;32m    109\u001b[0m ) \u001b[38;5;241m-\u001b[39m\u001b[38;5;241m>\u001b[39m DataFrame:\n\u001b[0;32m--> 110\u001b[0m     op \u001b[38;5;241m=\u001b[39m \u001b[43m_MergeOperation\u001b[49m\u001b[43m(\u001b[49m\n\u001b[1;32m    111\u001b[0m \u001b[43m        \u001b[49m\u001b[43mleft\u001b[49m\u001b[43m,\u001b[49m\n\u001b[1;32m    112\u001b[0m \u001b[43m        \u001b[49m\u001b[43mright\u001b[49m\u001b[43m,\u001b[49m\n\u001b[1;32m    113\u001b[0m \u001b[43m        \u001b[49m\u001b[43mhow\u001b[49m\u001b[38;5;241;43m=\u001b[39;49m\u001b[43mhow\u001b[49m\u001b[43m,\u001b[49m\n\u001b[1;32m    114\u001b[0m \u001b[43m        \u001b[49m\u001b[43mon\u001b[49m\u001b[38;5;241;43m=\u001b[39;49m\u001b[43mon\u001b[49m\u001b[43m,\u001b[49m\n\u001b[1;32m    115\u001b[0m \u001b[43m        \u001b[49m\u001b[43mleft_on\u001b[49m\u001b[38;5;241;43m=\u001b[39;49m\u001b[43mleft_on\u001b[49m\u001b[43m,\u001b[49m\n\u001b[1;32m    116\u001b[0m \u001b[43m        \u001b[49m\u001b[43mright_on\u001b[49m\u001b[38;5;241;43m=\u001b[39;49m\u001b[43mright_on\u001b[49m\u001b[43m,\u001b[49m\n\u001b[1;32m    117\u001b[0m \u001b[43m        \u001b[49m\u001b[43mleft_index\u001b[49m\u001b[38;5;241;43m=\u001b[39;49m\u001b[43mleft_index\u001b[49m\u001b[43m,\u001b[49m\n\u001b[1;32m    118\u001b[0m \u001b[43m        \u001b[49m\u001b[43mright_index\u001b[49m\u001b[38;5;241;43m=\u001b[39;49m\u001b[43mright_index\u001b[49m\u001b[43m,\u001b[49m\n\u001b[1;32m    119\u001b[0m \u001b[43m        \u001b[49m\u001b[43msort\u001b[49m\u001b[38;5;241;43m=\u001b[39;49m\u001b[43msort\u001b[49m\u001b[43m,\u001b[49m\n\u001b[1;32m    120\u001b[0m \u001b[43m        \u001b[49m\u001b[43msuffixes\u001b[49m\u001b[38;5;241;43m=\u001b[39;49m\u001b[43msuffixes\u001b[49m\u001b[43m,\u001b[49m\n\u001b[1;32m    121\u001b[0m \u001b[43m        \u001b[49m\u001b[43mindicator\u001b[49m\u001b[38;5;241;43m=\u001b[39;49m\u001b[43mindicator\u001b[49m\u001b[43m,\u001b[49m\n\u001b[1;32m    122\u001b[0m \u001b[43m        \u001b[49m\u001b[43mvalidate\u001b[49m\u001b[38;5;241;43m=\u001b[39;49m\u001b[43mvalidate\u001b[49m\u001b[43m,\u001b[49m\n\u001b[1;32m    123\u001b[0m \u001b[43m    \u001b[49m\u001b[43m)\u001b[49m\n\u001b[1;32m    124\u001b[0m     \u001b[38;5;28;01mreturn\u001b[39;00m op\u001b[38;5;241m.\u001b[39mget_result(copy\u001b[38;5;241m=\u001b[39mcopy)\n",
      "File \u001b[0;32m/opt/conda/lib/python3.10/site-packages/pandas/core/reshape/merge.py:707\u001b[0m, in \u001b[0;36m_MergeOperation.__init__\u001b[0;34m(self, left, right, how, on, left_on, right_on, axis, left_index, right_index, sort, suffixes, indicator, validate)\u001b[0m\n\u001b[1;32m    699\u001b[0m (\n\u001b[1;32m    700\u001b[0m     \u001b[38;5;28mself\u001b[39m\u001b[38;5;241m.\u001b[39mleft_join_keys,\n\u001b[1;32m    701\u001b[0m     \u001b[38;5;28mself\u001b[39m\u001b[38;5;241m.\u001b[39mright_join_keys,\n\u001b[1;32m    702\u001b[0m     \u001b[38;5;28mself\u001b[39m\u001b[38;5;241m.\u001b[39mjoin_names,\n\u001b[1;32m    703\u001b[0m ) \u001b[38;5;241m=\u001b[39m \u001b[38;5;28mself\u001b[39m\u001b[38;5;241m.\u001b[39m_get_merge_keys()\n\u001b[1;32m    705\u001b[0m \u001b[38;5;66;03m# validate the merge keys dtypes. We may need to coerce\u001b[39;00m\n\u001b[1;32m    706\u001b[0m \u001b[38;5;66;03m# to avoid incompatible dtypes\u001b[39;00m\n\u001b[0;32m--> 707\u001b[0m \u001b[38;5;28;43mself\u001b[39;49m\u001b[38;5;241;43m.\u001b[39;49m\u001b[43m_maybe_coerce_merge_keys\u001b[49m\u001b[43m(\u001b[49m\u001b[43m)\u001b[49m\n\u001b[1;32m    709\u001b[0m \u001b[38;5;66;03m# If argument passed to validate,\u001b[39;00m\n\u001b[1;32m    710\u001b[0m \u001b[38;5;66;03m# check if columns specified as unique\u001b[39;00m\n\u001b[1;32m    711\u001b[0m \u001b[38;5;66;03m# are in fact unique.\u001b[39;00m\n\u001b[1;32m    712\u001b[0m \u001b[38;5;28;01mif\u001b[39;00m validate \u001b[38;5;129;01mis\u001b[39;00m \u001b[38;5;129;01mnot\u001b[39;00m \u001b[38;5;28;01mNone\u001b[39;00m:\n",
      "File \u001b[0;32m/opt/conda/lib/python3.10/site-packages/pandas/core/reshape/merge.py:1340\u001b[0m, in \u001b[0;36m_MergeOperation._maybe_coerce_merge_keys\u001b[0;34m(self)\u001b[0m\n\u001b[1;32m   1334\u001b[0m     \u001b[38;5;66;03m# unless we are merging non-string-like with string-like\u001b[39;00m\n\u001b[1;32m   1335\u001b[0m     \u001b[38;5;28;01melif\u001b[39;00m (\n\u001b[1;32m   1336\u001b[0m         inferred_left \u001b[38;5;129;01min\u001b[39;00m string_types \u001b[38;5;129;01mand\u001b[39;00m inferred_right \u001b[38;5;129;01mnot\u001b[39;00m \u001b[38;5;129;01min\u001b[39;00m string_types\n\u001b[1;32m   1337\u001b[0m     ) \u001b[38;5;129;01mor\u001b[39;00m (\n\u001b[1;32m   1338\u001b[0m         inferred_right \u001b[38;5;129;01min\u001b[39;00m string_types \u001b[38;5;129;01mand\u001b[39;00m inferred_left \u001b[38;5;129;01mnot\u001b[39;00m \u001b[38;5;129;01min\u001b[39;00m string_types\n\u001b[1;32m   1339\u001b[0m     ):\n\u001b[0;32m-> 1340\u001b[0m         \u001b[38;5;28;01mraise\u001b[39;00m \u001b[38;5;167;01mValueError\u001b[39;00m(msg)\n\u001b[1;32m   1342\u001b[0m \u001b[38;5;66;03m# datetimelikes must match exactly\u001b[39;00m\n\u001b[1;32m   1343\u001b[0m \u001b[38;5;28;01melif\u001b[39;00m needs_i8_conversion(lk\u001b[38;5;241m.\u001b[39mdtype) \u001b[38;5;129;01mand\u001b[39;00m \u001b[38;5;129;01mnot\u001b[39;00m needs_i8_conversion(rk\u001b[38;5;241m.\u001b[39mdtype):\n",
      "\u001b[0;31mValueError\u001b[0m: You are trying to merge on object and int64 columns. If you wish to proceed you should use pd.concat"
     ]
    }
   ],
   "source": [
    "tracts2_race2=tracts2.merge(race2,on=\"FIPS\")"
   ]
  },
  {
   "cell_type": "code",
   "execution_count": null,
   "id": "63170ebc-421e-43b6-be97-c0a0b2a5d4b6",
   "metadata": {},
   "outputs": [],
   "source": [
    "tracts2_race2.head()"
   ]
  },
  {
   "cell_type": "markdown",
   "id": "7a8fc641-001e-4557-adff-e800006b346a",
   "metadata": {},
   "source": [
    "Create a merged data set with the Logan Neighborhood subset of data."
   ]
  },
  {
   "cell_type": "code",
   "execution_count": null,
   "id": "1caf08d6-d3e6-45ad-842a-792e5862e0eb",
   "metadata": {},
   "outputs": [],
   "source": [
    "tracts2_subset2=tracts2.merge(subset2,on=\"FIPS\")"
   ]
  },
  {
   "cell_type": "code",
   "execution_count": null,
   "id": "3209b57a-9020-4d60-bb06-32b292a90bb9",
   "metadata": {},
   "outputs": [],
   "source": [
    "subset2.info()"
   ]
  },
  {
   "cell_type": "markdown",
   "id": "76407156-d791-4738-8dc6-7528f102c048",
   "metadata": {},
   "source": [
    "#### Create Choropleth Maps"
   ]
  },
  {
   "cell_type": "markdown",
   "id": "1a651f5f-bd68-4f46-979b-8d5939b44131",
   "metadata": {},
   "source": [
    "Map Philadelphia Non Hispanic Black Alone population"
   ]
  },
  {
   "cell_type": "code",
   "execution_count": null,
   "id": "e764a9b4-c124-4b08-ba94-1c41e027a9f7",
   "metadata": {},
   "outputs": [],
   "source": [
    "tracts2_race2.plot(figsize=(12,10),\n",
    "                 column='Non Hispanic Black Alone',\n",
    "                 legend=True, \n",
    "                 scheme='NaturalBreaks')"
   ]
  },
  {
   "cell_type": "markdown",
   "id": "aaee80e8-d229-4a20-aed5-9edd36192157",
   "metadata": {},
   "source": [
    "Map Logan  Non Hispanic Black Alone population"
   ]
  },
  {
   "cell_type": "code",
   "execution_count": null,
   "id": "aa25f918-c2ce-40ef-8186-bea5b096bb01",
   "metadata": {},
   "outputs": [],
   "source": [
    "tracts2_subset2.plot(figsize=(12,10),\n",
    "                 column='Non Hispanic Black Alone',\n",
    "                 legend=True, \n",
    "                 scheme='NaturalBreaks')"
   ]
  },
  {
   "cell_type": "markdown",
   "id": "6b4cd4ce-1260-4059-b898-482a2fcb9271",
   "metadata": {},
   "source": [
    "The map outputs demonstrate that the Logan Neigbhorhood is located within a part of neighborhood that has a higher Non Hispanic Black Along population than other parts of Philadelphia"
   ]
  },
  {
   "cell_type": "markdown",
   "id": "78022291-5e22-4dd9-9191-8f6b44d9f54a",
   "metadata": {},
   "source": [
    "Try to view same race data through the \" Quantiles\" Scheme"
   ]
  },
  {
   "cell_type": "code",
   "execution_count": null,
   "id": "817483f9-96db-4836-acfe-e2fdbabffffc",
   "metadata": {},
   "outputs": [],
   "source": [
    "tracts2_race2.plot(figsize=(12,10),\n",
    "                 column='Non Hispanic Black Alone',\n",
    "                 legend=True, \n",
    "                 scheme='quantiles')"
   ]
  },
  {
   "cell_type": "code",
   "execution_count": null,
   "id": "0d151fc8-2700-4e49-8fb7-b4a3b12222b8",
   "metadata": {},
   "outputs": [],
   "source": [
    "tracts2_subset2.plot(figsize=(12,10),\n",
    "                 column='Non Hispanic Black Alone',\n",
    "                 legend=True, \n",
    "                 scheme='quantiles')"
   ]
  },
  {
   "cell_type": "code",
   "execution_count": null,
   "id": "17999b9b-5fdc-4c15-a989-d67581e2dc20",
   "metadata": {},
   "outputs": [],
   "source": [
    "# Plot the merged GeoDataFrame\n",
    "fig, ax = plt.subplots(figsize= (10,10))\n",
    "merged.plot(ax=ax, column='count',  cmap='GnBu', scheme='fisher_jenks', legend=True)\n",
    "merged.plot(ax=ax, facecolor='none', edgecolor='white')\n",
    "\n",
    "# Add a title and axis labels\n",
    "ax.set_title(\"Complaints Against Police in Philadelphia since 2016\")\n",
    "ax.set_xlabel(\"Longitude\")\n",
    "ax.set_ylabel(\"Latitude\")\n",
    "\n",
    "#get rid of numbers on bottom of map\n",
    "ax.axis('off')\n",
    "plt.savefig(\"Complaints Against Police in Philadelphia.pdf\", transparent=True)"
   ]
  }
 ],
 "metadata": {
  "kernelspec": {
   "display_name": "Python 3 (ipykernel)",
   "language": "python",
   "name": "python3"
  },
  "language_info": {
   "codemirror_mode": {
    "name": "ipython",
    "version": 3
   },
   "file_extension": ".py",
   "mimetype": "text/x-python",
   "name": "python",
   "nbconvert_exporter": "python",
   "pygments_lexer": "ipython3",
   "version": "3.10.8"
  }
 },
 "nbformat": 4,
 "nbformat_minor": 5
}
