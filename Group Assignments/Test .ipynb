{
 "cells": [
  {
   "cell_type": "markdown",
   "id": "55304903-cddd-472c-9a82-2ebba67cc7c5",
   "metadata": {},
   "source": [
    "#Test "
   ]
  },
  {
   "cell_type": "code",
   "execution_count": 1,
   "id": "62a542cb-f3da-4ffd-8626-2cd4be74262f",
   "metadata": {},
   "outputs": [
    {
     "data": {
      "text/plain": [
       "13"
      ]
     },
     "execution_count": 1,
     "metadata": {},
     "output_type": "execute_result"
    }
   ],
   "source": [
    "6+7"
   ]
  },
  {
   "cell_type": "code",
   "execution_count": null,
   "id": "f83929d4-332f-4966-b399-b38d41ea6e8a",
   "metadata": {},
   "outputs": [],
   "source": []
  }
 ],
 "metadata": {
  "kernelspec": {
   "display_name": "Python 3 (ipykernel)",
   "language": "python",
   "name": "python3"
  },
  "language_info": {
   "codemirror_mode": {
    "name": "ipython",
    "version": 3
   },
   "file_extension": ".py",
   "mimetype": "text/x-python",
   "name": "python",
   "nbconvert_exporter": "python",
   "pygments_lexer": "ipython3",
   "version": "3.10.8"
  }
 },
 "nbformat": 4,
 "nbformat_minor": 5
}
