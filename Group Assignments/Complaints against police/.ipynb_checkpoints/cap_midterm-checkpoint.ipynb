{
 "cells": [
  {
   "cell_type": "markdown",
   "id": "5f30a0e9-4e66-4b95-a0a9-9e838cf40637",
   "metadata": {},
   "source": [
    "# Complaints against Police in Philadelphia"
   ]
  },
  {
   "cell_type": "markdown",
   "id": "b7a09384-43f6-4ff5-8f2b-5938d9091da7",
   "metadata": {},
   "source": [
    "### Author:\n",
    "##### Lindsey Morris\n",
    "\n",
    "### Description:\n",
    "##### As part of the Philadelphia Police Department's (PPD) accountability processes, PPD publishes three datasets: The Complaints Against Police (CAP) dataset documents the civilian complaints alleging police misconduct; the CAP Findings dataset provides demographic details of the police officer involved, the allegations, and the status of the PPD's Internal Affairs Division's investigation of and findings (if available) about the allegation; and the Complainant Demographics dataset shows the race, sex, and age of each person who filed a complaint against a police officer by complaint number. All three datasets are available on Open Data Philly. \n",
    "\n",
    "##### In <a href=\"https://www.phillypowerresearch.org/news/2022/3/23/philadelphia-police-a-history-of-brutality\">Philadelphia Police: A History of Brutality</a>, the authors provide a detailed history of how police forces have consistently abused their power in Philadelphia.The post is part of a series exploring how Philadelphia can invest in communities to improve public safety instead of investing in policing. As an abolitionist, I would like to explore a narrative of the potential for community investment, as well as divestment from police in the Logan Triangle for our proposal to the APA. \n",
    "\n",
    "\n",
    "##### This notebook examines and maps geographic trends of the Complaints Against Police (CAP) dataset across Philadelphia. Then, the 35th police district which encapsulates the majority of Philadelphia's Logan neighborhood is isolated in the dataset to determine how CAP in the 35th district compare to the rest of Philadelphia. It's worth noting that the CAP Dataset only contains complaints from December 2016 through current day."
   ]
  },
  {
   "cell_type": "markdown",
   "id": "91b3d833-5d40-40bf-8cda-4562fa6e69c5",
   "metadata": {},
   "source": [
    "Begin by importing all libraries needed"
   ]
  },
  {
   "cell_type": "code",
   "execution_count": 2,
   "id": "09253556-e340-4fca-8181-701b8a7741a2",
   "metadata": {},
   "outputs": [],
   "source": [
    "import pandas as pd\n",
    "import geopandas as gpd\n",
    "import matplotlib.pyplot as plt\n",
    "import folium\n",
    "import contextily as ctx"
   ]
  },
  {
   "cell_type": "markdown",
   "id": "d8849109-5954-4376-a1d4-ddbea8275153",
   "metadata": {},
   "source": [
    "Then, load a data file from Week 4 of my repo"
   ]
  },
  {
   "cell_type": "code",
   "execution_count": 3,
   "id": "7af93157-944e-49c7-988a-c2004f8d0423",
   "metadata": {},
   "outputs": [],
   "source": [
    "df = pd.read_csv('complaints.csv')"
   ]
  },
  {
   "cell_type": "markdown",
   "id": "2d6743ef-04b6-4475-b1e5-a7eae6427cf3",
   "metadata": {},
   "source": [
    "Add a new column to account for complaint count"
   ]
  },
  {
   "cell_type": "code",
   "execution_count": 4,
   "id": "473ce3ff-24c1-4fcc-8c77-a92e3243fcb6",
   "metadata": {},
   "outputs": [],
   "source": [
    "df['Complaint Count'] = 1"
   ]
  },
  {
   "cell_type": "markdown",
   "id": "84b7f7c9-e3f7-4e2a-acac-69d2ad5c2349",
   "metadata": {},
   "source": [
    "create new column where df['District'] is transformed into .astype(str)\n",
    "plot histogram using value_counts per new district column"
   ]
  },
  {
   "cell_type": "code",
   "execution_count": 5,
   "id": "79488385-9802-4d9c-b961-b5bd5260b8d7",
   "metadata": {},
   "outputs": [],
   "source": [
    "# create a new column with the district information cast as string\n",
    "df[\"District_str\"] = df[\"District\"].astype(str)"
   ]
  },
  {
   "cell_type": "markdown",
   "id": "794500c2-5d04-471b-8e91-f1ae77cff9e9",
   "metadata": {},
   "source": [
    "Inspect size of the data"
   ]
  },
  {
   "cell_type": "code",
   "execution_count": 6,
   "id": "5a1244c4-8ad8-44f6-bece-77c1873758ed",
   "metadata": {},
   "outputs": [
    {
     "data": {
      "text/plain": [
       "(3621, 8)"
      ]
     },
     "execution_count": 6,
     "metadata": {},
     "output_type": "execute_result"
    }
   ],
   "source": [
    "df.shape"
   ]
  },
  {
   "cell_type": "markdown",
   "id": "a1fdecb6-0929-44aa-a3bb-db7494a51957",
   "metadata": {},
   "source": [
    "The output above shows that there are 3621 rows and 7 columns in the dataset."
   ]
  },
  {
   "cell_type": "markdown",
   "id": "a5d6fa4e-0e51-4c80-92d2-4e26dcf80c4c",
   "metadata": {},
   "source": [
    "View the first five rows of data below."
   ]
  },
  {
   "cell_type": "code",
   "execution_count": 7,
   "id": "91c521db-51a7-4214-94b5-51d88c7edc3e",
   "metadata": {},
   "outputs": [
    {
     "data": {
      "text/html": [
       "<div>\n",
       "<style scoped>\n",
       "    .dataframe tbody tr th:only-of-type {\n",
       "        vertical-align: middle;\n",
       "    }\n",
       "\n",
       "    .dataframe tbody tr th {\n",
       "        vertical-align: top;\n",
       "    }\n",
       "\n",
       "    .dataframe thead th {\n",
       "        text-align: right;\n",
       "    }\n",
       "</style>\n",
       "<table border=\"1\" class=\"dataframe\">\n",
       "  <thead>\n",
       "    <tr style=\"text-align: right;\">\n",
       "      <th></th>\n",
       "      <th>Incident Date</th>\n",
       "      <th>Complaint ID</th>\n",
       "      <th>Date Received</th>\n",
       "      <th>District</th>\n",
       "      <th>Classification</th>\n",
       "      <th>Summary</th>\n",
       "      <th>Complaint Count</th>\n",
       "      <th>District_str</th>\n",
       "    </tr>\n",
       "  </thead>\n",
       "  <tbody>\n",
       "    <tr>\n",
       "      <th>0</th>\n",
       "      <td>NaN</td>\n",
       "      <td>17-0127</td>\n",
       "      <td>2017-03-22 04:00:00+00</td>\n",
       "      <td>1</td>\n",
       "      <td>LACK OF SERVICE</td>\n",
       "      <td>According to the complainant, in February 2016...</td>\n",
       "      <td>1</td>\n",
       "      <td>1</td>\n",
       "    </tr>\n",
       "    <tr>\n",
       "      <th>1</th>\n",
       "      <td>3/19/17</td>\n",
       "      <td>17-0131</td>\n",
       "      <td>2017-03-28 04:00:00+00</td>\n",
       "      <td>1</td>\n",
       "      <td>DEPARTMENTAL VIOLATIONS</td>\n",
       "      <td>According to the complainant, on 3-19-17 at 2:...</td>\n",
       "      <td>1</td>\n",
       "      <td>1</td>\n",
       "    </tr>\n",
       "    <tr>\n",
       "      <th>2</th>\n",
       "      <td>3/22/17</td>\n",
       "      <td>17-0142</td>\n",
       "      <td>2017-04-03 04:00:00+00</td>\n",
       "      <td>1</td>\n",
       "      <td>DEPARTMENTAL VIOLATIONS</td>\n",
       "      <td>According to the complaint, on 3-22-17 at 5:00...</td>\n",
       "      <td>1</td>\n",
       "      <td>1</td>\n",
       "    </tr>\n",
       "    <tr>\n",
       "      <th>3</th>\n",
       "      <td>4/23/17</td>\n",
       "      <td>17-0204</td>\n",
       "      <td>2017-05-01 04:00:00+00</td>\n",
       "      <td>1</td>\n",
       "      <td>PHYSICAL ABUSE</td>\n",
       "      <td>According to the complainant, on 4-23-17 at 7:...</td>\n",
       "      <td>1</td>\n",
       "      <td>1</td>\n",
       "    </tr>\n",
       "    <tr>\n",
       "      <th>4</th>\n",
       "      <td>4/17/17</td>\n",
       "      <td>17-0214</td>\n",
       "      <td>2017-05-04 04:00:00+00</td>\n",
       "      <td>1</td>\n",
       "      <td>DEPARTMENTAL VIOLATIONS</td>\n",
       "      <td>According to the complaint, on 4-17-17 at 11:3...</td>\n",
       "      <td>1</td>\n",
       "      <td>1</td>\n",
       "    </tr>\n",
       "  </tbody>\n",
       "</table>\n",
       "</div>"
      ],
      "text/plain": [
       "  Incident Date Complaint ID           Date Received  District  \\\n",
       "0           NaN      17-0127  2017-03-22 04:00:00+00         1   \n",
       "1       3/19/17      17-0131  2017-03-28 04:00:00+00         1   \n",
       "2       3/22/17      17-0142  2017-04-03 04:00:00+00         1   \n",
       "3       4/23/17      17-0204  2017-05-01 04:00:00+00         1   \n",
       "4       4/17/17      17-0214  2017-05-04 04:00:00+00         1   \n",
       "\n",
       "            Classification                                            Summary  \\\n",
       "0          LACK OF SERVICE  According to the complainant, in February 2016...   \n",
       "1  DEPARTMENTAL VIOLATIONS  According to the complainant, on 3-19-17 at 2:...   \n",
       "2  DEPARTMENTAL VIOLATIONS  According to the complaint, on 3-22-17 at 5:00...   \n",
       "3           PHYSICAL ABUSE  According to the complainant, on 4-23-17 at 7:...   \n",
       "4  DEPARTMENTAL VIOLATIONS  According to the complaint, on 4-17-17 at 11:3...   \n",
       "\n",
       "   Complaint Count District_str  \n",
       "0                1            1  \n",
       "1                1            1  \n",
       "2                1            1  \n",
       "3                1            1  \n",
       "4                1            1  "
      ]
     },
     "execution_count": 7,
     "metadata": {},
     "output_type": "execute_result"
    }
   ],
   "source": [
    "df.head()"
   ]
  },
  {
   "cell_type": "markdown",
   "id": "9d4b0ad4-9cc1-4105-80f1-497a7ecb337e",
   "metadata": {},
   "source": [
    "Confirm the complaints dataset has the correct data types below."
   ]
  },
  {
   "cell_type": "code",
   "execution_count": 8,
   "id": "8467c233-8caf-4c70-8401-c79cf6d6c9f6",
   "metadata": {},
   "outputs": [
    {
     "name": "stdout",
     "output_type": "stream",
     "text": [
      "<class 'pandas.core.frame.DataFrame'>\n",
      "RangeIndex: 3621 entries, 0 to 3620\n",
      "Data columns (total 8 columns):\n",
      " #   Column           Non-Null Count  Dtype \n",
      "---  ------           --------------  ----- \n",
      " 0   Incident Date    3377 non-null   object\n",
      " 1   Complaint ID     3621 non-null   object\n",
      " 2   Date Received    3621 non-null   object\n",
      " 3   District         3621 non-null   int64 \n",
      " 4   Classification   3621 non-null   object\n",
      " 5   Summary          3621 non-null   object\n",
      " 6   Complaint Count  3621 non-null   int64 \n",
      " 7   District_str     3621 non-null   object\n",
      "dtypes: int64(2), object(6)\n",
      "memory usage: 226.4+ KB\n"
     ]
    }
   ],
   "source": [
    "df.info(verbose=True, show_counts=True)"
   ]
  },
  {
   "cell_type": "markdown",
   "id": "a9df9874-d2ae-4e3b-ab02-15eeebfc5162",
   "metadata": {},
   "source": [
    "All looks correct! According to this information, there have been 3622 complaints against police since 2016. "
   ]
  },
  {
   "cell_type": "markdown",
   "id": "b1afe0f7-0025-45b4-86bd-bf3ce0b17ba3",
   "metadata": {},
   "source": [
    "Check for any null columns"
   ]
  },
  {
   "cell_type": "code",
   "execution_count": 9,
   "id": "0612d631-7de8-48f5-875d-3ba2a10f33bc",
   "metadata": {},
   "outputs": [
    {
     "data": {
      "text/plain": [
       "[]"
      ]
     },
     "execution_count": 9,
     "metadata": {},
     "output_type": "execute_result"
    }
   ],
   "source": [
    "df.columns[df.isna().all()].tolist()"
   ]
  },
  {
   "cell_type": "markdown",
   "id": "6db62301-b6cc-450a-9cdf-8da3242d76de",
   "metadata": {},
   "source": [
    "all clear!"
   ]
  },
  {
   "cell_type": "markdown",
   "id": "27fa001e-eb0c-41d9-8a8e-5859f816ae16",
   "metadata": {},
   "source": [
    "Philadelphia has 21 districts that are labeled in a confusing manner. Despite their only being 21 police districts, numbers are skipped along the way. For example, the district count jumps from 19th to 22nd district, and 35th to 39th district. Furthermore, the Philadelphia Airport is given it's own 77th district, which ultimately makes up the 22nd district. "
   ]
  },
  {
   "cell_type": "markdown",
   "id": "b65f1503-4eef-420d-a828-0ee356f64e10",
   "metadata": {},
   "source": [
    "Collapse the District column to get a summary of the rows"
   ]
  },
  {
   "cell_type": "markdown",
   "id": "a333b8b8-33b5-4c08-b8f0-54d557649202",
   "metadata": {},
   "source": [
    "Plot the complaint count for each police district as a histogram"
   ]
  },
  {
   "cell_type": "markdown",
   "id": "279536c4-6621-4f69-8b8a-0d390e42b1b1",
   "metadata": {},
   "source": [
    "First, I'll make our plain (ugly) chart"
   ]
  },
  {
   "cell_type": "code",
   "execution_count": 27,
   "id": "5ebe0f84-4bfc-47c1-aa3b-eb196c82f714",
   "metadata": {},
   "outputs": [
    {
     "data": {
      "image/png": "[encoded data removed]",
      "text/plain": [
       "<Figure size 640x480 with 1 Axes>"
      ]
     },
     "metadata": {},
     "output_type": "display_data"
    }
   ],
   "source": [
    "# plot histogram of value counts of the new column\n",
    "df[\"District_str\"].value_counts().plot(kind=\"bar\", color=\"red\")\n",
    "\n",
    "#set x & y labels and title\n",
    "plt.xlabel(\"Police District\")\n",
    "plt.ylabel(\"Complaint Count\")\n",
    "\n",
    "plt.savefig(\"Complaints against Police histogram.pdf\", transparent=True)\n",
    "\n",
    "plt.show()"
   ]
  },
  {
   "cell_type": "code",
   "execution_count": 39,
   "id": "7eb9ed82-2069-4fa1-97df-f835c4b8aa47",
   "metadata": {},
   "outputs": [
    {
     "data": {
      "image/png": "[encoded data removed]",
      "text/plain": [
       "<Figure size 640x480 with 1 Axes>"
      ]
     },
     "metadata": {},
     "output_type": "display_data"
    }
   ],
   "source": [
    "# Get the color you want to use from the colormap \n",
    "c = plt.get_cmap('GnBu')(0.7)\n",
    "\n",
    "# plot histogram of value counts of the new column\n",
    "df[\"District_str\"].value_counts().plot(kind=\"bar\", color=c, edgecolor=None)\n",
    "\n",
    "# Remove the box around the plot\n",
    "for spine in plt.gca().spines.values():\n",
    "    spine.set_visible(False)\n",
    "\n",
    "#set x & y labels and title\n",
    "plt.xlabel(\"Police District\")\n",
    "plt.ylabel(\"Complaint Count\")\n",
    "plt.title(\"Complaints against Police in Philadelphia since 2016\")\n",
    "\n",
    "plt.savefig(\"Complaints against Police histogram.pdf\", transparent=True)\n",
    "\n",
    "plt.show()"
   ]
  },
  {
   "cell_type": "markdown",
   "id": "a591b7d8-d8b8-42a9-97cb-15a93b8a93fd",
   "metadata": {},
   "source": [
    "The histogram above shows that several districts have significanty more police complaints than others. As previously mentioned the 77th district on the far right represents the airport. As pirctured, the Logan Neighborhood, located in the 35th district has the 2nd highest CAP count since 2016."
   ]
  },
  {
   "cell_type": "markdown",
   "id": "2d30237c-92d5-4961-a5d0-c4eec4760cbb",
   "metadata": {},
   "source": [
    "Now, let's view the numerical data on how many complaints each district has. "
   ]
  },
  {
   "cell_type": "code",
   "execution_count": 12,
   "id": "832b5d6b-0203-4c60-a45a-2c6d695310b2",
   "metadata": {},
   "outputs": [
    {
     "data": {
      "text/html": [
       "<div>\n",
       "<style scoped>\n",
       "    .dataframe tbody tr th:only-of-type {\n",
       "        vertical-align: middle;\n",
       "    }\n",
       "\n",
       "    .dataframe tbody tr th {\n",
       "        vertical-align: top;\n",
       "    }\n",
       "\n",
       "    .dataframe thead th {\n",
       "        text-align: right;\n",
       "    }\n",
       "</style>\n",
       "<table border=\"1\" class=\"dataframe\">\n",
       "  <thead>\n",
       "    <tr style=\"text-align: right;\">\n",
       "      <th></th>\n",
       "      <th>District</th>\n",
       "      <th>count</th>\n",
       "    </tr>\n",
       "  </thead>\n",
       "  <tbody>\n",
       "    <tr>\n",
       "      <th>0</th>\n",
       "      <td>15</td>\n",
       "      <td>274</td>\n",
       "    </tr>\n",
       "    <tr>\n",
       "      <th>1</th>\n",
       "      <td>35</td>\n",
       "      <td>261</td>\n",
       "    </tr>\n",
       "    <tr>\n",
       "      <th>2</th>\n",
       "      <td>25</td>\n",
       "      <td>252</td>\n",
       "    </tr>\n",
       "    <tr>\n",
       "      <th>3</th>\n",
       "      <td>18</td>\n",
       "      <td>244</td>\n",
       "    </tr>\n",
       "    <tr>\n",
       "      <th>4</th>\n",
       "      <td>19</td>\n",
       "      <td>235</td>\n",
       "    </tr>\n",
       "    <tr>\n",
       "      <th>5</th>\n",
       "      <td>14</td>\n",
       "      <td>228</td>\n",
       "    </tr>\n",
       "    <tr>\n",
       "      <th>6</th>\n",
       "      <td>6</td>\n",
       "      <td>212</td>\n",
       "    </tr>\n",
       "    <tr>\n",
       "      <th>7</th>\n",
       "      <td>24</td>\n",
       "      <td>203</td>\n",
       "    </tr>\n",
       "    <tr>\n",
       "      <th>8</th>\n",
       "      <td>22</td>\n",
       "      <td>198</td>\n",
       "    </tr>\n",
       "    <tr>\n",
       "      <th>9</th>\n",
       "      <td>9</td>\n",
       "      <td>185</td>\n",
       "    </tr>\n",
       "    <tr>\n",
       "      <th>10</th>\n",
       "      <td>12</td>\n",
       "      <td>184</td>\n",
       "    </tr>\n",
       "    <tr>\n",
       "      <th>11</th>\n",
       "      <td>39</td>\n",
       "      <td>177</td>\n",
       "    </tr>\n",
       "    <tr>\n",
       "      <th>12</th>\n",
       "      <td>2</td>\n",
       "      <td>162</td>\n",
       "    </tr>\n",
       "    <tr>\n",
       "      <th>13</th>\n",
       "      <td>8</td>\n",
       "      <td>150</td>\n",
       "    </tr>\n",
       "    <tr>\n",
       "      <th>14</th>\n",
       "      <td>16</td>\n",
       "      <td>134</td>\n",
       "    </tr>\n",
       "    <tr>\n",
       "      <th>15</th>\n",
       "      <td>3</td>\n",
       "      <td>128</td>\n",
       "    </tr>\n",
       "    <tr>\n",
       "      <th>16</th>\n",
       "      <td>1</td>\n",
       "      <td>83</td>\n",
       "    </tr>\n",
       "    <tr>\n",
       "      <th>17</th>\n",
       "      <td>26</td>\n",
       "      <td>81</td>\n",
       "    </tr>\n",
       "    <tr>\n",
       "      <th>18</th>\n",
       "      <td>17</td>\n",
       "      <td>72</td>\n",
       "    </tr>\n",
       "    <tr>\n",
       "      <th>19</th>\n",
       "      <td>7</td>\n",
       "      <td>68</td>\n",
       "    </tr>\n",
       "    <tr>\n",
       "      <th>20</th>\n",
       "      <td>5</td>\n",
       "      <td>56</td>\n",
       "    </tr>\n",
       "    <tr>\n",
       "      <th>21</th>\n",
       "      <td>77</td>\n",
       "      <td>27</td>\n",
       "    </tr>\n",
       "    <tr>\n",
       "      <th>22</th>\n",
       "      <td>4</td>\n",
       "      <td>6</td>\n",
       "    </tr>\n",
       "    <tr>\n",
       "      <th>23</th>\n",
       "      <td>23</td>\n",
       "      <td>1</td>\n",
       "    </tr>\n",
       "  </tbody>\n",
       "</table>\n",
       "</div>"
      ],
      "text/plain": [
       "    District  count\n",
       "0         15    274\n",
       "1         35    261\n",
       "2         25    252\n",
       "3         18    244\n",
       "4         19    235\n",
       "5         14    228\n",
       "6          6    212\n",
       "7         24    203\n",
       "8         22    198\n",
       "9          9    185\n",
       "10        12    184\n",
       "11        39    177\n",
       "12         2    162\n",
       "13         8    150\n",
       "14        16    134\n",
       "15         3    128\n",
       "16         1     83\n",
       "17        26     81\n",
       "18        17     72\n",
       "19         7     68\n",
       "20         5     56\n",
       "21        77     27\n",
       "22         4      6\n",
       "23        23      1"
      ]
     },
     "execution_count": 12,
     "metadata": {},
     "output_type": "execute_result"
    }
   ],
   "source": [
    "#count complaint values by district and save as df\n",
    "counts = df.value_counts([\"District\"]).reset_index(name= 'count')\n",
    "(counts)"
   ]
  },
  {
   "cell_type": "markdown",
   "id": "5a51bc94-0c61-48d5-9d41-33ee9684dce8",
   "metadata": {},
   "source": [
    "Now, let's visualize this data on a map. First, the police district boundaries shapefile needs to be read."
   ]
  },
  {
   "cell_type": "code",
   "execution_count": 13,
   "id": "be864c8d-07ce-48ae-94cf-1e3923e3b35b",
   "metadata": {},
   "outputs": [],
   "source": [
    "# read district geojson file\n",
    "gdf = gpd.read_file(\"districts.geojson\")"
   ]
  },
  {
   "cell_type": "markdown",
   "id": "0b9154b6-66d3-44f0-8183-278baabe0644",
   "metadata": {},
   "source": [
    "Let's see what the geojson contains."
   ]
  },
  {
   "cell_type": "code",
   "execution_count": 14,
   "id": "3d8ae4c0-5c9b-4ec6-b1d1-1b8811639fd0",
   "metadata": {},
   "outputs": [
    {
     "data": {
      "text/html": [
       "<div>\n",
       "<style scoped>\n",
       "    .dataframe tbody tr th:only-of-type {\n",
       "        vertical-align: middle;\n",
       "    }\n",
       "\n",
       "    .dataframe tbody tr th {\n",
       "        vertical-align: top;\n",
       "    }\n",
       "\n",
       "    .dataframe thead th {\n",
       "        text-align: right;\n",
       "    }\n",
       "</style>\n",
       "<table border=\"1\" class=\"dataframe\">\n",
       "  <thead>\n",
       "    <tr style=\"text-align: right;\">\n",
       "      <th></th>\n",
       "      <th>OBJECTID</th>\n",
       "      <th>AREA</th>\n",
       "      <th>PERIMETER</th>\n",
       "      <th>DISTRICT_</th>\n",
       "      <th>DISTRICT_ID</th>\n",
       "      <th>DIST_NUM</th>\n",
       "      <th>SUM_AREA</th>\n",
       "      <th>DIST_NUMC</th>\n",
       "      <th>LOCATION</th>\n",
       "      <th>PHONE</th>\n",
       "      <th>DIV_CODE</th>\n",
       "      <th>AREA_SQMI</th>\n",
       "      <th>Shape__Area</th>\n",
       "      <th>Shape__Length</th>\n",
       "      <th>geometry</th>\n",
       "    </tr>\n",
       "  </thead>\n",
       "  <tbody>\n",
       "    <tr>\n",
       "      <th>0</th>\n",
       "      <td>343</td>\n",
       "      <td>None</td>\n",
       "      <td>69282.588463</td>\n",
       "      <td>16</td>\n",
       "      <td>None</td>\n",
       "      <td>16</td>\n",
       "      <td>None</td>\n",
       "      <td>16</td>\n",
       "      <td>39th St. &amp; Lancaster Ave.</td>\n",
       "      <td>686-3160</td>\n",
       "      <td>SWPD</td>\n",
       "      <td>1.216700e+08</td>\n",
       "      <td>1.927226e+07</td>\n",
       "      <td>27575.079183</td>\n",
       "      <td>POLYGON ((-75.19957 40.00912, -75.19799 40.008...</td>\n",
       "    </tr>\n",
       "    <tr>\n",
       "      <th>1</th>\n",
       "      <td>344</td>\n",
       "      <td>None</td>\n",
       "      <td>33150.154961</td>\n",
       "      <td>17</td>\n",
       "      <td>None</td>\n",
       "      <td>17</td>\n",
       "      <td>None</td>\n",
       "      <td>17</td>\n",
       "      <td>20th St. &amp; Federal St.</td>\n",
       "      <td>686-3170</td>\n",
       "      <td>SPD</td>\n",
       "      <td>5.786368e+07</td>\n",
       "      <td>9.154950e+06</td>\n",
       "      <td>13179.953350</td>\n",
       "      <td>POLYGON ((-75.16599 39.94184, -75.16621 39.940...</td>\n",
       "    </tr>\n",
       "    <tr>\n",
       "      <th>2</th>\n",
       "      <td>345</td>\n",
       "      <td>None</td>\n",
       "      <td>54403.930038</td>\n",
       "      <td>18</td>\n",
       "      <td>None</td>\n",
       "      <td>18</td>\n",
       "      <td>None</td>\n",
       "      <td>18</td>\n",
       "      <td>55th St. &amp; Pine St.</td>\n",
       "      <td>686-3180</td>\n",
       "      <td>SWPD</td>\n",
       "      <td>9.881929e+07</td>\n",
       "      <td>1.564117e+07</td>\n",
       "      <td>21629.610687</td>\n",
       "      <td>POLYGON ((-75.18466 39.94851, -75.18633 39.947...</td>\n",
       "    </tr>\n",
       "    <tr>\n",
       "      <th>3</th>\n",
       "      <td>346</td>\n",
       "      <td>None</td>\n",
       "      <td>51597.051603</td>\n",
       "      <td>35</td>\n",
       "      <td>None</td>\n",
       "      <td>35</td>\n",
       "      <td>None</td>\n",
       "      <td>35</td>\n",
       "      <td>N. Broad St. &amp; Champlost St.</td>\n",
       "      <td>686-3350</td>\n",
       "      <td>NWPD</td>\n",
       "      <td>1.544309e+08</td>\n",
       "      <td>2.450685e+07</td>\n",
       "      <td>20554.869138</td>\n",
       "      <td>POLYGON ((-75.13011 40.05789, -75.12898 40.057...</td>\n",
       "    </tr>\n",
       "    <tr>\n",
       "      <th>4</th>\n",
       "      <td>347</td>\n",
       "      <td>None</td>\n",
       "      <td>58075.014444</td>\n",
       "      <td>39</td>\n",
       "      <td>None</td>\n",
       "      <td>39</td>\n",
       "      <td>None</td>\n",
       "      <td>39</td>\n",
       "      <td>22nd St. &amp; Hunting Park Ave.</td>\n",
       "      <td>686-3390</td>\n",
       "      <td>NWPD</td>\n",
       "      <td>1.578976e+08</td>\n",
       "      <td>2.503787e+07</td>\n",
       "      <td>23123.580262</td>\n",
       "      <td>POLYGON ((-75.17892 40.03175, -75.17782 40.031...</td>\n",
       "    </tr>\n",
       "  </tbody>\n",
       "</table>\n",
       "</div>"
      ],
      "text/plain": [
       "   OBJECTID  AREA     PERIMETER  DISTRICT_ DISTRICT_ID  DIST_NUM SUM_AREA  \\\n",
       "0       343  None  69282.588463         16        None        16     None   \n",
       "1       344  None  33150.154961         17        None        17     None   \n",
       "2       345  None  54403.930038         18        None        18     None   \n",
       "3       346  None  51597.051603         35        None        35     None   \n",
       "4       347  None  58075.014444         39        None        39     None   \n",
       "\n",
       "  DIST_NUMC                      LOCATION     PHONE DIV_CODE     AREA_SQMI  \\\n",
       "0        16     39th St. & Lancaster Ave.  686-3160     SWPD  1.216700e+08   \n",
       "1        17        20th St. & Federal St.  686-3170      SPD  5.786368e+07   \n",
       "2        18           55th St. & Pine St.  686-3180     SWPD  9.881929e+07   \n",
       "3        35  N. Broad St. & Champlost St.  686-3350     NWPD  1.544309e+08   \n",
       "4        39  22nd St. & Hunting Park Ave.  686-3390     NWPD  1.578976e+08   \n",
       "\n",
       "    Shape__Area  Shape__Length  \\\n",
       "0  1.927226e+07   27575.079183   \n",
       "1  9.154950e+06   13179.953350   \n",
       "2  1.564117e+07   21629.610687   \n",
       "3  2.450685e+07   20554.869138   \n",
       "4  2.503787e+07   23123.580262   \n",
       "\n",
       "                                            geometry  \n",
       "0  POLYGON ((-75.19957 40.00912, -75.19799 40.008...  \n",
       "1  POLYGON ((-75.16599 39.94184, -75.16621 39.940...  \n",
       "2  POLYGON ((-75.18466 39.94851, -75.18633 39.947...  \n",
       "3  POLYGON ((-75.13011 40.05789, -75.12898 40.057...  \n",
       "4  POLYGON ((-75.17892 40.03175, -75.17782 40.031...  "
      ]
     },
     "execution_count": 14,
     "metadata": {},
     "output_type": "execute_result"
    }
   ],
   "source": [
    "gdf.head()"
   ]
  },
  {
   "cell_type": "markdown",
   "id": "ee020079-8e63-4826-9041-db25e1b41fde",
   "metadata": {},
   "source": [
    "The output above provides a variety of information about each police district, including a phone number, a physical adress, and the geometry of each district."
   ]
  },
  {
   "cell_type": "markdown",
   "id": "3e7b98b7-1aa6-4386-9e96-e117f61afa82",
   "metadata": {},
   "source": [
    "Now, let's plot the police district geojson file."
   ]
  },
  {
   "cell_type": "code",
   "execution_count": 15,
   "id": "73abdc6b-3537-4f70-baf5-9297d5896647",
   "metadata": {},
   "outputs": [
    {
     "data": {
      "text/plain": [
       "<AxesSubplot: >"
      ]
     },
     "execution_count": 15,
     "metadata": {},
     "output_type": "execute_result"
    },
    {
     "data": {
      "image/png": "[encoded data removed]",
      "text/plain": [
       "<Figure size 1200x1000 with 1 Axes>"
      ]
     },
     "metadata": {},
     "output_type": "display_data"
    }
   ],
   "source": [
    "gdf.plot(figsize=(12,10))"
   ]
  },
  {
   "cell_type": "code",
   "execution_count": 16,
   "id": "6706809f-ab72-4a2a-a716-abe320ee46b8",
   "metadata": {},
   "outputs": [
    {
     "name": "stdout",
     "output_type": "stream",
     "text": [
      "<class 'geopandas.geodataframe.GeoDataFrame'>\n",
      "RangeIndex: 22 entries, 0 to 21\n",
      "Data columns (total 15 columns):\n",
      " #   Column         Non-Null Count  Dtype   \n",
      "---  ------         --------------  -----   \n",
      " 0   OBJECTID       22 non-null     int64   \n",
      " 1   AREA           0 non-null      object  \n",
      " 2   PERIMETER      22 non-null     float64 \n",
      " 3   DISTRICT_      22 non-null     int64   \n",
      " 4   DISTRICT_ID    0 non-null      object  \n",
      " 5   DIST_NUM       22 non-null     int64   \n",
      " 6   SUM_AREA       0 non-null      object  \n",
      " 7   DIST_NUMC      22 non-null     object  \n",
      " 8   LOCATION       22 non-null     object  \n",
      " 9   PHONE          22 non-null     object  \n",
      " 10  DIV_CODE       22 non-null     object  \n",
      " 11  AREA_SQMI      22 non-null     float64 \n",
      " 12  Shape__Area    22 non-null     float64 \n",
      " 13  Shape__Length  22 non-null     float64 \n",
      " 14  geometry       22 non-null     geometry\n",
      "dtypes: float64(4), geometry(1), int64(3), object(7)\n",
      "memory usage: 2.7+ KB\n"
     ]
    }
   ],
   "source": [
    "gdf.info(verbose=True, show_counts=True)"
   ]
  },
  {
   "cell_type": "markdown",
   "id": "60928b40-2976-4900-be2b-4905977dfc75",
   "metadata": {},
   "source": [
    "Only district and geometry are needed, so let's subset the data"
   ]
  },
  {
   "cell_type": "code",
   "execution_count": 17,
   "id": "b9800b36-c810-40e9-a0e1-fcdb2eab551f",
   "metadata": {},
   "outputs": [
    {
     "data": {
      "text/html": [
       "<div>\n",
       "<style scoped>\n",
       "    .dataframe tbody tr th:only-of-type {\n",
       "        vertical-align: middle;\n",
       "    }\n",
       "\n",
       "    .dataframe tbody tr th {\n",
       "        vertical-align: top;\n",
       "    }\n",
       "\n",
       "    .dataframe thead th {\n",
       "        text-align: right;\n",
       "    }\n",
       "</style>\n",
       "<table border=\"1\" class=\"dataframe\">\n",
       "  <thead>\n",
       "    <tr style=\"text-align: right;\">\n",
       "      <th></th>\n",
       "      <th>DIST_NUM</th>\n",
       "      <th>geometry</th>\n",
       "    </tr>\n",
       "  </thead>\n",
       "  <tbody>\n",
       "    <tr>\n",
       "      <th>0</th>\n",
       "      <td>16</td>\n",
       "      <td>POLYGON ((-75.19957 40.00912, -75.19799 40.008...</td>\n",
       "    </tr>\n",
       "    <tr>\n",
       "      <th>1</th>\n",
       "      <td>17</td>\n",
       "      <td>POLYGON ((-75.16599 39.94184, -75.16621 39.940...</td>\n",
       "    </tr>\n",
       "    <tr>\n",
       "      <th>2</th>\n",
       "      <td>18</td>\n",
       "      <td>POLYGON ((-75.18466 39.94851, -75.18633 39.947...</td>\n",
       "    </tr>\n",
       "    <tr>\n",
       "      <th>3</th>\n",
       "      <td>35</td>\n",
       "      <td>POLYGON ((-75.13011 40.05789, -75.12898 40.057...</td>\n",
       "    </tr>\n",
       "    <tr>\n",
       "      <th>4</th>\n",
       "      <td>39</td>\n",
       "      <td>POLYGON ((-75.17892 40.03175, -75.17782 40.031...</td>\n",
       "    </tr>\n",
       "  </tbody>\n",
       "</table>\n",
       "</div>"
      ],
      "text/plain": [
       "   DIST_NUM                                           geometry\n",
       "0        16  POLYGON ((-75.19957 40.00912, -75.19799 40.008...\n",
       "1        17  POLYGON ((-75.16599 39.94184, -75.16621 39.940...\n",
       "2        18  POLYGON ((-75.18466 39.94851, -75.18633 39.947...\n",
       "3        35  POLYGON ((-75.13011 40.05789, -75.12898 40.057...\n",
       "4        39  POLYGON ((-75.17892 40.03175, -75.17782 40.031..."
      ]
     },
     "execution_count": 17,
     "metadata": {},
     "output_type": "execute_result"
    }
   ],
   "source": [
    "#subset data\n",
    "gdf2 = gdf[['DIST_NUM','geometry']]\n",
    "\n",
    "#confirm data subset is correct\n",
    "gdf2.head()"
   ]
  },
  {
   "cell_type": "markdown",
   "id": "0e071531-5cd6-454f-8757-dd16c1dd4d8a",
   "metadata": {},
   "source": [
    "Looks good!"
   ]
  },
  {
   "cell_type": "markdown",
   "id": "5dab4ca3-3dfc-47cb-aad6-3f9e607dc6df",
   "metadata": {},
   "source": [
    "In order to merge the complaints dataset with the district boundary geojson file, the columns we are merging from the files should have the same name. So, let's rename \"DIST_NUM\"."
   ]
  },
  {
   "cell_type": "code",
   "execution_count": 18,
   "id": "2e4e341d-5897-49e6-b238-48a8fd288374",
   "metadata": {},
   "outputs": [
    {
     "data": {
      "text/plain": [
       "['DIST_NUM', 'geometry']"
      ]
     },
     "execution_count": 18,
     "metadata": {},
     "output_type": "execute_result"
    }
   ],
   "source": [
    "columns = list(gdf2)\n",
    "columns"
   ]
  },
  {
   "cell_type": "code",
   "execution_count": 19,
   "id": "a54a7f2f-9f4c-4bc0-a1a1-41d6abf443ca",
   "metadata": {},
   "outputs": [],
   "source": [
    "# Rename the column\n",
    "gdf2.columns = ['District', 'geometry']\n",
    "\n",
    "# Save the modified geojson\n",
    "gdf.to_file(\"districts.geojson\")"
   ]
  },
  {
   "cell_type": "code",
   "execution_count": 20,
   "id": "5ee32bcc-fa65-4607-b63a-3526d40a5ff6",
   "metadata": {},
   "outputs": [
    {
     "data": {
      "text/html": [
       "<div>\n",
       "<style scoped>\n",
       "    .dataframe tbody tr th:only-of-type {\n",
       "        vertical-align: middle;\n",
       "    }\n",
       "\n",
       "    .dataframe tbody tr th {\n",
       "        vertical-align: top;\n",
       "    }\n",
       "\n",
       "    .dataframe thead th {\n",
       "        text-align: right;\n",
       "    }\n",
       "</style>\n",
       "<table border=\"1\" class=\"dataframe\">\n",
       "  <thead>\n",
       "    <tr style=\"text-align: right;\">\n",
       "      <th></th>\n",
       "      <th>District</th>\n",
       "      <th>geometry</th>\n",
       "    </tr>\n",
       "  </thead>\n",
       "  <tbody>\n",
       "    <tr>\n",
       "      <th>0</th>\n",
       "      <td>16</td>\n",
       "      <td>POLYGON ((-75.19957 40.00912, -75.19799 40.008...</td>\n",
       "    </tr>\n",
       "    <tr>\n",
       "      <th>1</th>\n",
       "      <td>17</td>\n",
       "      <td>POLYGON ((-75.16599 39.94184, -75.16621 39.940...</td>\n",
       "    </tr>\n",
       "    <tr>\n",
       "      <th>2</th>\n",
       "      <td>18</td>\n",
       "      <td>POLYGON ((-75.18466 39.94851, -75.18633 39.947...</td>\n",
       "    </tr>\n",
       "    <tr>\n",
       "      <th>3</th>\n",
       "      <td>35</td>\n",
       "      <td>POLYGON ((-75.13011 40.05789, -75.12898 40.057...</td>\n",
       "    </tr>\n",
       "    <tr>\n",
       "      <th>4</th>\n",
       "      <td>39</td>\n",
       "      <td>POLYGON ((-75.17892 40.03175, -75.17782 40.031...</td>\n",
       "    </tr>\n",
       "  </tbody>\n",
       "</table>\n",
       "</div>"
      ],
      "text/plain": [
       "   District                                           geometry\n",
       "0        16  POLYGON ((-75.19957 40.00912, -75.19799 40.008...\n",
       "1        17  POLYGON ((-75.16599 39.94184, -75.16621 39.940...\n",
       "2        18  POLYGON ((-75.18466 39.94851, -75.18633 39.947...\n",
       "3        35  POLYGON ((-75.13011 40.05789, -75.12898 40.057...\n",
       "4        39  POLYGON ((-75.17892 40.03175, -75.17782 40.031..."
      ]
     },
     "execution_count": 20,
     "metadata": {},
     "output_type": "execute_result"
    }
   ],
   "source": [
    "#confirm data subset is correct\n",
    "gdf2.head()"
   ]
  },
  {
   "cell_type": "markdown",
   "id": "da9db1d6-a6a4-44e8-b2e0-6bdf3fd4dfb4",
   "metadata": {},
   "source": [
    "District column was renamed correctly."
   ]
  },
  {
   "cell_type": "markdown",
   "id": "656939dc-7cd3-4fca-8c4e-898622b430a8",
   "metadata": {},
   "source": [
    "Now, we should be able to merge the complaints dataset and the district boundary geojson file."
   ]
  },
  {
   "cell_type": "code",
   "execution_count": 21,
   "id": "10141626-1e7f-488b-95cf-68835b3582b7",
   "metadata": {},
   "outputs": [],
   "source": [
    "# Merge the dataframe and GeoDataFrame on a common field\n",
    "merged = gdf2.merge(counts, on='District')"
   ]
  },
  {
   "cell_type": "code",
   "execution_count": 22,
   "id": "3bb91b7a-25c9-4537-81b2-23d061973b04",
   "metadata": {},
   "outputs": [
    {
     "name": "stdout",
     "output_type": "stream",
     "text": [
      "<class 'geopandas.geodataframe.GeoDataFrame'>\n",
      "Int64Index: 22 entries, 0 to 21\n",
      "Data columns (total 3 columns):\n",
      " #   Column    Non-Null Count  Dtype   \n",
      "---  ------    --------------  -----   \n",
      " 0   District  22 non-null     int64   \n",
      " 1   geometry  22 non-null     geometry\n",
      " 2   count     22 non-null     int64   \n",
      "dtypes: geometry(1), int64(2)\n",
      "memory usage: 704.0 bytes\n"
     ]
    }
   ],
   "source": [
    "# get info for our merged data\n",
    "merged.info()"
   ]
  },
  {
   "cell_type": "code",
   "execution_count": 23,
   "id": "e9282a33-dc50-42c6-b990-39b294d4182c",
   "metadata": {},
   "outputs": [
    {
     "data": {
      "text/html": [
       "<div>\n",
       "<style scoped>\n",
       "    .dataframe tbody tr th:only-of-type {\n",
       "        vertical-align: middle;\n",
       "    }\n",
       "\n",
       "    .dataframe tbody tr th {\n",
       "        vertical-align: top;\n",
       "    }\n",
       "\n",
       "    .dataframe thead th {\n",
       "        text-align: right;\n",
       "    }\n",
       "</style>\n",
       "<table border=\"1\" class=\"dataframe\">\n",
       "  <thead>\n",
       "    <tr style=\"text-align: right;\">\n",
       "      <th></th>\n",
       "      <th>District</th>\n",
       "      <th>geometry</th>\n",
       "      <th>count</th>\n",
       "    </tr>\n",
       "  </thead>\n",
       "  <tbody>\n",
       "    <tr>\n",
       "      <th>0</th>\n",
       "      <td>16</td>\n",
       "      <td>POLYGON ((-75.19957 40.00912, -75.19799 40.008...</td>\n",
       "      <td>134</td>\n",
       "    </tr>\n",
       "    <tr>\n",
       "      <th>1</th>\n",
       "      <td>17</td>\n",
       "      <td>POLYGON ((-75.16599 39.94184, -75.16621 39.940...</td>\n",
       "      <td>72</td>\n",
       "    </tr>\n",
       "    <tr>\n",
       "      <th>2</th>\n",
       "      <td>18</td>\n",
       "      <td>POLYGON ((-75.18466 39.94851, -75.18633 39.947...</td>\n",
       "      <td>244</td>\n",
       "    </tr>\n",
       "    <tr>\n",
       "      <th>3</th>\n",
       "      <td>35</td>\n",
       "      <td>POLYGON ((-75.13011 40.05789, -75.12898 40.057...</td>\n",
       "      <td>261</td>\n",
       "    </tr>\n",
       "    <tr>\n",
       "      <th>4</th>\n",
       "      <td>39</td>\n",
       "      <td>POLYGON ((-75.17892 40.03175, -75.17782 40.031...</td>\n",
       "      <td>177</td>\n",
       "    </tr>\n",
       "  </tbody>\n",
       "</table>\n",
       "</div>"
      ],
      "text/plain": [
       "   District                                           geometry  count\n",
       "0        16  POLYGON ((-75.19957 40.00912, -75.19799 40.008...    134\n",
       "1        17  POLYGON ((-75.16599 39.94184, -75.16621 39.940...     72\n",
       "2        18  POLYGON ((-75.18466 39.94851, -75.18633 39.947...    244\n",
       "3        35  POLYGON ((-75.13011 40.05789, -75.12898 40.057...    261\n",
       "4        39  POLYGON ((-75.17892 40.03175, -75.17782 40.031...    177"
      ]
     },
     "execution_count": 23,
     "metadata": {},
     "output_type": "execute_result"
    }
   ],
   "source": [
    "#check if the new dataframe looks right\n",
    "merged.head()"
   ]
  },
  {
   "cell_type": "markdown",
   "id": "fd4e38da-6939-4aa2-8179-54face5683dc",
   "metadata": {},
   "source": [
    "With the output above, we can see that the datasets have been merged."
   ]
  },
  {
   "cell_type": "markdown",
   "id": "1fae34b2-da7e-428e-93ad-fd93a38be8ad",
   "metadata": {},
   "source": [
    "Now let's try plotting the data."
   ]
  },
  {
   "cell_type": "code",
   "execution_count": 24,
   "id": "b10de000-b996-4b1a-a134-f0dc256c6ca9",
   "metadata": {},
   "outputs": [
    {
     "data": {
      "image/png": "[encoded data removed]",
      "text/plain": [
       "<Figure size 1000x1000 with 1 Axes>"
      ]
     },
     "metadata": {},
     "output_type": "display_data"
    }
   ],
   "source": [
    "# Plot the merged GeoDataFrame\n",
    "fig, ax = plt.subplots(figsize= (10,10))\n",
    "merged.plot(ax=ax, column='count',  cmap='GnBu', scheme='fisher_jenks', legend=True)\n",
    "merged.plot(ax=ax, facecolor='none', edgecolor='white')\n",
    "\n",
    "# Add a title and axis labels\n",
    "ax.set_title(\"Complaints Against Police in Philadelphia since 2016\")\n",
    "ax.set_xlabel(\"Longitude\")\n",
    "ax.set_ylabel(\"Latitude\")\n",
    "\n",
    "#get rid of numbers on bottom of map\n",
    "ax.axis('off')\n",
    "plt.savefig(\"Complaints Against Police in Philadelphia.pdf\", transparent=True)"
   ]
  },
  {
   "cell_type": "markdown",
   "id": "13bda8e6-c33c-4ae5-8f51-bcae5b017f57",
   "metadata": {},
   "source": [
    "The chloropleth map above shows that CAP counts are significantly higher in some police districts other others. It would be interesting to explore how this map coorelates to other indicators my group has explored such as poverty and unemployment rates, as well as racial demographic data."
   ]
  }
 ],
 "metadata": {
  "kernelspec": {
   "display_name": "Python 3 (ipykernel)",
   "language": "python",
   "name": "python3"
  },
  "language_info": {
   "codemirror_mode": {
    "name": "ipython",
    "version": 3
   },
   "file_extension": ".py",
   "mimetype": "text/x-python",
   "name": "python",
   "nbconvert_exporter": "python",
   "pygments_lexer": "ipython3",
   "version": "3.10.8"
  }
 },
 "nbformat": 4,
 "nbformat_minor": 5
}
